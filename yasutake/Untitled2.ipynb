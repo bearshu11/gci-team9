{
 "cells": [
  {
   "cell_type": "code",
   "execution_count": 2,
   "metadata": {},
   "outputs": [
    {
     "ename": "ModuleNotFoundError",
     "evalue": "No module named 'sklearn.decompositon'",
     "output_type": "error",
     "traceback": [
      "\u001b[0;31m---------------------------------------------------------------------------\u001b[0m",
      "\u001b[0;31mModuleNotFoundError\u001b[0m                       Traceback (most recent call last)",
      "\u001b[0;32m<ipython-input-2-d7cca980b47b>\u001b[0m in \u001b[0;36m<module>\u001b[0;34m()\u001b[0m\n\u001b[0;32m----> 1\u001b[0;31m \u001b[0;32mfrom\u001b[0m \u001b[0msklearn\u001b[0m\u001b[0;34m.\u001b[0m\u001b[0mdecompositon\u001b[0m \u001b[0;32mimport\u001b[0m \u001b[0mNMF\u001b[0m\u001b[0;34m\u001b[0m\u001b[0m\n\u001b[0m",
      "\u001b[0;31mModuleNotFoundError\u001b[0m: No module named 'sklearn.decompositon'"
     ]
    }
   ],
   "source": [
    "from sklearn.decompositon import NMF"
   ]
  },
  {
   "cell_type": "code",
   "execution_count": 5,
   "metadata": {
    "collapsed": true
   },
   "outputs": [],
   "source": [
    "from sklearn.decomposition import NMF\n",
    "from numpy import nan as NA"
   ]
  },
  {
   "cell_type": "code",
   "execution_count": 8,
   "metadata": {
    "collapsed": true
   },
   "outputs": [],
   "source": [
    "import numpy as np\n",
    "import pandas as pd\n",
    "import time"
   ]
  },
  {
   "cell_type": "code",
   "execution_count": 9,
   "metadata": {},
   "outputs": [
    {
     "name": "stdout",
     "output_type": "stream",
     "text": [
      "****************************\n",
      "k: 1\n",
      "Pは\n",
      "[[ 1.11230683]\n",
      " [ 0.83501252]\n",
      " [ 0.95442013]\n",
      " [ 0.82847958]\n",
      " [ 1.19620409]]\n",
      "Q^Tは\n",
      "[[ 3.02525029  1.53324123  4.17988875  2.98592215]]\n",
      "P×Q^Tは\n",
      "[[ 3.36500655  1.70543469  4.64931879  3.32126159]\n",
      " [ 2.52612188  1.28027563  3.49025945  2.49328239]\n",
      " [ 2.88735977  1.46335629  3.98936995  2.8498242 ]\n",
      " [ 2.50635809  1.27025905  3.46295247  2.47377553]\n",
      " [ 3.61881676  1.83406943  5.          3.57177228]]\n",
      "R-P×Q^Tは\n",
      "5.29312533898\n",
      "****************************\n",
      "k: 2\n",
      "Pは\n",
      "[[ 0.25533737  2.31920431]\n",
      " [ 0.2749493   1.8405892 ]\n",
      " [ 1.74751251  0.10992921]\n",
      " [ 1.39405084  0.18346339]\n",
      " [ 1.39101969  0.25440826]]\n",
      "Q^Tは\n",
      "[[ 0.43984129  0.49350833  3.05253861  2.85396988]\n",
      " [ 2.10749104  1.23916027  2.96318486  0.11698132]]\n",
      "P×Q^Tは\n",
      "[[ 5.00001021  2.99987694  7.65165828  1.00002874]\n",
      " [ 3.99995931  2.41647477  6.29329943  1.00001158]\n",
      " [ 1.00030298  0.99863188  5.66008999  5.00020773]\n",
      " [ 0.99980858  0.91531625  4.79902998  4.00004091]\n",
      " [ 1.14799101  1.0017324   5.          3.9996893 ]]\n",
      "R-P×Q^Tは\n",
      "0.00227169772504\n",
      "****************************\n",
      "k: 3\n",
      "Pは\n",
      "[[  6.41945008e-01   1.79369605e+00   1.39546321e-03]\n",
      " [  3.46780220e-01   1.62234992e+00   2.51606194e-01]\n",
      " [  2.22719795e-01   2.06621657e-01   2.67629594e+00]\n",
      " [  3.80847959e-01   3.65790496e-02   1.97393324e+00]\n",
      " [  2.64679677e+00   4.49843383e-01   6.96615644e-02]]\n",
      "Q^Tは\n",
      "[[ 2.26829914  0.09293973  1.61617486  1.4595797 ]\n",
      " [ 1.97570148  1.63907718  1.56886628  0.03389145]\n",
      " [ 0.03235696  0.23937137  0.23785692  1.74417203]]\n",
      "P×Q^Tは\n",
      "[[ 4.9999764   3.00000248  3.85189654  1.00019479]\n",
      " [ 4.00002162  2.7516137   3.16555382  0.99998165]\n",
      " [ 1.00001464  0.99999698  1.32069138  5.00000052]\n",
      " [ 1.00001686  0.56785489  1.14241821  3.99999681]\n",
      " [ 6.8947371   0.99999558  5.          3.99995842]]\n",
      "R-P×Q^Tは\n",
      "0.000203904609335\n"
     ]
    }
   ],
   "source": [
    "R = np.array([\n",
    "        [5, 3, NA, 1],\n",
    "        [4, NA, NA, 1],\n",
    "        [1, 1, NA, 5],\n",
    "        [1, NA, NA, 4],\n",
    "        [NA, 1, 5, 4],\n",
    "        ]\n",
    "    )\n",
    "\n",
    "# 特徴の次元kを1から3まで変えてみる\n",
    "for k in range(1,4):\n",
    "    model = NMF(n_components=k, solver='mu', init='random', random_state=0)\n",
    "    P = model.fit_transform(R)\n",
    "    Q = model.components_\n",
    "    print(\"****************************\")\n",
    "    print(\"k:\",k)\n",
    "    print(\"Pは\")\n",
    "    print(P)\n",
    "    print(\"Q^Tは\")\n",
    "    print(Q)\n",
    "    print(\"P×Q^Tは\")\n",
    "    print(np.dot(P,Q))\n",
    "    print(\"R-P×Q^Tは\")\n",
    "    print(model.reconstruction_err_ )"
   ]
  },
  {
   "cell_type": "code",
   "execution_count": 10,
   "metadata": {
    "collapsed": true
   },
   "outputs": [],
   "source": [
    "def mk_mat(df):\n",
    "    "
   ]
  },
  {
   "cell_type": "code",
   "execution_count": null,
   "metadata": {
    "collapsed": true
   },
   "outputs": [],
   "source": [
    "for i in range(df['user_id'])"
   ]
  }
 ],
 "metadata": {
  "kernelspec": {
   "display_name": "Python 3",
   "language": "python",
   "name": "python3"
  },
  "language_info": {
   "codemirror_mode": {
    "name": "ipython",
    "version": 3
   },
   "file_extension": ".py",
   "mimetype": "text/x-python",
   "name": "python",
   "nbconvert_exporter": "python",
   "pygments_lexer": "ipython3",
   "version": "3.6.2"
  }
 },
 "nbformat": 4,
 "nbformat_minor": 2
}
