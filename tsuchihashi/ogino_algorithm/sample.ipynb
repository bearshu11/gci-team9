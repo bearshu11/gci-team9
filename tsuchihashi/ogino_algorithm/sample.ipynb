{
 "cells": [
  {
   "cell_type": "markdown",
   "metadata": {},
   "source": [
    "### collaborative_filtering.pyをインポートしてNMF後の行列から提出形式のファイルを出力するサンプル(カテゴリAの例)"
   ]
  },
  {
   "cell_type": "markdown",
   "metadata": {},
   "source": [
    "- ユーザー×商品のnumpy配列はデータサイズが大きいので、dtypeをfloat16にする、使い終わったらdelするなどすると良いと思います。Aの場合はfloat64だと8byte×58658×13866で約6GB、float16だと約1.5GBになります"
   ]
  },
  {
   "cell_type": "code",
   "execution_count": 1,
   "metadata": {
    "collapsed": true
   },
   "outputs": [],
   "source": [
    "import numpy as np\n",
    "import pandas as pd\n",
    "import collaborative_filtering as cf"
   ]
  },
  {
   "cell_type": "code",
   "execution_count": 2,
   "metadata": {
    "collapsed": true
   },
   "outputs": [],
   "source": [
    "train = pd.read_table('../data/train/train_A.tsv')"
   ]
  },
  {
   "cell_type": "code",
   "execution_count": 3,
   "metadata": {},
   "outputs": [
    {
     "name": "stdout",
     "output_type": "stream",
     "text": [
      "user_ids\n",
      "['0000000_A' '0000001_A' '0000002_A' ..., '0058655_A' '0058656_A'\n",
      " '0058657_A']\n",
      "product_ids\n",
      "['00000000_a' '00000001_a' '00000002_a' ..., '00014120_a' '00014121_a'\n",
      " '00014122_a']\n",
      "mat\n",
      "[[ 0.62695312  0.40820312  0.35913086 ...,  0.16674805  0.29785156\n",
      "   0.30151367]\n",
      " [ 0.77099609  0.24951172  0.52734375 ...,  0.38867188  0.61376953\n",
      "   0.86767578]\n",
      " [ 0.30249023  0.5234375   0.62841797 ...,  0.5859375   0.22753906\n",
      "   0.52636719]\n",
      " ..., \n",
      " [ 0.4128418   0.75        0.87646484 ...,  0.25805664  0.75927734\n",
      "   0.00705338]\n",
      " [ 0.58789062  0.08526611  0.0914917  ...,  0.35302734  0.42456055\n",
      "   0.66796875]\n",
      " [ 0.17871094  0.83349609  0.75097656 ...,  0.34838867  0.81054688\n",
      "   0.66650391]]\n"
     ]
    }
   ],
   "source": [
    "#スコア行列の行に対応するユーザーIDのリスト\n",
    "user_ids = train['user_id'].unique()\n",
    "user_ids.sort()\n",
    "#スコア行列の列に対応する商品IDのリスト\n",
    "product_ids = train['product_id'].unique()\n",
    "product_ids.sort()\n",
    "#NMF後のスコア行列(ここでは例として乱数行列を用いてます)\n",
    "mat = np.random.rand(len(user_ids), len(product_ids)).astype('float16')\n",
    "\n",
    "print('user_ids')\n",
    "print(user_ids)\n",
    "print('product_ids')\n",
    "print(product_ids)\n",
    "print('mat')\n",
    "print(mat)"
   ]
  },
  {
   "cell_type": "code",
   "execution_count": 4,
   "metadata": {
    "collapsed": true
   },
   "outputs": [],
   "source": [
    "#スコアを調整する行列\n",
    "#(例えば、一度購入した商品はスコア行列を計算する際には高スコアでもレコメンドはしたくない、という際に\n",
    "#一度購入した商品のスコアは-10点などとすればレコメンドはされなくなります。)\n",
    "#ここでは一度購入した商品は-10点、他は0点(そのまま)としています\n",
    "mat_add = ((cf.make_eventcountmat(data=train, event_type=3, users=user_ids, products=product_ids) != 0) * (-10)).astype('float16')"
   ]
  },
  {
   "cell_type": "code",
   "execution_count": 5,
   "metadata": {
    "collapsed": true
   },
   "outputs": [],
   "source": [
    "test = pd.read_table('../data/test.tsv')"
   ]
  },
  {
   "cell_type": "code",
   "execution_count": 8,
   "metadata": {},
   "outputs": [
    {
     "name": "stdout",
     "output_type": "stream",
     "text": [
      "test_A\n"
     ]
    },
    {
     "data": {
      "text/html": [
       "<div>\n",
       "<table border=\"1\" class=\"dataframe\">\n",
       "  <thead>\n",
       "    <tr style=\"text-align: right;\">\n",
       "      <th></th>\n",
       "      <th>user_id</th>\n",
       "    </tr>\n",
       "  </thead>\n",
       "  <tbody>\n",
       "    <tr>\n",
       "      <th>0</th>\n",
       "      <td>0000008_A</td>\n",
       "    </tr>\n",
       "    <tr>\n",
       "      <th>1</th>\n",
       "      <td>0000719_A</td>\n",
       "    </tr>\n",
       "    <tr>\n",
       "      <th>2</th>\n",
       "      <td>0000720_A</td>\n",
       "    </tr>\n",
       "    <tr>\n",
       "      <th>3</th>\n",
       "      <td>0001355_A</td>\n",
       "    </tr>\n",
       "    <tr>\n",
       "      <th>4</th>\n",
       "      <td>0002685_A</td>\n",
       "    </tr>\n",
       "  </tbody>\n",
       "</table>\n",
       "</div>"
      ],
      "text/plain": [
       "     user_id\n",
       "0  0000008_A\n",
       "1  0000719_A\n",
       "2  0000720_A\n",
       "3  0001355_A\n",
       "4  0002685_A"
      ]
     },
     "execution_count": 8,
     "metadata": {},
     "output_type": "execute_result"
    }
   ],
   "source": [
    "#テストデータからユーザーidのカテゴリがAのものを取得\n",
    "test_A = test[test['user_id'].map(lambda x: x[-1]) == 'A']\n",
    "print('test_A')\n",
    "test_A.head()"
   ]
  },
  {
   "cell_type": "code",
   "execution_count": 9,
   "metadata": {},
   "outputs": [
    {
     "name": "stdout",
     "output_type": "stream",
     "text": [
      "submit_A\n"
     ]
    },
    {
     "data": {
      "text/html": [
       "<div>\n",
       "<table border=\"1\" class=\"dataframe\">\n",
       "  <thead>\n",
       "    <tr style=\"text-align: right;\">\n",
       "      <th></th>\n",
       "      <th>0</th>\n",
       "      <th>1</th>\n",
       "      <th>2</th>\n",
       "    </tr>\n",
       "  </thead>\n",
       "  <tbody>\n",
       "    <tr>\n",
       "      <th>0</th>\n",
       "      <td>0000008_A</td>\n",
       "      <td>00012521_a</td>\n",
       "      <td>0</td>\n",
       "    </tr>\n",
       "    <tr>\n",
       "      <th>1</th>\n",
       "      <td>0000008_A</td>\n",
       "      <td>00005377_a</td>\n",
       "      <td>1</td>\n",
       "    </tr>\n",
       "    <tr>\n",
       "      <th>2</th>\n",
       "      <td>0000008_A</td>\n",
       "      <td>00002600_a</td>\n",
       "      <td>2</td>\n",
       "    </tr>\n",
       "    <tr>\n",
       "      <th>3</th>\n",
       "      <td>0000008_A</td>\n",
       "      <td>00008547_a</td>\n",
       "      <td>3</td>\n",
       "    </tr>\n",
       "    <tr>\n",
       "      <th>4</th>\n",
       "      <td>0000008_A</td>\n",
       "      <td>00008984_a</td>\n",
       "      <td>4</td>\n",
       "    </tr>\n",
       "  </tbody>\n",
       "</table>\n",
       "</div>"
      ],
      "text/plain": [
       "           0           1  2\n",
       "0  0000008_A  00012521_a  0\n",
       "1  0000008_A  00005377_a  1\n",
       "2  0000008_A  00002600_a  2\n",
       "3  0000008_A  00008547_a  3\n",
       "4  0000008_A  00008984_a  4"
      ]
     },
     "execution_count": 9,
     "metadata": {},
     "output_type": "execute_result"
    }
   ],
   "source": [
    "#テストデータ、スコア行列、ユーザーIDリスト、商品IDリストからレコメンドを求める\n",
    "submit_A = cf.make_recommend(test_A, mat + mat_add, user_ids, product_ids)\n",
    "print('submit_A')\n",
    "submit_A.head()"
   ]
  },
  {
   "cell_type": "code",
   "execution_count": 10,
   "metadata": {
    "collapsed": true
   },
   "outputs": [],
   "source": [
    "#提出形式で保存\n",
    "submit_A.to_csv('submit_A.tsv', sep='\\t', header=False, index=False, encoding='utf-8', line_terminator='\\r\\n')"
   ]
  },
  {
   "cell_type": "code",
   "execution_count": 11,
   "metadata": {
    "collapsed": true
   },
   "outputs": [],
   "source": [
    "#4カテゴリを合体するコード(もしくはメモ帳などでコピペ)\n",
    "submit_A = pd.read_table('submit_A.tsv', header=None)\n",
    "submit_B = pd.read_table('submit_B.tsv', header=None)\n",
    "submit_C = pd.read_table('submit_C.tsv', header=None)\n",
    "submit_D = pd.read_table('submit_D.tsv', header=None)\n",
    "submit = pd.concat([submit_A, submit_B, submit_C, submit_D], axis=0)\n",
    "submit.to_csv('submit.tsv', sep='\\t', header=False, index=False, encoding='utf-8', line_terminator='\\r\\n')"
   ]
  },
  {
   "cell_type": "markdown",
   "metadata": {},
   "source": [
    "### (NMFについて)\n",
    "\n",
    "欠損値対応のNMFのやり方。\n",
    "\n",
    "- scikit-learnのバージョンを最新(0.19.0)にする\n",
    "- pythonのパッケージフォルダのsklearn内のdecomposition/nmf.py、decomposition/tests/test_nmf.py、utils/validation.pyをyasutake_everyoneフォルダ内のもので入れ替える\n",
    "\n",
    "もしくは、上手くいかない、sklearnをいじりたくない場合は、交換済みのものをsklearn_newという名前で置いたのでフォルダごと作業ディレクトリに置いてインポートのsklearnをsklearn_newとすれば動くと思います。"
   ]
  },
  {
   "cell_type": "code",
   "execution_count": 13,
   "metadata": {},
   "outputs": [
    {
     "name": "stdout",
     "output_type": "stream",
     "text": [
      "scoremat\n",
      "[[  1.   2.   3.  nan  nan]\n",
      " [  4.   5.  nan   6.  nan]\n",
      " [ nan   7.   8.   9.   1.]\n",
      " [  2.  nan   3.   4.   5.]]\n",
      "mat\n",
      "[[  0.97508272   2.32630516   2.73074583   3.04327173   0.31441997]\n",
      " [  3.98845144   4.99852927   3.99916764   6.01006864  12.97764554]\n",
      " [  2.89913262   6.89090902   8.07829953   9.01167511   1.00136369]\n",
      " [  2.03457956   3.17586486   3.03386093   3.95812822   4.99972671]]\n"
     ]
    }
   ],
   "source": [
    "from sklearn.decomposition import NMF\n",
    "\n",
    "from numpy import nan as NA\n",
    "#穴あき評価値行列\n",
    "scoremat = np.array([\n",
    "    [1, 2, 3, NA, NA],\n",
    "    [4, 5, NA, 6, NA],\n",
    "    [NA, 7, 8, 9, 1],\n",
    "    [2, NA, 3, 4, 5]\n",
    "])\n",
    "\n",
    "#n_componentsはユーザーの特徴ベクトルの数なので、本番では100~1000くらいでしょうか?\n",
    "model = NMF(n_components=2, init='random', random_state=1234, solver='mu', max_iter=200)\n",
    "\n",
    "P = model.fit_transform(scoremat)\n",
    "Q = model.components_\n",
    "mat = np.dot(P, Q)\n",
    "\n",
    "print('scoremat')\n",
    "print(scoremat)\n",
    "print('mat')\n",
    "print(mat)"
   ]
  }
 ],
 "metadata": {
  "kernelspec": {
   "display_name": "Python 2",
   "language": "python",
   "name": "python2"
  },
  "language_info": {
   "codemirror_mode": {
    "name": "ipython",
    "version": 2
   },
   "file_extension": ".py",
   "mimetype": "text/x-python",
   "name": "python",
   "nbconvert_exporter": "python",
   "pygments_lexer": "ipython2",
   "version": "2.7.11"
  }
 },
 "nbformat": 4,
 "nbformat_minor": 2
}
