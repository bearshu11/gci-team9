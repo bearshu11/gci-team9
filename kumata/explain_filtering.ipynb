{
 "cells": [
  {
   "cell_type": "markdown",
   "metadata": {},
   "source": [
    "### 下準備"
   ]
  },
  {
   "cell_type": "code",
   "execution_count": 9,
   "metadata": {
    "collapsed": true
   },
   "outputs": [],
   "source": [
    "import pandas as pd"
   ]
  },
  {
   "cell_type": "markdown",
   "metadata": {},
   "source": [
    "#### サンプルとしてtrain_A.tsvを用いる"
   ]
  },
  {
   "cell_type": "code",
   "execution_count": 10,
   "metadata": {
    "collapsed": true
   },
   "outputs": [],
   "source": [
    "df = pd.read_csv(\"data/train/train_A.tsv\", sep='\\t')\n",
    "# b_df = pd.read_csv(\"data/train/train_B.tsv\", sep='\\t')\n",
    "# c_df = pd.read_csv(\"data/train/train_C.tsv\", sep='\\t')\n",
    "# d_df = pd.read_csv(\"data/train/train_D.tsv\", sep='\\t')"
   ]
  },
  {
   "cell_type": "code",
   "execution_count": 11,
   "metadata": {
    "collapsed": true
   },
   "outputs": [],
   "source": [
    "test_df = pd.read_csv(\"data/test.tsv\", sep='\\t')\n",
    "sample_df = pd.read_csv(\"data/sample_submit.tsv\", sep='\\t', header=None, names=[\"user_id\", \"product_id\", \"rank\"])"
   ]
  },
  {
   "cell_type": "markdown",
   "metadata": {},
   "source": [
    "# 目的（何をデータから見つければよいのか？）"
   ]
  },
  {
   "cell_type": "markdown",
   "metadata": {},
   "source": [
    "## 評価関数"
   ]
  },
  {
   "cell_type": "markdown",
   "metadata": {},
   "source": [
    ">予測精度の評価は、nDCG(normalized discounted cumulative gain)を使用します（右図参照）。この値は、モデルの性能が良いほど大きくなり、1に近くなります。**関連度（relevance）はcv（コンバージョン）を3、cl（広告をクリック）を2、pd（商品ページ閲覧）を1、それ以外は0**とします。ただし**コンバージョンは広告経由のみ評価対象**とします。**クエリごとの最大推薦数kは22**とします。予測値の出力形式についてはダウンロードページの応募用サンプルファイルをご参照ください。また、test.tsvに記載されているすべてのユーザーに対して予測を行ってください。  \n",
    "引用: https://deepanalytics.jp/compe/45"
   ]
  },
  {
   "cell_type": "markdown",
   "metadata": {},
   "source": [
    ">![image](https://i.deepanalytics.jp/i/wh0t4i3541)"
   ]
  },
  {
   "cell_type": "markdown",
   "metadata": {},
   "source": [
    "### 応募用サンプルファイル"
   ]
  },
  {
   "cell_type": "code",
   "execution_count": 12,
   "metadata": {},
   "outputs": [
    {
     "data": {
      "text/html": [
       "<div>\n",
       "<style>\n",
       "    .dataframe thead tr:only-child th {\n",
       "        text-align: right;\n",
       "    }\n",
       "\n",
       "    .dataframe thead th {\n",
       "        text-align: left;\n",
       "    }\n",
       "\n",
       "    .dataframe tbody tr th {\n",
       "        vertical-align: top;\n",
       "    }\n",
       "</style>\n",
       "<table border=\"1\" class=\"dataframe\">\n",
       "  <thead>\n",
       "    <tr style=\"text-align: right;\">\n",
       "      <th></th>\n",
       "      <th>user_id</th>\n",
       "      <th>product_id</th>\n",
       "      <th>rank</th>\n",
       "    </tr>\n",
       "  </thead>\n",
       "  <tbody>\n",
       "    <tr>\n",
       "      <th>0</th>\n",
       "      <td>0000008_A</td>\n",
       "      <td>00000000_a</td>\n",
       "      <td>0</td>\n",
       "    </tr>\n",
       "    <tr>\n",
       "      <th>1</th>\n",
       "      <td>0000008_A</td>\n",
       "      <td>00000001_a</td>\n",
       "      <td>1</td>\n",
       "    </tr>\n",
       "    <tr>\n",
       "      <th>2</th>\n",
       "      <td>0000008_A</td>\n",
       "      <td>00000002_a</td>\n",
       "      <td>2</td>\n",
       "    </tr>\n",
       "    <tr>\n",
       "      <th>3</th>\n",
       "      <td>0000008_A</td>\n",
       "      <td>00000003_a</td>\n",
       "      <td>3</td>\n",
       "    </tr>\n",
       "    <tr>\n",
       "      <th>4</th>\n",
       "      <td>0000008_A</td>\n",
       "      <td>00000004_a</td>\n",
       "      <td>4</td>\n",
       "    </tr>\n",
       "    <tr>\n",
       "      <th>5</th>\n",
       "      <td>0000008_A</td>\n",
       "      <td>00000005_a</td>\n",
       "      <td>5</td>\n",
       "    </tr>\n",
       "    <tr>\n",
       "      <th>6</th>\n",
       "      <td>0000008_A</td>\n",
       "      <td>00000006_a</td>\n",
       "      <td>6</td>\n",
       "    </tr>\n",
       "    <tr>\n",
       "      <th>7</th>\n",
       "      <td>0000008_A</td>\n",
       "      <td>00000007_a</td>\n",
       "      <td>7</td>\n",
       "    </tr>\n",
       "    <tr>\n",
       "      <th>8</th>\n",
       "      <td>0000008_A</td>\n",
       "      <td>00000008_a</td>\n",
       "      <td>8</td>\n",
       "    </tr>\n",
       "    <tr>\n",
       "      <th>9</th>\n",
       "      <td>0000008_A</td>\n",
       "      <td>00000009_a</td>\n",
       "      <td>9</td>\n",
       "    </tr>\n",
       "    <tr>\n",
       "      <th>10</th>\n",
       "      <td>0000008_A</td>\n",
       "      <td>00000010_a</td>\n",
       "      <td>10</td>\n",
       "    </tr>\n",
       "    <tr>\n",
       "      <th>11</th>\n",
       "      <td>0000008_A</td>\n",
       "      <td>00000011_a</td>\n",
       "      <td>11</td>\n",
       "    </tr>\n",
       "    <tr>\n",
       "      <th>12</th>\n",
       "      <td>0000008_A</td>\n",
       "      <td>00000012_a</td>\n",
       "      <td>12</td>\n",
       "    </tr>\n",
       "    <tr>\n",
       "      <th>13</th>\n",
       "      <td>0000008_A</td>\n",
       "      <td>00000013_a</td>\n",
       "      <td>13</td>\n",
       "    </tr>\n",
       "    <tr>\n",
       "      <th>14</th>\n",
       "      <td>0000008_A</td>\n",
       "      <td>00000014_a</td>\n",
       "      <td>14</td>\n",
       "    </tr>\n",
       "    <tr>\n",
       "      <th>15</th>\n",
       "      <td>0000008_A</td>\n",
       "      <td>00000015_a</td>\n",
       "      <td>15</td>\n",
       "    </tr>\n",
       "    <tr>\n",
       "      <th>16</th>\n",
       "      <td>0000008_A</td>\n",
       "      <td>00000016_a</td>\n",
       "      <td>16</td>\n",
       "    </tr>\n",
       "    <tr>\n",
       "      <th>17</th>\n",
       "      <td>0000008_A</td>\n",
       "      <td>00000017_a</td>\n",
       "      <td>17</td>\n",
       "    </tr>\n",
       "    <tr>\n",
       "      <th>18</th>\n",
       "      <td>0000008_A</td>\n",
       "      <td>00000018_a</td>\n",
       "      <td>18</td>\n",
       "    </tr>\n",
       "    <tr>\n",
       "      <th>19</th>\n",
       "      <td>0000008_A</td>\n",
       "      <td>00000019_a</td>\n",
       "      <td>19</td>\n",
       "    </tr>\n",
       "    <tr>\n",
       "      <th>20</th>\n",
       "      <td>0000008_A</td>\n",
       "      <td>00000020_a</td>\n",
       "      <td>20</td>\n",
       "    </tr>\n",
       "    <tr>\n",
       "      <th>21</th>\n",
       "      <td>0000008_A</td>\n",
       "      <td>00000021_a</td>\n",
       "      <td>21</td>\n",
       "    </tr>\n",
       "    <tr>\n",
       "      <th>22</th>\n",
       "      <td>0000719_A</td>\n",
       "      <td>00000000_a</td>\n",
       "      <td>0</td>\n",
       "    </tr>\n",
       "    <tr>\n",
       "      <th>23</th>\n",
       "      <td>0000719_A</td>\n",
       "      <td>00000001_a</td>\n",
       "      <td>1</td>\n",
       "    </tr>\n",
       "    <tr>\n",
       "      <th>24</th>\n",
       "      <td>0000719_A</td>\n",
       "      <td>00000002_a</td>\n",
       "      <td>2</td>\n",
       "    </tr>\n",
       "  </tbody>\n",
       "</table>\n",
       "</div>"
      ],
      "text/plain": [
       "      user_id  product_id  rank\n",
       "0   0000008_A  00000000_a     0\n",
       "1   0000008_A  00000001_a     1\n",
       "2   0000008_A  00000002_a     2\n",
       "3   0000008_A  00000003_a     3\n",
       "4   0000008_A  00000004_a     4\n",
       "5   0000008_A  00000005_a     5\n",
       "6   0000008_A  00000006_a     6\n",
       "7   0000008_A  00000007_a     7\n",
       "8   0000008_A  00000008_a     8\n",
       "9   0000008_A  00000009_a     9\n",
       "10  0000008_A  00000010_a    10\n",
       "11  0000008_A  00000011_a    11\n",
       "12  0000008_A  00000012_a    12\n",
       "13  0000008_A  00000013_a    13\n",
       "14  0000008_A  00000014_a    14\n",
       "15  0000008_A  00000015_a    15\n",
       "16  0000008_A  00000016_a    16\n",
       "17  0000008_A  00000017_a    17\n",
       "18  0000008_A  00000018_a    18\n",
       "19  0000008_A  00000019_a    19\n",
       "20  0000008_A  00000020_a    20\n",
       "21  0000008_A  00000021_a    21\n",
       "22  0000719_A  00000000_a     0\n",
       "23  0000719_A  00000001_a     1\n",
       "24  0000719_A  00000002_a     2"
      ]
     },
     "execution_count": 12,
     "metadata": {},
     "output_type": "execute_result"
    }
   ],
   "source": [
    "sample_df.head(25)"
   ]
  },
  {
   "cell_type": "markdown",
   "metadata": {},
   "source": [
    "つまり、**ユーザーごとに商品をランキング付けして上から２２個推薦すれば、nDCGの評価関数を用いて評価値がわかる。**"
   ]
  },
  {
   "cell_type": "markdown",
   "metadata": {},
   "source": [
    "# どうやって商品をランキング付けすればよいのか？"
   ]
  },
  {
   "cell_type": "markdown",
   "metadata": {},
   "source": [
    "## 1. 協調フィルタリング"
   ]
  },
  {
   "cell_type": "markdown",
   "metadata": {},
   "source": [
    "協調フィルタリングとは、**ユーザーとアイテムのマトリックスから、アイテム同士の類似度やユーザー同士の類似度を算出して、その類似度から推薦するアイテムを決定する**手法。  \n",
    "例えば、ユーザー同士の類似度を用いるとすると、その手順は、  \n",
    "\n",
    "1. 類似度からユーザーAの好みと類似した好みをもつユーザーBを見つける。  \n",
    "2. ユーザーBのアイテムに対する評価値からユーザーAがまだ評価していないアイテムの評価値を算出する。  \n",
    "3. ２で算出した評価値が高い順にユーザーAに対して推薦する。  \n",
    "\n",
    "といったようになる。  "
   ]
  },
  {
   "cell_type": "markdown",
   "metadata": {},
   "source": [
    "以上より、**作業の流れ**としては、  \n",
    "\n",
    "1. 与えられたデータからユーザーのアイテムに対する評価値のマトリックスを作成する。\n",
    "2. マトリックスから類似度を計算する。\n",
    "3. 様々なチューニング方法を試してみる。"
   ]
  },
  {
   "cell_type": "markdown",
   "metadata": {},
   "source": [
    "### 1-1. 与えられたデータからユーザーとアイテムのマトリックスを作成する。"
   ]
  },
  {
   "cell_type": "markdown",
   "metadata": {},
   "source": [
    "##### 1-1-1. 与えられたデータはどんなデータか？"
   ]
  },
  {
   "cell_type": "markdown",
   "metadata": {},
   "source": [
    "ユーザー*(user_id)*が商品*(procuct_id)*に対して*event_type*という行動を*time_stamp*時に行ったというデータが与えられている。"
   ]
  },
  {
   "cell_type": "code",
   "execution_count": 22,
   "metadata": {
    "scrolled": false
   },
   "outputs": [
    {
     "data": {
      "text/html": [
       "<div>\n",
       "<style>\n",
       "    .dataframe thead tr:only-child th {\n",
       "        text-align: right;\n",
       "    }\n",
       "\n",
       "    .dataframe thead th {\n",
       "        text-align: left;\n",
       "    }\n",
       "\n",
       "    .dataframe tbody tr th {\n",
       "        vertical-align: top;\n",
       "    }\n",
       "</style>\n",
       "<table border=\"1\" class=\"dataframe\">\n",
       "  <thead>\n",
       "    <tr style=\"text-align: right;\">\n",
       "      <th></th>\n",
       "      <th>user_id</th>\n",
       "      <th>product_id</th>\n",
       "      <th>event_type</th>\n",
       "      <th>ad</th>\n",
       "      <th>time_stamp</th>\n",
       "    </tr>\n",
       "  </thead>\n",
       "  <tbody>\n",
       "    <tr>\n",
       "      <th>0</th>\n",
       "      <td>0000000_A</td>\n",
       "      <td>00009250_a</td>\n",
       "      <td>1</td>\n",
       "      <td>-1</td>\n",
       "      <td>2017-04-08 12:09:04.629</td>\n",
       "    </tr>\n",
       "    <tr>\n",
       "      <th>1</th>\n",
       "      <td>0000000_A</td>\n",
       "      <td>00009250_a</td>\n",
       "      <td>1</td>\n",
       "      <td>-1</td>\n",
       "      <td>2017-04-27 12:55:57.783</td>\n",
       "    </tr>\n",
       "    <tr>\n",
       "      <th>2</th>\n",
       "      <td>0000000_A</td>\n",
       "      <td>00014068_a</td>\n",
       "      <td>1</td>\n",
       "      <td>-1</td>\n",
       "      <td>2017-04-08 11:57:53.746</td>\n",
       "    </tr>\n",
       "    <tr>\n",
       "      <th>3</th>\n",
       "      <td>0000000_A</td>\n",
       "      <td>00001254_a</td>\n",
       "      <td>1</td>\n",
       "      <td>-1</td>\n",
       "      <td>2017-04-08 12:04:26.008</td>\n",
       "    </tr>\n",
       "    <tr>\n",
       "      <th>4</th>\n",
       "      <td>0000000_A</td>\n",
       "      <td>00003316_a</td>\n",
       "      <td>1</td>\n",
       "      <td>-1</td>\n",
       "      <td>2017-04-08 12:05:31.326</td>\n",
       "    </tr>\n",
       "  </tbody>\n",
       "</table>\n",
       "</div>"
      ],
      "text/plain": [
       "     user_id  product_id  event_type  ad               time_stamp\n",
       "0  0000000_A  00009250_a           1  -1  2017-04-08 12:09:04.629\n",
       "1  0000000_A  00009250_a           1  -1  2017-04-27 12:55:57.783\n",
       "2  0000000_A  00014068_a           1  -1  2017-04-08 11:57:53.746\n",
       "3  0000000_A  00001254_a           1  -1  2017-04-08 12:04:26.008\n",
       "4  0000000_A  00003316_a           1  -1  2017-04-08 12:05:31.326"
      ]
     },
     "execution_count": 22,
     "metadata": {},
     "output_type": "execute_result"
    }
   ],
   "source": [
    "df.head()"
   ]
  },
  {
   "cell_type": "markdown",
   "metadata": {},
   "source": [
    "#### 1-1-2. データ変換はどのようにするのか？"
   ]
  },
  {
   "cell_type": "markdown",
   "metadata": {},
   "source": [
    "ユーザーが商品に対してとった行動の種類(*event_type*)・回数・時間から評価値を算出する。  \n",
    "**評価値の算出方法は・・・・今のところ考えていません。**  \n",
    "以下は仮の変換法。"
   ]
  },
  {
   "cell_type": "code",
   "execution_count": 25,
   "metadata": {
    "collapsed": true
   },
   "outputs": [],
   "source": [
    "def make_new_dataframe(filename, params=[1,2,3,4], debug=True):\n",
    "    ext = filename.split('.')[-1]\n",
    "    if ext == \"csv\":\n",
    "        sep = ','\n",
    "    elif ext == \"tsv\":\n",
    "        sep = '\\t'\n",
    "    else:\n",
    "        print(\"please change file extension\")\n",
    "        return\n",
    "    df = pd.read_csv(filename, sep=sep)\n",
    "\n",
    "    new_columns = [\"user_id\"]\n",
    "    new_columns.extend(list(set(df.product_id)))\n",
    "\n",
    "    user_ids = set(df.user_id)\n",
    "\n",
    "    row_data = []\n",
    "    debug_flag = 0\n",
    "    for user_id in user_ids:\n",
    "        per_df = df.loc[df.user_id == user_id]\n",
    "        per_product_ids = set(per_df.product_id)\n",
    "        new_row = pd.Series(index=new_columns)\n",
    "        new_row[\"user_id\"] = user_id\n",
    "\n",
    "        for per_product_id in per_product_ids:\n",
    "            ex_df = per_df[per_df[\"product_id\"] == per_product_id]\n",
    "            n0 = len(ex_df[ex_df[\"event_type\"] == 0].index)\n",
    "            n1 = len(ex_df[ex_df[\"event_type\"] == 1].index)\n",
    "            n2 = len(ex_df[ex_df[\"event_type\"] == 2].index)\n",
    "            n3 = len(ex_df[ex_df[\"event_type\"] == 3].index)\n",
    "            value = 1*n1 + 2*n2 + 3*n0 + 4*n3\n",
    "            new_row[per_product_id] = value\n",
    "\n",
    "        new_row = new_row.fillna(0)\n",
    "        row_data.append(new_row)\n",
    "        debug_flag += 1\n",
    "        if ((debug_flag > 10) and (debug==True)):\n",
    "            break\n",
    "    new_df = pd.DataFrame.from_records(row_data)\n",
    "    \n",
    "    if debug == True:\n",
    "        return new_df\n",
    "    else:\n",
    "        new_filename = filename.split(\".\")[0].split(\"/\")[-1] + \"_new.csv\"\n",
    "        new_df.to_csv(new_filename)"
   ]
  },
  {
   "cell_type": "markdown",
   "metadata": {},
   "source": [
    "#### 1-1-3. 変換後のデータはどのようなマトリックスか？"
   ]
  },
  {
   "cell_type": "code",
   "execution_count": 26,
   "metadata": {},
   "outputs": [
    {
     "data": {
      "text/html": [
       "<div>\n",
       "<style>\n",
       "    .dataframe thead tr:only-child th {\n",
       "        text-align: right;\n",
       "    }\n",
       "\n",
       "    .dataframe thead th {\n",
       "        text-align: left;\n",
       "    }\n",
       "\n",
       "    .dataframe tbody tr th {\n",
       "        vertical-align: top;\n",
       "    }\n",
       "</style>\n",
       "<table border=\"1\" class=\"dataframe\">\n",
       "  <thead>\n",
       "    <tr style=\"text-align: right;\">\n",
       "      <th></th>\n",
       "      <th>user_id</th>\n",
       "      <th>00009727_a</th>\n",
       "      <th>00002499_a</th>\n",
       "      <th>00004721_a</th>\n",
       "      <th>00012027_a</th>\n",
       "      <th>00007324_a</th>\n",
       "      <th>00011825_a</th>\n",
       "      <th>00011651_a</th>\n",
       "      <th>00000486_a</th>\n",
       "      <th>00009244_a</th>\n",
       "      <th>...</th>\n",
       "      <th>00005844_a</th>\n",
       "      <th>00011722_a</th>\n",
       "      <th>00006425_a</th>\n",
       "      <th>00005852_a</th>\n",
       "      <th>00004411_a</th>\n",
       "      <th>00010524_a</th>\n",
       "      <th>00000148_a</th>\n",
       "      <th>00004185_a</th>\n",
       "      <th>00008316_a</th>\n",
       "      <th>00011362_a</th>\n",
       "    </tr>\n",
       "  </thead>\n",
       "  <tbody>\n",
       "    <tr>\n",
       "      <th>0</th>\n",
       "      <td>0021932_A</td>\n",
       "      <td>0</td>\n",
       "      <td>0</td>\n",
       "      <td>0</td>\n",
       "      <td>0</td>\n",
       "      <td>0</td>\n",
       "      <td>0</td>\n",
       "      <td>0</td>\n",
       "      <td>0</td>\n",
       "      <td>0</td>\n",
       "      <td>...</td>\n",
       "      <td>0</td>\n",
       "      <td>0</td>\n",
       "      <td>0</td>\n",
       "      <td>0</td>\n",
       "      <td>0</td>\n",
       "      <td>0</td>\n",
       "      <td>0</td>\n",
       "      <td>0</td>\n",
       "      <td>0</td>\n",
       "      <td>0</td>\n",
       "    </tr>\n",
       "    <tr>\n",
       "      <th>1</th>\n",
       "      <td>0003878_A</td>\n",
       "      <td>0</td>\n",
       "      <td>0</td>\n",
       "      <td>0</td>\n",
       "      <td>0</td>\n",
       "      <td>0</td>\n",
       "      <td>0</td>\n",
       "      <td>0</td>\n",
       "      <td>0</td>\n",
       "      <td>0</td>\n",
       "      <td>...</td>\n",
       "      <td>0</td>\n",
       "      <td>0</td>\n",
       "      <td>0</td>\n",
       "      <td>0</td>\n",
       "      <td>0</td>\n",
       "      <td>0</td>\n",
       "      <td>0</td>\n",
       "      <td>0</td>\n",
       "      <td>0</td>\n",
       "      <td>0</td>\n",
       "    </tr>\n",
       "    <tr>\n",
       "      <th>2</th>\n",
       "      <td>0039596_A</td>\n",
       "      <td>0</td>\n",
       "      <td>0</td>\n",
       "      <td>0</td>\n",
       "      <td>0</td>\n",
       "      <td>0</td>\n",
       "      <td>0</td>\n",
       "      <td>0</td>\n",
       "      <td>0</td>\n",
       "      <td>0</td>\n",
       "      <td>...</td>\n",
       "      <td>0</td>\n",
       "      <td>0</td>\n",
       "      <td>0</td>\n",
       "      <td>0</td>\n",
       "      <td>0</td>\n",
       "      <td>0</td>\n",
       "      <td>0</td>\n",
       "      <td>0</td>\n",
       "      <td>0</td>\n",
       "      <td>0</td>\n",
       "    </tr>\n",
       "    <tr>\n",
       "      <th>3</th>\n",
       "      <td>0033690_A</td>\n",
       "      <td>0</td>\n",
       "      <td>0</td>\n",
       "      <td>0</td>\n",
       "      <td>0</td>\n",
       "      <td>0</td>\n",
       "      <td>0</td>\n",
       "      <td>0</td>\n",
       "      <td>0</td>\n",
       "      <td>0</td>\n",
       "      <td>...</td>\n",
       "      <td>25</td>\n",
       "      <td>0</td>\n",
       "      <td>0</td>\n",
       "      <td>0</td>\n",
       "      <td>0</td>\n",
       "      <td>0</td>\n",
       "      <td>0</td>\n",
       "      <td>0</td>\n",
       "      <td>0</td>\n",
       "      <td>0</td>\n",
       "    </tr>\n",
       "    <tr>\n",
       "      <th>4</th>\n",
       "      <td>0000670_A</td>\n",
       "      <td>0</td>\n",
       "      <td>0</td>\n",
       "      <td>0</td>\n",
       "      <td>0</td>\n",
       "      <td>0</td>\n",
       "      <td>0</td>\n",
       "      <td>0</td>\n",
       "      <td>0</td>\n",
       "      <td>0</td>\n",
       "      <td>...</td>\n",
       "      <td>0</td>\n",
       "      <td>0</td>\n",
       "      <td>0</td>\n",
       "      <td>0</td>\n",
       "      <td>0</td>\n",
       "      <td>0</td>\n",
       "      <td>0</td>\n",
       "      <td>0</td>\n",
       "      <td>0</td>\n",
       "      <td>0</td>\n",
       "    </tr>\n",
       "    <tr>\n",
       "      <th>5</th>\n",
       "      <td>0054160_A</td>\n",
       "      <td>0</td>\n",
       "      <td>0</td>\n",
       "      <td>0</td>\n",
       "      <td>0</td>\n",
       "      <td>0</td>\n",
       "      <td>0</td>\n",
       "      <td>0</td>\n",
       "      <td>0</td>\n",
       "      <td>0</td>\n",
       "      <td>...</td>\n",
       "      <td>0</td>\n",
       "      <td>0</td>\n",
       "      <td>0</td>\n",
       "      <td>0</td>\n",
       "      <td>0</td>\n",
       "      <td>0</td>\n",
       "      <td>0</td>\n",
       "      <td>0</td>\n",
       "      <td>0</td>\n",
       "      <td>0</td>\n",
       "    </tr>\n",
       "    <tr>\n",
       "      <th>6</th>\n",
       "      <td>0006791_A</td>\n",
       "      <td>0</td>\n",
       "      <td>0</td>\n",
       "      <td>0</td>\n",
       "      <td>0</td>\n",
       "      <td>0</td>\n",
       "      <td>0</td>\n",
       "      <td>0</td>\n",
       "      <td>0</td>\n",
       "      <td>0</td>\n",
       "      <td>...</td>\n",
       "      <td>0</td>\n",
       "      <td>0</td>\n",
       "      <td>0</td>\n",
       "      <td>0</td>\n",
       "      <td>0</td>\n",
       "      <td>0</td>\n",
       "      <td>0</td>\n",
       "      <td>0</td>\n",
       "      <td>0</td>\n",
       "      <td>0</td>\n",
       "    </tr>\n",
       "    <tr>\n",
       "      <th>7</th>\n",
       "      <td>0055694_A</td>\n",
       "      <td>0</td>\n",
       "      <td>0</td>\n",
       "      <td>0</td>\n",
       "      <td>0</td>\n",
       "      <td>0</td>\n",
       "      <td>0</td>\n",
       "      <td>0</td>\n",
       "      <td>0</td>\n",
       "      <td>0</td>\n",
       "      <td>...</td>\n",
       "      <td>0</td>\n",
       "      <td>0</td>\n",
       "      <td>0</td>\n",
       "      <td>0</td>\n",
       "      <td>0</td>\n",
       "      <td>0</td>\n",
       "      <td>0</td>\n",
       "      <td>0</td>\n",
       "      <td>0</td>\n",
       "      <td>0</td>\n",
       "    </tr>\n",
       "    <tr>\n",
       "      <th>8</th>\n",
       "      <td>0007790_A</td>\n",
       "      <td>0</td>\n",
       "      <td>0</td>\n",
       "      <td>0</td>\n",
       "      <td>0</td>\n",
       "      <td>0</td>\n",
       "      <td>0</td>\n",
       "      <td>0</td>\n",
       "      <td>0</td>\n",
       "      <td>0</td>\n",
       "      <td>...</td>\n",
       "      <td>0</td>\n",
       "      <td>0</td>\n",
       "      <td>0</td>\n",
       "      <td>0</td>\n",
       "      <td>0</td>\n",
       "      <td>0</td>\n",
       "      <td>0</td>\n",
       "      <td>0</td>\n",
       "      <td>0</td>\n",
       "      <td>0</td>\n",
       "    </tr>\n",
       "    <tr>\n",
       "      <th>9</th>\n",
       "      <td>0022936_A</td>\n",
       "      <td>0</td>\n",
       "      <td>0</td>\n",
       "      <td>0</td>\n",
       "      <td>0</td>\n",
       "      <td>0</td>\n",
       "      <td>0</td>\n",
       "      <td>0</td>\n",
       "      <td>0</td>\n",
       "      <td>0</td>\n",
       "      <td>...</td>\n",
       "      <td>0</td>\n",
       "      <td>0</td>\n",
       "      <td>0</td>\n",
       "      <td>0</td>\n",
       "      <td>0</td>\n",
       "      <td>0</td>\n",
       "      <td>0</td>\n",
       "      <td>0</td>\n",
       "      <td>0</td>\n",
       "      <td>0</td>\n",
       "    </tr>\n",
       "    <tr>\n",
       "      <th>10</th>\n",
       "      <td>0058536_A</td>\n",
       "      <td>0</td>\n",
       "      <td>0</td>\n",
       "      <td>0</td>\n",
       "      <td>0</td>\n",
       "      <td>0</td>\n",
       "      <td>0</td>\n",
       "      <td>0</td>\n",
       "      <td>0</td>\n",
       "      <td>0</td>\n",
       "      <td>...</td>\n",
       "      <td>0</td>\n",
       "      <td>0</td>\n",
       "      <td>0</td>\n",
       "      <td>0</td>\n",
       "      <td>0</td>\n",
       "      <td>0</td>\n",
       "      <td>0</td>\n",
       "      <td>0</td>\n",
       "      <td>0</td>\n",
       "      <td>0</td>\n",
       "    </tr>\n",
       "  </tbody>\n",
       "</table>\n",
       "<p>11 rows × 13867 columns</p>\n",
       "</div>"
      ],
      "text/plain": [
       "      user_id  00009727_a  00002499_a  00004721_a  00012027_a  00007324_a  \\\n",
       "0   0021932_A           0           0           0           0           0   \n",
       "1   0003878_A           0           0           0           0           0   \n",
       "2   0039596_A           0           0           0           0           0   \n",
       "3   0033690_A           0           0           0           0           0   \n",
       "4   0000670_A           0           0           0           0           0   \n",
       "5   0054160_A           0           0           0           0           0   \n",
       "6   0006791_A           0           0           0           0           0   \n",
       "7   0055694_A           0           0           0           0           0   \n",
       "8   0007790_A           0           0           0           0           0   \n",
       "9   0022936_A           0           0           0           0           0   \n",
       "10  0058536_A           0           0           0           0           0   \n",
       "\n",
       "    00011825_a  00011651_a  00000486_a  00009244_a     ...      00005844_a  \\\n",
       "0            0           0           0           0     ...               0   \n",
       "1            0           0           0           0     ...               0   \n",
       "2            0           0           0           0     ...               0   \n",
       "3            0           0           0           0     ...              25   \n",
       "4            0           0           0           0     ...               0   \n",
       "5            0           0           0           0     ...               0   \n",
       "6            0           0           0           0     ...               0   \n",
       "7            0           0           0           0     ...               0   \n",
       "8            0           0           0           0     ...               0   \n",
       "9            0           0           0           0     ...               0   \n",
       "10           0           0           0           0     ...               0   \n",
       "\n",
       "    00011722_a  00006425_a  00005852_a  00004411_a  00010524_a  00000148_a  \\\n",
       "0            0           0           0           0           0           0   \n",
       "1            0           0           0           0           0           0   \n",
       "2            0           0           0           0           0           0   \n",
       "3            0           0           0           0           0           0   \n",
       "4            0           0           0           0           0           0   \n",
       "5            0           0           0           0           0           0   \n",
       "6            0           0           0           0           0           0   \n",
       "7            0           0           0           0           0           0   \n",
       "8            0           0           0           0           0           0   \n",
       "9            0           0           0           0           0           0   \n",
       "10           0           0           0           0           0           0   \n",
       "\n",
       "    00004185_a  00008316_a  00011362_a  \n",
       "0            0           0           0  \n",
       "1            0           0           0  \n",
       "2            0           0           0  \n",
       "3            0           0           0  \n",
       "4            0           0           0  \n",
       "5            0           0           0  \n",
       "6            0           0           0  \n",
       "7            0           0           0  \n",
       "8            0           0           0  \n",
       "9            0           0           0  \n",
       "10           0           0           0  \n",
       "\n",
       "[11 rows x 13867 columns]"
      ]
     },
     "execution_count": 26,
     "metadata": {},
     "output_type": "execute_result"
    }
   ],
   "source": [
    "make_new_dataframe(\"data/train/train_A.tsv\")"
   ]
  },
  {
   "cell_type": "markdown",
   "metadata": {
    "collapsed": true
   },
   "source": [
    "### 1-2. マトリックスから類似度を算出する。"
   ]
  },
  {
   "cell_type": "markdown",
   "metadata": {},
   "source": [
    "上のマトリックスをみると評価値が0、すなわち**ユーザーがまだ評価していないものが多々含まれている**。  \n",
    "この状況でそのまま類似度を計算しても、適切な類似度を算出することができない（らしい）。  \n",
    "ゆえに、**マトリックスの次元を削減し、特徴量を抽出する必要がある**。"
   ]
  },
  {
   "cell_type": "markdown",
   "metadata": {},
   "source": [
    "#### 1-2-1.マトリックスの次元削減のために Matrix Factorization を行う。"
   ]
  },
  {
   "cell_type": "markdown",
   "metadata": {},
   "source": [
    ">m人のユーザとn個のアイテムを考えます。  \n",
    "先ほどの例では、ユーザはn次元のベクトルで表現されることになりますが、これを$$ m>k>0 $$であるk次元に次元削減して変換することを目指します。  \n",
    "これは評価値を表すm×nの行列Rに対して  \n",
    "これをユーザ要素を表すk×mの行列Pとk×mの行列Qを考え以下のように近似します  \n",
    "\n",
    ">$$ R≈P^TQ $$  \n",
    "\n",
    ">図で表すと以下のような形になります。  "
   ]
  },
  {
   "cell_type": "markdown",
   "metadata": {},
   "source": [
    ">![image](https://camo.qiitausercontent.com/be358dc385b10bfc0359be215a443f87e3c25f66/68747470733a2f2f71696974612d696d6167652d73746f72652e73332e616d617a6f6e6177732e636f6d2f3232342f323233382f34393430306438342d373261322d656464342d623861622d3634313330316235626462642e706e67)"
   ]
  },
  {
   "cell_type": "markdown",
   "metadata": {},
   "source": [
    " 詳細は、https://qiita.com/ysekky/items/c81ff24da0390a74fc6c へ  \n",
    " 以下はそのサンプルコード"
   ]
  },
  {
   "cell_type": "code",
   "execution_count": 8,
   "metadata": {},
   "outputs": [
    {
     "data": {
      "text/plain": [
       "array([[ 5.01270433,  2.96556318,  3.99719371,  0.99587408],\n",
       "       [ 3.98555758,  2.36743834,  3.37482539,  0.99580861],\n",
       "       [ 1.06233172,  0.85219158,  5.45703507,  4.99221243],\n",
       "       [ 0.96910713,  0.75098086,  4.43357437,  3.98931305],\n",
       "       [ 1.70335314,  1.18118297,  4.93283613,  4.04574714]])"
      ]
     },
     "execution_count": 8,
     "metadata": {},
     "output_type": "execute_result"
    }
   ],
   "source": [
    "import numpy\n",
    "\n",
    "def get_rating_error(r, p, q):\n",
    "    return r - numpy.dot(p, q)\n",
    "\n",
    "\n",
    "def get_error(R, P, Q, beta):\n",
    "    error = 0.0\n",
    "    for i in range(len(R)):\n",
    "        for j in range(len(R[i])):\n",
    "            if R[i][j] == 0:\n",
    "                continue\n",
    "            error += pow(get_rating_error(R[i][j], P[:,i], Q[:,j]), 2)\n",
    "    error += beta/2.0 * (numpy.linalg.norm(P) + numpy.linalg.norm(Q))\n",
    "    return error\n",
    "\n",
    "\n",
    "def matrix_factorization(R, K, steps=5000, alpha=0.0002, beta=0.02, threshold=0.001):\n",
    "    P = numpy.random.rand(K, len(R))\n",
    "    Q = numpy.random.rand(K, len(R[0]))\n",
    "    for step in range(steps):\n",
    "        for i in range(len(R)):\n",
    "            for j in range(len(R[i])):\n",
    "                if R[i][j] == 0:\n",
    "                    continue\n",
    "                err = get_rating_error(R[i][j], P[:, i], Q[:, j])\n",
    "                for k in range(K):\n",
    "                    P[k][i] += alpha * (2 * err * Q[k][j])\n",
    "                    Q[k][j] += alpha * (2 * err * P[k][i])\n",
    "        error = get_error(R, P, Q, beta)\n",
    "        if error < threshold:\n",
    "            break\n",
    "    return P, Q\n",
    "\n",
    "\n",
    "R = numpy.array([\n",
    "        [5, 3, 0, 1],\n",
    "        [4, 0, 0, 1],\n",
    "        [1, 1, 0, 5],\n",
    "        [1, 0, 0, 4],\n",
    "        [0, 1, 5, 4],\n",
    "        ]\n",
    "    )\n",
    "nP, nQ = matrix_factorization(R, 2)\n",
    "nR = numpy.dot(nP.T, nQ)\n",
    "nR"
   ]
  },
  {
   "cell_type": "markdown",
   "metadata": {},
   "source": [
    ">引用: https://qiita.com/ysekky/items/c81ff24da0390a74fc6c "
   ]
  },
  {
   "cell_type": "markdown",
   "metadata": {},
   "source": [
    "#### 1-2-2. 類似度の算出"
   ]
  },
  {
   "cell_type": "markdown",
   "metadata": {},
   "source": [
    "* ピアソン相関係数\n",
    "* コサイン類似性  \n",
    "などなどあるようですが、これ以降はまだ調べ切れていません・・・"
   ]
  },
  {
   "cell_type": "markdown",
   "metadata": {},
   "source": [
    "### モデルベースの協調フィルタリング\n",
    "\n",
    "今まで説明した協調フィルタリングはメモリベース、つまりデータをそのまま用いて考えていたが、  \n",
    "クラスタリングや回帰などを使って、モデルベースに変更して協調フィルタリングを行う方法もある(らしい)。  \n",
    "ここ(http://www.kamishima.net/archive/recsysdoc.pdf, http://d.hatena.ne.jp/EulerDijkstra/20130407/1365349866) に詳しく載ってそう。"
   ]
  },
  {
   "cell_type": "markdown",
   "metadata": {},
   "source": [
    "参考  \n",
    "http://d.hatena.ne.jp/EulerDijkstra/20130407/1365349866  \n",
    "https://takuti.me/note/coursera-recommender-systems/  \n",
    "https://qiita.com/ysekky/items/c81ff24da0390a74fc6c  \n",
    "https://www.slideshare.net/KentaOku/ss-50762836  \n",
    "https://deepanalytics.jp/compe/45  \n",
    "https://www.slideshare.net/masayuki1986/recommendation-ml"
   ]
  },
  {
   "cell_type": "markdown",
   "metadata": {},
   "source": [
    "## 2. 内容ベースフィルタリング"
   ]
  },
  {
   "cell_type": "markdown",
   "metadata": {},
   "source": [
    "**今回は利用することができない**"
   ]
  },
  {
   "cell_type": "markdown",
   "metadata": {},
   "source": [
    ">推薦対象となるコンテンツの情報とユーザの嗜好データをマッチングし，類似性が高いコンテンツを推薦する手法  \n",
    "引用：http://gihyo.jp/dev/serial/01/information-recommendation-system/0003?page=2"
   ]
  },
  {
   "cell_type": "markdown",
   "metadata": {},
   "source": [
    "### 今回利用することができない理由"
   ]
  },
  {
   "cell_type": "markdown",
   "metadata": {},
   "source": [
    "* 商品のコンテンツに関する情報とユーザーの嗜好に関する情報が一切ないため。  "
   ]
  },
  {
   "cell_type": "markdown",
   "metadata": {},
   "source": [
    "## 3. バンディットアルゴリズム"
   ]
  },
  {
   "cell_type": "markdown",
   "metadata": {},
   "source": [
    "限られた試行回数で選択肢を探索し、その中からよりよい結果が出るだろう選択肢を選び出すアルゴリズム。  \n",
    "ただ、**今回は利用することはできない**と考えられる。"
   ]
  },
  {
   "cell_type": "markdown",
   "metadata": {},
   "source": [
    "### 今回利用できない理由"
   ]
  },
  {
   "cell_type": "markdown",
   "metadata": {},
   "source": [
    "* 与えられているデータは、ユーザーが何かしらの行動をしてくれたデータ。  \n",
    "    * この商品を推薦したけど、ダメだった・・・みたいな情報が存在しない。  \n",
    "* 新しく探索を行うことができない。\n",
    "    * まだ何の行動も起こされていない商品について推薦することが不可能。"
   ]
  },
  {
   "cell_type": "markdown",
   "metadata": {},
   "source": [
    "### 簡単な例"
   ]
  },
  {
   "cell_type": "markdown",
   "metadata": {},
   "source": [
    "あるユーザーAに対し、 X,Y,Zを配信することを考える。 \n",
    "* **探索**フェーズ  \n",
    "    1. Xを配信。→クリック×  \n",
    "    2. Yを配信。→クリック○！ \n",
    "    3. Zを配信。→クリック○！  \n",
    "    4. Xを配信。→クリック×\n",
    "    5. Yを配信。→クリック○！  \n",
    "    6. Zを配信。→クリック×\n",
    "\n",
    "\n",
    "* **活用**フェーズ  \n",
    "    * Yのクリックされる確率が一番高いのでは？？？  \n",
    "    →今後はYを配信する。  "
   ]
  },
  {
   "cell_type": "markdown",
   "metadata": {},
   "source": [
    "参考  \n",
    "https://www.slideshare.net/greenmidori83/ss-28443892"
   ]
  },
  {
   "cell_type": "markdown",
   "metadata": {},
   "source": [
    "## 4. ベイジアンネットワーク"
   ]
  },
  {
   "cell_type": "markdown",
   "metadata": {},
   "source": [
    "与えられたデータの事象または事象同士の因果関係を考え、それらの確率または条件付確率をノード（節点）として持つ有向の確率グラフで表したもの。 \n",
    "\n",
    ">簡単に数式的に言うと・・・  \n",
    "事象$X_1, X_2, \\cdots, X_n$の同時確率$P(X_1, X_2, \\cdots, X_n)$を  \n",
    "$$P(X_1, X_2, \\cdots, X_n)=P(X_1)P(X_2|X_1)P(X_3|X_1)\\cdots$$  \n",
    "のように、同時確率を確率と条件付確率の積で表せるようにするということ。\n",
    "\n",
    "ある事象が起きたとき、その確率グラフを用いて次に起こりそうな事象の確率を算出して、起こる可能性の高い事象の推薦を行う。 \n",
    "\n",
    "今回、**利用はできそう**ではある。"
   ]
  },
  {
   "cell_type": "markdown",
   "metadata": {},
   "source": [
    "### 今回利用するにあたってのメリット・デメリット（仮説）"
   ]
  },
  {
   "cell_type": "markdown",
   "metadata": {},
   "source": [
    "#### メリット\n",
    "* 日付の最初の方のデータを学習に利用し、最終週（最終日でもなんでもよい）のデータを後で与えることで、次の週の確率が予測できそう。  \n",
    "\n",
    "#### デメリット\n",
    "* 理解するのも大変そうだし、実装するのも大変そう。\n",
    "* 確率がデータから推定できないようなユーザー・商品に関しては、確率を予測で与えることしかできず、うまくいかなさそう。"
   ]
  },
  {
   "cell_type": "markdown",
   "metadata": {},
   "source": [
    "### どのようにしてデータから確率グラフを作成するのか？ "
   ]
  },
  {
   "cell_type": "markdown",
   "metadata": {},
   "source": [
    "#### 例：MWSTアルゴリズム"
   ]
  },
  {
   "cell_type": "markdown",
   "metadata": {},
   "source": [
    "* 仮定  \n",
    "確率グラフは木構造である"
   ]
  },
  {
   "cell_type": "markdown",
   "metadata": {},
   "source": [
    "* よりよいベイジアンネットワークとは？  \n",
    "    * $P(X_1, X_2, \\cdots, X_n)$　と　$P(X_1)P(X_2|X_1)P(X_3|X_1)\\cdots$　の差が小さいネットワーク  \n",
    "    →事象間の相互情報量の最大化問題へ"
   ]
  },
  {
   "cell_type": "markdown",
   "metadata": {},
   "source": [
    "* 手順\n",
    "    1. 事象間の相互情報量を計算する。\n",
    "    2. 相互情報量の多い事象のペアからアーク（枝）として追加していく。  \n",
    "        ただし、ループができたらスキップし、次に相互情報量の多い事象ペアを参照する。\n",
    "    3. アーク数がn-1になるまで繰り返す。"
   ]
  },
  {
   "cell_type": "markdown",
   "metadata": {},
   "source": [
    "参考  \n",
    "https://www.slideshare.net/Erika_Fujita/ss-50118591  \n",
    "https://www.slideshare.net/hamadakoichi/ss-4552939  \n",
    "https://staff.aist.go.jp/y.motomura/paper/BSJ0403.pdf  \n"
   ]
  },
  {
   "cell_type": "code",
   "execution_count": null,
   "metadata": {
    "collapsed": true
   },
   "outputs": [],
   "source": []
  }
 ],
 "metadata": {
  "kernelspec": {
   "display_name": "Python 3",
   "language": "python",
   "name": "python3"
  },
  "language_info": {
   "codemirror_mode": {
    "name": "ipython",
    "version": 3
   },
   "file_extension": ".py",
   "mimetype": "text/x-python",
   "name": "python",
   "nbconvert_exporter": "python",
   "pygments_lexer": "ipython3",
   "version": "3.6.1"
  }
 },
 "nbformat": 4,
 "nbformat_minor": 2
}
