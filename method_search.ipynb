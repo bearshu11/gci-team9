{
 "cells": [
  {
   "cell_type": "markdown",
   "metadata": {},
   "source": [
    "## Kaggle - Instacart上位陣解法まとめ https://qiita.com/namakemono/items/6b719d38526a7b32dca1\n",
    "- コンテスト Instacart Market Basket Analysis https://www.kaggle.com/c/instacart-market-basket-analysis\n",
    "- F1最大化が多い\n",
    "- F1最大化とCython高速化 http://yutori-datascience.hatenablog.com/entry/2017/08/17/203143\n",
    "\n",
    "## 久保さんのコード https://github.com/kuboshizuma/item_based_collaborative_filtering/blob/master/recommendations.py\n",
    "\n",
    "\n",
    "## Matrix Factorization\n",
    "\n",
    "##### Matrix Factorizationとは https://qiita.com/ysekky/items/c81ff24da0390a74fc6c\n",
    "- 簡単な行列因子分解(遅い)\n",
    "\n",
    "## NMF\n",
    "\n",
    "###### 非負値行列因子分解（NMF）によるレコメンドのちょっとした例 http://smrmkt.hatenablog.jp/entry/2014/08/23/211555\n",
    "- 協調フィルタリング、特異値分解(SVD)、非負値行列因子分解(NMF)\n",
    "- O'Reillyの『集合値プログラミング』にはPython実装でのNMFのアルゴリズムが載っているらしい"
   ]
  },
  {
   "cell_type": "code",
   "execution_count": null,
   "metadata": {
    "collapsed": true
   },
   "outputs": [],
   "source": []
  }
 ],
 "metadata": {
  "kernelspec": {
   "display_name": "Python 2",
   "language": "python",
   "name": "python2"
  },
  "language_info": {
   "codemirror_mode": {
    "name": "ipython",
    "version": 2
   },
   "file_extension": ".py",
   "mimetype": "text/x-python",
   "name": "python",
   "nbconvert_exporter": "python",
   "pygments_lexer": "ipython2",
   "version": "2.7.11"
  }
 },
 "nbformat": 4,
 "nbformat_minor": 2
}
