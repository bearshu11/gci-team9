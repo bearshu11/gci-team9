{
 "cells": [
  {
   "cell_type": "markdown",
   "metadata": {},
   "source": [
    "# NMF使い方"
   ]
  },
  {
   "cell_type": "markdown",
   "metadata": {},
   "source": [
    " まずscikit-learnのpackageにあるnmf.py nmf_test.py validation.pyをgithub上のyasutake_everyoneのフォルダにあるnmf.py nmf_test.py validation.pyに更新する"
   ]
  },
  {
   "cell_type": "markdown",
   "metadata": {},
   "source": [
    "NMFの実行方法は以下参照"
   ]
  },
  {
   "cell_type": "markdown",
   "metadata": {},
   "source": [
    "欠損値を扱う為　にslver ='mu'にする。　　\n"
   ]
  },
  {
   "cell_type": "markdown",
   "metadata": {},
   "source": [
    "n_componentsは特徴量なので多くすればするほどモデルが複雑化する。50~60あたりがいいらしい。"
   ]
  },
  {
   "cell_type": "markdown",
   "metadata": {},
   "source": [
    "max_iterは繰り返し回数なので100くらいで止めといてもいいかも。デフォルトは200"
   ]
  },
  {
   "cell_type": "markdown",
   "metadata": {},
   "source": [
    "tolは許容誤差の範囲。デフォルトは0.001"
   ]
  },
  {
   "cell_type": "markdown",
   "metadata": {},
   "source": [
    "### trainのデータでNMFのモデリングを実行する前にサイズの小さい適当な行列で同じ条件で実行することで処理時間が1/20になるので必ず一度やってください。"
   ]
  },
  {
   "cell_type": "code",
   "execution_count": 62,
   "metadata": {},
   "outputs": [
    {
     "name": "stdout",
     "output_type": "stream",
     "text": [
      "---checkpoint 1---\n",
      "---checkpoint 2---\n",
      "[ nan  nan  nan ...,  nan  nan  nan]\n"
     ]
    }
   ],
   "source": [
    "%run -i main.py"
   ]
  },
  {
   "cell_type": "code",
   "execution_count": 63,
   "metadata": {},
   "outputs": [],
   "source": [
    "#ユーザー数を1/10にする\n",
    "sample_matrix=matrix[np.random.choice(matrix.shape[0], 2384, replace=False), :]"
   ]
  },
  {
   "cell_type": "code",
   "execution_count": 64,
   "metadata": {
    "collapsed": true
   },
   "outputs": [],
   "source": [
    "from sklearn.decomposition import NMF\n",
    "from numpy import nan "
   ]
  },
  {
   "cell_type": "code",
   "execution_count": 67,
   "metadata": {},
   "outputs": [
    {
     "name": "stdout",
     "output_type": "stream",
     "text": [
      "elapsed_time:0.01216888427734375[sec]\n"
     ]
    }
   ],
   "source": [
    "#適当な行列の処理\n",
    "NA = nan\n",
    "R = np.array([\n",
    "        [5, NA, NA, 1,8,NA],\n",
    "        [4, NA, NA, 1,8,NA],\n",
    "        [3, 1, NA, 5,9,7],\n",
    "        [3, NA, NA, 4,7,8],\n",
    "        [NA, 1, 6, 4,2,6],\n",
    "        [NA,7,7,NA,3,0]\n",
    "        ]\n",
    "    )\n",
    "\n",
    "\n",
    "start = time.time()\n",
    "model = NMF(n_components=50, solver='mu', tol=0.1, max_iter=100, init='random',random_state=0)\n",
    "P = model.fit_transform(R)\n",
    "Q = model.components_\n",
    "elapsed_time = time.time() - start\n",
    "print (\"elapsed_time:{0}\".format(elapsed_time) + \"[sec]\")"
   ]
  },
  {
   "cell_type": "code",
   "execution_count": 71,
   "metadata": {
    "collapsed": true
   },
   "outputs": [],
   "source": [
    "model = NMF(n_components=50, solver='mu', tol =0.1, max_iter = 100, init='random',random_state=0)\n",
    "P = model.fit_transform(sample_matrix)\n",
    "Q = model.components_"
   ]
  },
  {
   "cell_type": "code",
   "execution_count": 72,
   "metadata": {},
   "outputs": [
    {
     "data": {
      "text/plain": [
       "array([[ 0.        ,  0.85031805,  0.        , ...,  0.722501  ,\n",
       "         0.83491988,  1.48231114],\n",
       "       [ 0.        ,  1.97091982,  0.        , ...,  1.54973677,\n",
       "         1.06667952,  3.95059096],\n",
       "       [ 0.        ,  1.42682842,  0.        , ...,  1.30427334,\n",
       "         1.12688315,  2.02855848],\n",
       "       ..., \n",
       "       [ 0.        ,  1.7442553 ,  0.        , ...,  1.41297127,\n",
       "         0.98728282,  3.00760619],\n",
       "       [ 0.        ,  1.14348018,  0.        , ...,  0.80412917,\n",
       "         0.77206262,  2.22934791],\n",
       "       [ 0.        ,  1.04216864,  0.        , ...,  0.94435906,\n",
       "         1.19568691,  2.38869748]])"
      ]
     },
     "execution_count": 72,
     "metadata": {},
     "output_type": "execute_result"
    }
   ],
   "source": [
    "np.dot(P,Q)"
   ]
  },
  {
   "cell_type": "code",
   "execution_count": 73,
   "metadata": {},
   "outputs": [
    {
     "name": "stdout",
     "output_type": "stream",
     "text": [
      "13.4648715869\n"
     ]
    }
   ],
   "source": [
    "print(model.reconstruction_err_)"
   ]
  }
 ],
 "metadata": {
  "kernelspec": {
   "display_name": "Python 3",
   "language": "python",
   "name": "python3"
  },
  "language_info": {
   "codemirror_mode": {
    "name": "ipython",
    "version": 3
   },
   "file_extension": ".py",
   "mimetype": "text/x-python",
   "name": "python",
   "nbconvert_exporter": "python",
   "pygments_lexer": "ipython3",
   "version": "3.6.2"
  }
 },
 "nbformat": 4,
 "nbformat_minor": 2
}
