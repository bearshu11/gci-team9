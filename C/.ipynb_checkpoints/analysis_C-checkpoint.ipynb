{
 "cells": [
  {
   "cell_type": "code",
   "execution_count": 2,
   "metadata": {},
   "outputs": [],
   "source": [
    "import numpy as np\n",
    "import matplotlib as mpl\n",
    "import matplotlib.pyplot as plt\n",
    "import scipy as sp\n",
    "import pandas as pd\n",
    "import datetime\n",
    "\n",
    "%matplotlib inline\n",
    "plt.rcParams['font.family'] = 'IPAPGothic'\n",
    "\n",
    "train_C = pd.read_table('../data/train/train_C.tsv')"
   ]
  },
  {
   "cell_type": "code",
   "execution_count": 3,
   "metadata": {
    "collapsed": true
   },
   "outputs": [],
   "source": [
    "train_C['event_type_1'] = train_C['event_type'] == 1\n",
    "train_C['event_type_2'] = train_C['event_type'] == 2\n",
    "train_C['event_type_3'] = train_C['event_type'] == 3"
   ]
  },
  {
   "cell_type": "markdown",
   "metadata": {},
   "source": [
    "- まずユーザーの行動をイメージするために個人のデータを見る。"
   ]
  },
  {
   "cell_type": "code",
   "execution_count": 4,
   "metadata": {
    "collapsed": true
   },
   "outputs": [
    {
     "data": {
      "text/html": [
       "<div>\n",
       "<table border=\"1\" class=\"dataframe\">\n",
       "  <thead>\n",
       "    <tr style=\"text-align: right;\">\n",
       "      <th></th>\n",
       "      <th>user_id</th>\n",
       "      <th>product_id</th>\n",
       "      <th>event_type</th>\n",
       "      <th>ad</th>\n",
       "      <th>time_stamp</th>\n",
       "      <th>event_type_1</th>\n",
       "      <th>event_type_2</th>\n",
       "      <th>event_type_3</th>\n",
       "    </tr>\n",
       "  </thead>\n",
       "  <tbody>\n",
       "    <tr>\n",
       "      <th>4</th>\n",
       "      <td>0000000_C</td>\n",
       "      <td>00311374_c</td>\n",
       "      <td>1</td>\n",
       "      <td>-1</td>\n",
       "      <td>2017-04-29 00:26:20.526</td>\n",
       "      <td>True</td>\n",
       "      <td>False</td>\n",
       "      <td>False</td>\n",
       "    </tr>\n",
       "    <tr>\n",
       "      <th>3</th>\n",
       "      <td>0000000_C</td>\n",
       "      <td>00290915_c</td>\n",
       "      <td>1</td>\n",
       "      <td>-1</td>\n",
       "      <td>2017-04-29 00:28:45.632</td>\n",
       "      <td>True</td>\n",
       "      <td>False</td>\n",
       "      <td>False</td>\n",
       "    </tr>\n",
       "    <tr>\n",
       "      <th>1</th>\n",
       "      <td>0000000_C</td>\n",
       "      <td>00217428_c</td>\n",
       "      <td>1</td>\n",
       "      <td>-1</td>\n",
       "      <td>2017-04-29 00:31:43.088</td>\n",
       "      <td>True</td>\n",
       "      <td>False</td>\n",
       "      <td>False</td>\n",
       "    </tr>\n",
       "    <tr>\n",
       "      <th>0</th>\n",
       "      <td>0000000_C</td>\n",
       "      <td>00209392_c</td>\n",
       "      <td>1</td>\n",
       "      <td>-1</td>\n",
       "      <td>2017-04-29 00:33:50.804</td>\n",
       "      <td>True</td>\n",
       "      <td>False</td>\n",
       "      <td>False</td>\n",
       "    </tr>\n",
       "    <tr>\n",
       "      <th>2</th>\n",
       "      <td>0000000_C</td>\n",
       "      <td>00217428_c</td>\n",
       "      <td>1</td>\n",
       "      <td>-1</td>\n",
       "      <td>2017-04-29 00:34:32.473</td>\n",
       "      <td>True</td>\n",
       "      <td>False</td>\n",
       "      <td>False</td>\n",
       "    </tr>\n",
       "    <tr>\n",
       "      <th>5</th>\n",
       "      <td>0000000_C</td>\n",
       "      <td>00311374_c</td>\n",
       "      <td>1</td>\n",
       "      <td>-1</td>\n",
       "      <td>2017-04-30 05:33:16.726</td>\n",
       "      <td>True</td>\n",
       "      <td>False</td>\n",
       "      <td>False</td>\n",
       "    </tr>\n",
       "    <tr>\n",
       "      <th>10</th>\n",
       "      <td>0000000_C</td>\n",
       "      <td>00190500_c</td>\n",
       "      <td>1</td>\n",
       "      <td>-1</td>\n",
       "      <td>2017-04-30 05:34:16.301</td>\n",
       "      <td>True</td>\n",
       "      <td>False</td>\n",
       "      <td>False</td>\n",
       "    </tr>\n",
       "    <tr>\n",
       "      <th>16</th>\n",
       "      <td>0000000_C</td>\n",
       "      <td>00294192_c</td>\n",
       "      <td>1</td>\n",
       "      <td>-1</td>\n",
       "      <td>2017-04-30 05:35:31.399</td>\n",
       "      <td>True</td>\n",
       "      <td>False</td>\n",
       "      <td>False</td>\n",
       "    </tr>\n",
       "    <tr>\n",
       "      <th>14</th>\n",
       "      <td>0000000_C</td>\n",
       "      <td>00205242_c</td>\n",
       "      <td>1</td>\n",
       "      <td>-1</td>\n",
       "      <td>2017-04-30 05:36:08.613</td>\n",
       "      <td>True</td>\n",
       "      <td>False</td>\n",
       "      <td>False</td>\n",
       "    </tr>\n",
       "    <tr>\n",
       "      <th>20</th>\n",
       "      <td>0000000_C</td>\n",
       "      <td>00003661_c</td>\n",
       "      <td>1</td>\n",
       "      <td>-1</td>\n",
       "      <td>2017-04-30 05:37:44.466</td>\n",
       "      <td>True</td>\n",
       "      <td>False</td>\n",
       "      <td>False</td>\n",
       "    </tr>\n",
       "    <tr>\n",
       "      <th>19</th>\n",
       "      <td>0000000_C</td>\n",
       "      <td>00139845_c</td>\n",
       "      <td>1</td>\n",
       "      <td>-1</td>\n",
       "      <td>2017-04-30 05:38:10.778</td>\n",
       "      <td>True</td>\n",
       "      <td>False</td>\n",
       "      <td>False</td>\n",
       "    </tr>\n",
       "    <tr>\n",
       "      <th>8</th>\n",
       "      <td>0000000_C</td>\n",
       "      <td>00298993_c</td>\n",
       "      <td>1</td>\n",
       "      <td>-1</td>\n",
       "      <td>2017-04-30 05:39:08.278</td>\n",
       "      <td>True</td>\n",
       "      <td>False</td>\n",
       "      <td>False</td>\n",
       "    </tr>\n",
       "    <tr>\n",
       "      <th>18</th>\n",
       "      <td>0000000_C</td>\n",
       "      <td>00139845_c</td>\n",
       "      <td>1</td>\n",
       "      <td>-1</td>\n",
       "      <td>2017-04-30 05:39:30.586</td>\n",
       "      <td>True</td>\n",
       "      <td>False</td>\n",
       "      <td>False</td>\n",
       "    </tr>\n",
       "    <tr>\n",
       "      <th>22</th>\n",
       "      <td>0000000_C</td>\n",
       "      <td>00025393_c</td>\n",
       "      <td>1</td>\n",
       "      <td>-1</td>\n",
       "      <td>2017-04-30 05:40:24.739</td>\n",
       "      <td>True</td>\n",
       "      <td>False</td>\n",
       "      <td>False</td>\n",
       "    </tr>\n",
       "    <tr>\n",
       "      <th>7</th>\n",
       "      <td>0000000_C</td>\n",
       "      <td>00298993_c</td>\n",
       "      <td>1</td>\n",
       "      <td>-1</td>\n",
       "      <td>2017-04-30 05:40:33.166</td>\n",
       "      <td>True</td>\n",
       "      <td>False</td>\n",
       "      <td>False</td>\n",
       "    </tr>\n",
       "    <tr>\n",
       "      <th>11</th>\n",
       "      <td>0000000_C</td>\n",
       "      <td>00270071_c</td>\n",
       "      <td>1</td>\n",
       "      <td>-1</td>\n",
       "      <td>2017-04-30 05:40:51.509</td>\n",
       "      <td>True</td>\n",
       "      <td>False</td>\n",
       "      <td>False</td>\n",
       "    </tr>\n",
       "    <tr>\n",
       "      <th>24</th>\n",
       "      <td>0000000_C</td>\n",
       "      <td>00046485_c</td>\n",
       "      <td>1</td>\n",
       "      <td>-1</td>\n",
       "      <td>2017-04-30 05:41:18.407</td>\n",
       "      <td>True</td>\n",
       "      <td>False</td>\n",
       "      <td>False</td>\n",
       "    </tr>\n",
       "    <tr>\n",
       "      <th>12</th>\n",
       "      <td>0000000_C</td>\n",
       "      <td>00270071_c</td>\n",
       "      <td>1</td>\n",
       "      <td>-1</td>\n",
       "      <td>2017-04-30 05:41:21.622</td>\n",
       "      <td>True</td>\n",
       "      <td>False</td>\n",
       "      <td>False</td>\n",
       "    </tr>\n",
       "    <tr>\n",
       "      <th>23</th>\n",
       "      <td>0000000_C</td>\n",
       "      <td>00032549_c</td>\n",
       "      <td>1</td>\n",
       "      <td>-1</td>\n",
       "      <td>2017-04-30 05:41:43.052</td>\n",
       "      <td>True</td>\n",
       "      <td>False</td>\n",
       "      <td>False</td>\n",
       "    </tr>\n",
       "    <tr>\n",
       "      <th>17</th>\n",
       "      <td>0000000_C</td>\n",
       "      <td>00139845_c</td>\n",
       "      <td>1</td>\n",
       "      <td>-1</td>\n",
       "      <td>2017-04-30 05:42:28.797</td>\n",
       "      <td>True</td>\n",
       "      <td>False</td>\n",
       "      <td>False</td>\n",
       "    </tr>\n",
       "    <tr>\n",
       "      <th>21</th>\n",
       "      <td>0000000_C</td>\n",
       "      <td>00003661_c</td>\n",
       "      <td>1</td>\n",
       "      <td>-1</td>\n",
       "      <td>2017-04-30 05:42:39.725</td>\n",
       "      <td>True</td>\n",
       "      <td>False</td>\n",
       "      <td>False</td>\n",
       "    </tr>\n",
       "    <tr>\n",
       "      <th>13</th>\n",
       "      <td>0000000_C</td>\n",
       "      <td>00205242_c</td>\n",
       "      <td>1</td>\n",
       "      <td>-1</td>\n",
       "      <td>2017-04-30 05:42:53.684</td>\n",
       "      <td>True</td>\n",
       "      <td>False</td>\n",
       "      <td>False</td>\n",
       "    </tr>\n",
       "    <tr>\n",
       "      <th>15</th>\n",
       "      <td>0000000_C</td>\n",
       "      <td>00294192_c</td>\n",
       "      <td>1</td>\n",
       "      <td>-1</td>\n",
       "      <td>2017-04-30 05:43:16.446</td>\n",
       "      <td>True</td>\n",
       "      <td>False</td>\n",
       "      <td>False</td>\n",
       "    </tr>\n",
       "    <tr>\n",
       "      <th>9</th>\n",
       "      <td>0000000_C</td>\n",
       "      <td>00190500_c</td>\n",
       "      <td>1</td>\n",
       "      <td>-1</td>\n",
       "      <td>2017-04-30 05:43:28.102</td>\n",
       "      <td>True</td>\n",
       "      <td>False</td>\n",
       "      <td>False</td>\n",
       "    </tr>\n",
       "    <tr>\n",
       "      <th>6</th>\n",
       "      <td>0000000_C</td>\n",
       "      <td>00311374_c</td>\n",
       "      <td>1</td>\n",
       "      <td>-1</td>\n",
       "      <td>2017-04-30 05:43:41.714</td>\n",
       "      <td>True</td>\n",
       "      <td>False</td>\n",
       "      <td>False</td>\n",
       "    </tr>\n",
       "  </tbody>\n",
       "</table>\n",
       "</div>"
      ],
      "text/plain": [
       "      user_id  product_id  event_type  ad               time_stamp  \\\n",
       "4   0000000_C  00311374_c           1  -1  2017-04-29 00:26:20.526   \n",
       "3   0000000_C  00290915_c           1  -1  2017-04-29 00:28:45.632   \n",
       "1   0000000_C  00217428_c           1  -1  2017-04-29 00:31:43.088   \n",
       "0   0000000_C  00209392_c           1  -1  2017-04-29 00:33:50.804   \n",
       "2   0000000_C  00217428_c           1  -1  2017-04-29 00:34:32.473   \n",
       "5   0000000_C  00311374_c           1  -1  2017-04-30 05:33:16.726   \n",
       "10  0000000_C  00190500_c           1  -1  2017-04-30 05:34:16.301   \n",
       "16  0000000_C  00294192_c           1  -1  2017-04-30 05:35:31.399   \n",
       "14  0000000_C  00205242_c           1  -1  2017-04-30 05:36:08.613   \n",
       "20  0000000_C  00003661_c           1  -1  2017-04-30 05:37:44.466   \n",
       "19  0000000_C  00139845_c           1  -1  2017-04-30 05:38:10.778   \n",
       "8   0000000_C  00298993_c           1  -1  2017-04-30 05:39:08.278   \n",
       "18  0000000_C  00139845_c           1  -1  2017-04-30 05:39:30.586   \n",
       "22  0000000_C  00025393_c           1  -1  2017-04-30 05:40:24.739   \n",
       "7   0000000_C  00298993_c           1  -1  2017-04-30 05:40:33.166   \n",
       "11  0000000_C  00270071_c           1  -1  2017-04-30 05:40:51.509   \n",
       "24  0000000_C  00046485_c           1  -1  2017-04-30 05:41:18.407   \n",
       "12  0000000_C  00270071_c           1  -1  2017-04-30 05:41:21.622   \n",
       "23  0000000_C  00032549_c           1  -1  2017-04-30 05:41:43.052   \n",
       "17  0000000_C  00139845_c           1  -1  2017-04-30 05:42:28.797   \n",
       "21  0000000_C  00003661_c           1  -1  2017-04-30 05:42:39.725   \n",
       "13  0000000_C  00205242_c           1  -1  2017-04-30 05:42:53.684   \n",
       "15  0000000_C  00294192_c           1  -1  2017-04-30 05:43:16.446   \n",
       "9   0000000_C  00190500_c           1  -1  2017-04-30 05:43:28.102   \n",
       "6   0000000_C  00311374_c           1  -1  2017-04-30 05:43:41.714   \n",
       "\n",
       "   event_type_1 event_type_2 event_type_3  \n",
       "4          True        False        False  \n",
       "3          True        False        False  \n",
       "1          True        False        False  \n",
       "0          True        False        False  \n",
       "2          True        False        False  \n",
       "5          True        False        False  \n",
       "10         True        False        False  \n",
       "16         True        False        False  \n",
       "14         True        False        False  \n",
       "20         True        False        False  \n",
       "19         True        False        False  \n",
       "8          True        False        False  \n",
       "18         True        False        False  \n",
       "22         True        False        False  \n",
       "7          True        False        False  \n",
       "11         True        False        False  \n",
       "24         True        False        False  \n",
       "12         True        False        False  \n",
       "23         True        False        False  \n",
       "17         True        False        False  \n",
       "21         True        False        False  \n",
       "13         True        False        False  \n",
       "15         True        False        False  \n",
       "9          True        False        False  \n",
       "6          True        False        False  "
      ]
     },
     "execution_count": 4,
     "metadata": {},
     "output_type": "execute_result"
    }
   ],
   "source": [
    "train_C[train_C['user_id'] == '0000000_C'].sort_values(by = 'time_stamp')"
   ]
  },
  {
   "cell_type": "markdown",
   "metadata": {},
   "source": [
    "## 不動産について分かっていること\n",
    "- カートは無い。 閲覧、クリック、購入の3つ\n",
    "- 比較的アド経由でない購入の割合が多い\n",
    "- 閲覧のみのユーザーが多い\n",
    "\n",
    "## 調べたいこと、仮説\n",
    "##### ユーザーの分類\n",
    "- 閲覧ばかりの人、クリックや購入をする人で分類できるか？\n",
    "\n",
    "##### 商品の分類\n",
    "- よく閲覧や購入されている商品はないか？\n",
    "\n",
    "##### ユーザーと商品を合わせた分類\n",
    "- 対応するユーザーグループと商品グループの組み合わせは無いか？\n",
    "\n",
    "##### 時間に関連した分析\n",
    "- 購入した商品は事前に閲覧されているか？(アド経由購入/アド経由でない購入 について)\n",
    "- 2"
   ]
  },
  {
   "cell_type": "markdown",
   "metadata": {},
   "source": [
    "## ユーザーの分類"
   ]
  },
  {
   "cell_type": "code",
   "execution_count": 5,
   "metadata": {},
   "outputs": [
    {
     "name": "stdout",
     "output_type": "stream",
     "text": [
      "ユーザー数：43271\n"
     ]
    }
   ],
   "source": [
    "users = train_C['user_id'].unique()\n",
    "print('ユーザー数：'+str(len(users)))"
   ]
  },
  {
   "cell_type": "code",
   "execution_count": 6,
   "metadata": {},
   "outputs": [
    {
     "name": "stdout",
     "output_type": "stream",
     "text": [
      "閲覧以外もしたユーザー数：6603\n",
      "クリックしたユーザー数：6061\n",
      "購入したユーザー数：669\n"
     ]
    }
   ],
   "source": [
    "print('閲覧以外もしたユーザー数：'+str(len(train_C[train_C['event_type'] != 1]['user_id'].unique())))\n",
    "print('クリックしたユーザー数：'+str(len(train_C[train_C['event_type_2']]['user_id'].unique())))\n",
    "print('購入したユーザー数：'+str(len(train_C[train_C['event_type_3']]['user_id'].unique())))"
   ]
  },
  {
   "cell_type": "code",
   "execution_count": 7,
   "metadata": {
    "scrolled": true
   },
   "outputs": [
    {
     "name": "stdout",
     "output_type": "stream",
     "text": [
      "ユーザーごとの購入回数の分布\n",
      "0.0     42602\n",
      "1.0       387\n",
      "2.0       141\n",
      "3.0        55\n",
      "4.0        31\n",
      "5.0        24\n",
      "6.0         6\n",
      "7.0         5\n",
      "8.0         5\n",
      "9.0         1\n",
      "10.0        5\n",
      "11.0        4\n",
      "12.0        2\n",
      "13.0        1\n",
      "14.0        1\n",
      "15.0        1\n",
      "Name: event_type_3, dtype: int64\n"
     ]
    }
   ],
   "source": [
    "print('ユーザーごとの購入回数の分布')\n",
    "print(train_C.groupby('user_id')['event_type_3'].sum().value_counts().sort_index())"
   ]
  },
  {
   "cell_type": "markdown",
   "metadata": {},
   "source": [
    "- 購入している人は全体の1.5%くらいだが、そのうち40%程度が複数購入している。→次の一週間も購入する確率が高い？"
   ]
  },
  {
   "cell_type": "code",
   "execution_count": 8,
   "metadata": {
    "scrolled": false
   },
   "outputs": [
    {
     "name": "stdout",
     "output_type": "stream",
     "text": [
      "ユーザーごとのクリック回数の分布\n",
      "0.0     37210\n",
      "1.0      2924\n",
      "2.0      1293\n",
      "3.0       713\n",
      "4.0       412\n",
      "5.0       231\n",
      "6.0       161\n",
      "7.0        91\n",
      "8.0        59\n",
      "9.0        46\n",
      "10.0       34\n",
      "11.0       24\n",
      "12.0       18\n",
      "13.0       11\n",
      "14.0        8\n",
      "15.0       10\n",
      "16.0        7\n",
      "17.0        6\n",
      "18.0        2\n",
      "19.0        3\n",
      "20.0        1\n",
      "21.0        1\n",
      "22.0        1\n",
      "23.0        1\n",
      "24.0        1\n",
      "25.0        1\n",
      "31.0        2\n",
      "Name: event_type_2, dtype: int64\n"
     ]
    }
   ],
   "source": [
    "print('ユーザーごとのクリック回数の分布')\n",
    "print(train_C.groupby('user_id')['event_type_2'].sum().value_counts().sort_index())"
   ]
  },
  {
   "cell_type": "markdown",
   "metadata": {},
   "source": [
    "#### (閲覧してない1人は何をしたのか？)"
   ]
  },
  {
   "cell_type": "code",
   "execution_count": 9,
   "metadata": {},
   "outputs": [
    {
     "data": {
      "text/plain": [
       "{'0014945_C'}"
      ]
     },
     "execution_count": 9,
     "metadata": {},
     "output_type": "execute_result"
    }
   ],
   "source": [
    "set(users) - set(train_C[train_C['event_type'] == 1]['user_id'].unique())"
   ]
  },
  {
   "cell_type": "code",
   "execution_count": 10,
   "metadata": {},
   "outputs": [
    {
     "data": {
      "text/html": [
       "<div>\n",
       "<table border=\"1\" class=\"dataframe\">\n",
       "  <thead>\n",
       "    <tr style=\"text-align: right;\">\n",
       "      <th></th>\n",
       "      <th>user_id</th>\n",
       "      <th>product_id</th>\n",
       "      <th>event_type</th>\n",
       "      <th>ad</th>\n",
       "      <th>time_stamp</th>\n",
       "      <th>event_type_1</th>\n",
       "      <th>event_type_2</th>\n",
       "      <th>event_type_3</th>\n",
       "    </tr>\n",
       "  </thead>\n",
       "  <tbody>\n",
       "    <tr>\n",
       "      <th>1044795</th>\n",
       "      <td>0014945_C</td>\n",
       "      <td>00258288_c</td>\n",
       "      <td>3</td>\n",
       "      <td>0</td>\n",
       "      <td>2017-04-15 05:15:05.581</td>\n",
       "      <td>False</td>\n",
       "      <td>False</td>\n",
       "      <td>True</td>\n",
       "    </tr>\n",
       "    <tr>\n",
       "      <th>1044798</th>\n",
       "      <td>0014945_C</td>\n",
       "      <td>00275212_c</td>\n",
       "      <td>3</td>\n",
       "      <td>0</td>\n",
       "      <td>2017-04-15 05:31:06.514</td>\n",
       "      <td>False</td>\n",
       "      <td>False</td>\n",
       "      <td>True</td>\n",
       "    </tr>\n",
       "    <tr>\n",
       "      <th>1044797</th>\n",
       "      <td>0014945_C</td>\n",
       "      <td>00035121_c</td>\n",
       "      <td>3</td>\n",
       "      <td>0</td>\n",
       "      <td>2017-04-15 05:34:07.420</td>\n",
       "      <td>False</td>\n",
       "      <td>False</td>\n",
       "      <td>True</td>\n",
       "    </tr>\n",
       "    <tr>\n",
       "      <th>1044790</th>\n",
       "      <td>0014945_C</td>\n",
       "      <td>00010767_c</td>\n",
       "      <td>3</td>\n",
       "      <td>0</td>\n",
       "      <td>2017-04-15 05:38:13.907</td>\n",
       "      <td>False</td>\n",
       "      <td>False</td>\n",
       "      <td>True</td>\n",
       "    </tr>\n",
       "    <tr>\n",
       "      <th>1044796</th>\n",
       "      <td>0014945_C</td>\n",
       "      <td>00218936_c</td>\n",
       "      <td>3</td>\n",
       "      <td>0</td>\n",
       "      <td>2017-04-15 05:41:18.775</td>\n",
       "      <td>False</td>\n",
       "      <td>False</td>\n",
       "      <td>True</td>\n",
       "    </tr>\n",
       "    <tr>\n",
       "      <th>1044791</th>\n",
       "      <td>0014945_C</td>\n",
       "      <td>00045567_c</td>\n",
       "      <td>3</td>\n",
       "      <td>0</td>\n",
       "      <td>2017-04-15 05:57:42.433</td>\n",
       "      <td>False</td>\n",
       "      <td>False</td>\n",
       "      <td>True</td>\n",
       "    </tr>\n",
       "    <tr>\n",
       "      <th>1044789</th>\n",
       "      <td>0014945_C</td>\n",
       "      <td>00129143_c</td>\n",
       "      <td>3</td>\n",
       "      <td>0</td>\n",
       "      <td>2017-04-15 06:00:13.124</td>\n",
       "      <td>False</td>\n",
       "      <td>False</td>\n",
       "      <td>True</td>\n",
       "    </tr>\n",
       "    <tr>\n",
       "      <th>1044799</th>\n",
       "      <td>0014945_C</td>\n",
       "      <td>00060189_c</td>\n",
       "      <td>3</td>\n",
       "      <td>0</td>\n",
       "      <td>2017-04-15 06:01:56.894</td>\n",
       "      <td>False</td>\n",
       "      <td>False</td>\n",
       "      <td>True</td>\n",
       "    </tr>\n",
       "    <tr>\n",
       "      <th>1044792</th>\n",
       "      <td>0014945_C</td>\n",
       "      <td>00050206_c</td>\n",
       "      <td>3</td>\n",
       "      <td>0</td>\n",
       "      <td>2017-04-15 06:10:46.641</td>\n",
       "      <td>False</td>\n",
       "      <td>False</td>\n",
       "      <td>True</td>\n",
       "    </tr>\n",
       "    <tr>\n",
       "      <th>1044794</th>\n",
       "      <td>0014945_C</td>\n",
       "      <td>00297716_c</td>\n",
       "      <td>3</td>\n",
       "      <td>0</td>\n",
       "      <td>2017-04-15 06:14:01.259</td>\n",
       "      <td>False</td>\n",
       "      <td>False</td>\n",
       "      <td>True</td>\n",
       "    </tr>\n",
       "    <tr>\n",
       "      <th>1044793</th>\n",
       "      <td>0014945_C</td>\n",
       "      <td>00265598_c</td>\n",
       "      <td>3</td>\n",
       "      <td>0</td>\n",
       "      <td>2017-04-15 06:15:42.053</td>\n",
       "      <td>False</td>\n",
       "      <td>False</td>\n",
       "      <td>True</td>\n",
       "    </tr>\n",
       "  </tbody>\n",
       "</table>\n",
       "</div>"
      ],
      "text/plain": [
       "           user_id  product_id  event_type  ad               time_stamp  \\\n",
       "1044795  0014945_C  00258288_c           3   0  2017-04-15 05:15:05.581   \n",
       "1044798  0014945_C  00275212_c           3   0  2017-04-15 05:31:06.514   \n",
       "1044797  0014945_C  00035121_c           3   0  2017-04-15 05:34:07.420   \n",
       "1044790  0014945_C  00010767_c           3   0  2017-04-15 05:38:13.907   \n",
       "1044796  0014945_C  00218936_c           3   0  2017-04-15 05:41:18.775   \n",
       "1044791  0014945_C  00045567_c           3   0  2017-04-15 05:57:42.433   \n",
       "1044789  0014945_C  00129143_c           3   0  2017-04-15 06:00:13.124   \n",
       "1044799  0014945_C  00060189_c           3   0  2017-04-15 06:01:56.894   \n",
       "1044792  0014945_C  00050206_c           3   0  2017-04-15 06:10:46.641   \n",
       "1044794  0014945_C  00297716_c           3   0  2017-04-15 06:14:01.259   \n",
       "1044793  0014945_C  00265598_c           3   0  2017-04-15 06:15:42.053   \n",
       "\n",
       "        event_type_1 event_type_2 event_type_3  \n",
       "1044795        False        False         True  \n",
       "1044798        False        False         True  \n",
       "1044797        False        False         True  \n",
       "1044790        False        False         True  \n",
       "1044796        False        False         True  \n",
       "1044791        False        False         True  \n",
       "1044789        False        False         True  \n",
       "1044799        False        False         True  \n",
       "1044792        False        False         True  \n",
       "1044794        False        False         True  \n",
       "1044793        False        False         True  "
      ]
     },
     "execution_count": 10,
     "metadata": {},
     "output_type": "execute_result"
    }
   ],
   "source": [
    "train_C[train_C['user_id'] == '0014945_C'].sort_values(by = 'time_stamp')"
   ]
  },
  {
   "cell_type": "markdown",
   "metadata": {},
   "source": [
    "- 購入だけしている"
   ]
  },
  {
   "cell_type": "markdown",
   "metadata": {},
   "source": [
    "##### クリックと閲覧の関係"
   ]
  },
  {
   "cell_type": "code",
   "execution_count": 11,
   "metadata": {
    "scrolled": false
   },
   "outputs": [
    {
     "data": {
      "text/html": [
       "<div>\n",
       "<table border=\"1\" class=\"dataframe\">\n",
       "  <thead>\n",
       "    <tr style=\"text-align: right;\">\n",
       "      <th>購入</th>\n",
       "      <th>0.0</th>\n",
       "      <th>1.0</th>\n",
       "      <th>2.0</th>\n",
       "      <th>3.0</th>\n",
       "      <th>4.0</th>\n",
       "      <th>5.0</th>\n",
       "      <th>6.0</th>\n",
       "      <th>7.0</th>\n",
       "      <th>8.0</th>\n",
       "      <th>9.0</th>\n",
       "      <th>10.0</th>\n",
       "      <th>11.0</th>\n",
       "      <th>12.0</th>\n",
       "      <th>13.0</th>\n",
       "      <th>14.0</th>\n",
       "      <th>15.0</th>\n",
       "    </tr>\n",
       "    <tr>\n",
       "      <th>クリック</th>\n",
       "      <th></th>\n",
       "      <th></th>\n",
       "      <th></th>\n",
       "      <th></th>\n",
       "      <th></th>\n",
       "      <th></th>\n",
       "      <th></th>\n",
       "      <th></th>\n",
       "      <th></th>\n",
       "      <th></th>\n",
       "      <th></th>\n",
       "      <th></th>\n",
       "      <th></th>\n",
       "      <th></th>\n",
       "      <th></th>\n",
       "      <th></th>\n",
       "    </tr>\n",
       "  </thead>\n",
       "  <tbody>\n",
       "    <tr>\n",
       "      <th>0.0</th>\n",
       "      <td>36668</td>\n",
       "      <td>317</td>\n",
       "      <td>115</td>\n",
       "      <td>43</td>\n",
       "      <td>22</td>\n",
       "      <td>20</td>\n",
       "      <td>6</td>\n",
       "      <td>5</td>\n",
       "      <td>3</td>\n",
       "      <td>0</td>\n",
       "      <td>4</td>\n",
       "      <td>3</td>\n",
       "      <td>2</td>\n",
       "      <td>1</td>\n",
       "      <td>1</td>\n",
       "      <td>0</td>\n",
       "    </tr>\n",
       "    <tr>\n",
       "      <th>1.0</th>\n",
       "      <td>2868</td>\n",
       "      <td>35</td>\n",
       "      <td>8</td>\n",
       "      <td>5</td>\n",
       "      <td>2</td>\n",
       "      <td>2</td>\n",
       "      <td>0</td>\n",
       "      <td>0</td>\n",
       "      <td>2</td>\n",
       "      <td>1</td>\n",
       "      <td>1</td>\n",
       "      <td>0</td>\n",
       "      <td>0</td>\n",
       "      <td>0</td>\n",
       "      <td>0</td>\n",
       "      <td>0</td>\n",
       "    </tr>\n",
       "    <tr>\n",
       "      <th>2.0</th>\n",
       "      <td>1262</td>\n",
       "      <td>14</td>\n",
       "      <td>12</td>\n",
       "      <td>2</td>\n",
       "      <td>3</td>\n",
       "      <td>0</td>\n",
       "      <td>0</td>\n",
       "      <td>0</td>\n",
       "      <td>0</td>\n",
       "      <td>0</td>\n",
       "      <td>0</td>\n",
       "      <td>0</td>\n",
       "      <td>0</td>\n",
       "      <td>0</td>\n",
       "      <td>0</td>\n",
       "      <td>0</td>\n",
       "    </tr>\n",
       "    <tr>\n",
       "      <th>3.0</th>\n",
       "      <td>696</td>\n",
       "      <td>11</td>\n",
       "      <td>2</td>\n",
       "      <td>2</td>\n",
       "      <td>2</td>\n",
       "      <td>0</td>\n",
       "      <td>0</td>\n",
       "      <td>0</td>\n",
       "      <td>0</td>\n",
       "      <td>0</td>\n",
       "      <td>0</td>\n",
       "      <td>0</td>\n",
       "      <td>0</td>\n",
       "      <td>0</td>\n",
       "      <td>0</td>\n",
       "      <td>0</td>\n",
       "    </tr>\n",
       "    <tr>\n",
       "      <th>4.0</th>\n",
       "      <td>403</td>\n",
       "      <td>3</td>\n",
       "      <td>2</td>\n",
       "      <td>1</td>\n",
       "      <td>1</td>\n",
       "      <td>2</td>\n",
       "      <td>0</td>\n",
       "      <td>0</td>\n",
       "      <td>0</td>\n",
       "      <td>0</td>\n",
       "      <td>0</td>\n",
       "      <td>0</td>\n",
       "      <td>0</td>\n",
       "      <td>0</td>\n",
       "      <td>0</td>\n",
       "      <td>0</td>\n",
       "    </tr>\n",
       "    <tr>\n",
       "      <th>5.0</th>\n",
       "      <td>228</td>\n",
       "      <td>1</td>\n",
       "      <td>0</td>\n",
       "      <td>1</td>\n",
       "      <td>0</td>\n",
       "      <td>0</td>\n",
       "      <td>0</td>\n",
       "      <td>0</td>\n",
       "      <td>0</td>\n",
       "      <td>0</td>\n",
       "      <td>0</td>\n",
       "      <td>1</td>\n",
       "      <td>0</td>\n",
       "      <td>0</td>\n",
       "      <td>0</td>\n",
       "      <td>0</td>\n",
       "    </tr>\n",
       "    <tr>\n",
       "      <th>6.0</th>\n",
       "      <td>156</td>\n",
       "      <td>1</td>\n",
       "      <td>1</td>\n",
       "      <td>1</td>\n",
       "      <td>1</td>\n",
       "      <td>0</td>\n",
       "      <td>0</td>\n",
       "      <td>0</td>\n",
       "      <td>0</td>\n",
       "      <td>0</td>\n",
       "      <td>0</td>\n",
       "      <td>0</td>\n",
       "      <td>0</td>\n",
       "      <td>0</td>\n",
       "      <td>0</td>\n",
       "      <td>1</td>\n",
       "    </tr>\n",
       "    <tr>\n",
       "      <th>7.0</th>\n",
       "      <td>91</td>\n",
       "      <td>0</td>\n",
       "      <td>0</td>\n",
       "      <td>0</td>\n",
       "      <td>0</td>\n",
       "      <td>0</td>\n",
       "      <td>0</td>\n",
       "      <td>0</td>\n",
       "      <td>0</td>\n",
       "      <td>0</td>\n",
       "      <td>0</td>\n",
       "      <td>0</td>\n",
       "      <td>0</td>\n",
       "      <td>0</td>\n",
       "      <td>0</td>\n",
       "      <td>0</td>\n",
       "    </tr>\n",
       "    <tr>\n",
       "      <th>8.0</th>\n",
       "      <td>58</td>\n",
       "      <td>1</td>\n",
       "      <td>0</td>\n",
       "      <td>0</td>\n",
       "      <td>0</td>\n",
       "      <td>0</td>\n",
       "      <td>0</td>\n",
       "      <td>0</td>\n",
       "      <td>0</td>\n",
       "      <td>0</td>\n",
       "      <td>0</td>\n",
       "      <td>0</td>\n",
       "      <td>0</td>\n",
       "      <td>0</td>\n",
       "      <td>0</td>\n",
       "      <td>0</td>\n",
       "    </tr>\n",
       "    <tr>\n",
       "      <th>9.0</th>\n",
       "      <td>44</td>\n",
       "      <td>2</td>\n",
       "      <td>0</td>\n",
       "      <td>0</td>\n",
       "      <td>0</td>\n",
       "      <td>0</td>\n",
       "      <td>0</td>\n",
       "      <td>0</td>\n",
       "      <td>0</td>\n",
       "      <td>0</td>\n",
       "      <td>0</td>\n",
       "      <td>0</td>\n",
       "      <td>0</td>\n",
       "      <td>0</td>\n",
       "      <td>0</td>\n",
       "      <td>0</td>\n",
       "    </tr>\n",
       "    <tr>\n",
       "      <th>10.0</th>\n",
       "      <td>34</td>\n",
       "      <td>0</td>\n",
       "      <td>0</td>\n",
       "      <td>0</td>\n",
       "      <td>0</td>\n",
       "      <td>0</td>\n",
       "      <td>0</td>\n",
       "      <td>0</td>\n",
       "      <td>0</td>\n",
       "      <td>0</td>\n",
       "      <td>0</td>\n",
       "      <td>0</td>\n",
       "      <td>0</td>\n",
       "      <td>0</td>\n",
       "      <td>0</td>\n",
       "      <td>0</td>\n",
       "    </tr>\n",
       "    <tr>\n",
       "      <th>11.0</th>\n",
       "      <td>24</td>\n",
       "      <td>0</td>\n",
       "      <td>0</td>\n",
       "      <td>0</td>\n",
       "      <td>0</td>\n",
       "      <td>0</td>\n",
       "      <td>0</td>\n",
       "      <td>0</td>\n",
       "      <td>0</td>\n",
       "      <td>0</td>\n",
       "      <td>0</td>\n",
       "      <td>0</td>\n",
       "      <td>0</td>\n",
       "      <td>0</td>\n",
       "      <td>0</td>\n",
       "      <td>0</td>\n",
       "    </tr>\n",
       "    <tr>\n",
       "      <th>12.0</th>\n",
       "      <td>16</td>\n",
       "      <td>1</td>\n",
       "      <td>1</td>\n",
       "      <td>0</td>\n",
       "      <td>0</td>\n",
       "      <td>0</td>\n",
       "      <td>0</td>\n",
       "      <td>0</td>\n",
       "      <td>0</td>\n",
       "      <td>0</td>\n",
       "      <td>0</td>\n",
       "      <td>0</td>\n",
       "      <td>0</td>\n",
       "      <td>0</td>\n",
       "      <td>0</td>\n",
       "      <td>0</td>\n",
       "    </tr>\n",
       "    <tr>\n",
       "      <th>13.0</th>\n",
       "      <td>11</td>\n",
       "      <td>0</td>\n",
       "      <td>0</td>\n",
       "      <td>0</td>\n",
       "      <td>0</td>\n",
       "      <td>0</td>\n",
       "      <td>0</td>\n",
       "      <td>0</td>\n",
       "      <td>0</td>\n",
       "      <td>0</td>\n",
       "      <td>0</td>\n",
       "      <td>0</td>\n",
       "      <td>0</td>\n",
       "      <td>0</td>\n",
       "      <td>0</td>\n",
       "      <td>0</td>\n",
       "    </tr>\n",
       "    <tr>\n",
       "      <th>14.0</th>\n",
       "      <td>8</td>\n",
       "      <td>0</td>\n",
       "      <td>0</td>\n",
       "      <td>0</td>\n",
       "      <td>0</td>\n",
       "      <td>0</td>\n",
       "      <td>0</td>\n",
       "      <td>0</td>\n",
       "      <td>0</td>\n",
       "      <td>0</td>\n",
       "      <td>0</td>\n",
       "      <td>0</td>\n",
       "      <td>0</td>\n",
       "      <td>0</td>\n",
       "      <td>0</td>\n",
       "      <td>0</td>\n",
       "    </tr>\n",
       "    <tr>\n",
       "      <th>15.0</th>\n",
       "      <td>10</td>\n",
       "      <td>0</td>\n",
       "      <td>0</td>\n",
       "      <td>0</td>\n",
       "      <td>0</td>\n",
       "      <td>0</td>\n",
       "      <td>0</td>\n",
       "      <td>0</td>\n",
       "      <td>0</td>\n",
       "      <td>0</td>\n",
       "      <td>0</td>\n",
       "      <td>0</td>\n",
       "      <td>0</td>\n",
       "      <td>0</td>\n",
       "      <td>0</td>\n",
       "      <td>0</td>\n",
       "    </tr>\n",
       "    <tr>\n",
       "      <th>16.0</th>\n",
       "      <td>7</td>\n",
       "      <td>0</td>\n",
       "      <td>0</td>\n",
       "      <td>0</td>\n",
       "      <td>0</td>\n",
       "      <td>0</td>\n",
       "      <td>0</td>\n",
       "      <td>0</td>\n",
       "      <td>0</td>\n",
       "      <td>0</td>\n",
       "      <td>0</td>\n",
       "      <td>0</td>\n",
       "      <td>0</td>\n",
       "      <td>0</td>\n",
       "      <td>0</td>\n",
       "      <td>0</td>\n",
       "    </tr>\n",
       "    <tr>\n",
       "      <th>17.0</th>\n",
       "      <td>6</td>\n",
       "      <td>0</td>\n",
       "      <td>0</td>\n",
       "      <td>0</td>\n",
       "      <td>0</td>\n",
       "      <td>0</td>\n",
       "      <td>0</td>\n",
       "      <td>0</td>\n",
       "      <td>0</td>\n",
       "      <td>0</td>\n",
       "      <td>0</td>\n",
       "      <td>0</td>\n",
       "      <td>0</td>\n",
       "      <td>0</td>\n",
       "      <td>0</td>\n",
       "      <td>0</td>\n",
       "    </tr>\n",
       "    <tr>\n",
       "      <th>18.0</th>\n",
       "      <td>2</td>\n",
       "      <td>0</td>\n",
       "      <td>0</td>\n",
       "      <td>0</td>\n",
       "      <td>0</td>\n",
       "      <td>0</td>\n",
       "      <td>0</td>\n",
       "      <td>0</td>\n",
       "      <td>0</td>\n",
       "      <td>0</td>\n",
       "      <td>0</td>\n",
       "      <td>0</td>\n",
       "      <td>0</td>\n",
       "      <td>0</td>\n",
       "      <td>0</td>\n",
       "      <td>0</td>\n",
       "    </tr>\n",
       "    <tr>\n",
       "      <th>19.0</th>\n",
       "      <td>3</td>\n",
       "      <td>0</td>\n",
       "      <td>0</td>\n",
       "      <td>0</td>\n",
       "      <td>0</td>\n",
       "      <td>0</td>\n",
       "      <td>0</td>\n",
       "      <td>0</td>\n",
       "      <td>0</td>\n",
       "      <td>0</td>\n",
       "      <td>0</td>\n",
       "      <td>0</td>\n",
       "      <td>0</td>\n",
       "      <td>0</td>\n",
       "      <td>0</td>\n",
       "      <td>0</td>\n",
       "    </tr>\n",
       "    <tr>\n",
       "      <th>20.0</th>\n",
       "      <td>0</td>\n",
       "      <td>1</td>\n",
       "      <td>0</td>\n",
       "      <td>0</td>\n",
       "      <td>0</td>\n",
       "      <td>0</td>\n",
       "      <td>0</td>\n",
       "      <td>0</td>\n",
       "      <td>0</td>\n",
       "      <td>0</td>\n",
       "      <td>0</td>\n",
       "      <td>0</td>\n",
       "      <td>0</td>\n",
       "      <td>0</td>\n",
       "      <td>0</td>\n",
       "      <td>0</td>\n",
       "    </tr>\n",
       "    <tr>\n",
       "      <th>21.0</th>\n",
       "      <td>1</td>\n",
       "      <td>0</td>\n",
       "      <td>0</td>\n",
       "      <td>0</td>\n",
       "      <td>0</td>\n",
       "      <td>0</td>\n",
       "      <td>0</td>\n",
       "      <td>0</td>\n",
       "      <td>0</td>\n",
       "      <td>0</td>\n",
       "      <td>0</td>\n",
       "      <td>0</td>\n",
       "      <td>0</td>\n",
       "      <td>0</td>\n",
       "      <td>0</td>\n",
       "      <td>0</td>\n",
       "    </tr>\n",
       "    <tr>\n",
       "      <th>22.0</th>\n",
       "      <td>1</td>\n",
       "      <td>0</td>\n",
       "      <td>0</td>\n",
       "      <td>0</td>\n",
       "      <td>0</td>\n",
       "      <td>0</td>\n",
       "      <td>0</td>\n",
       "      <td>0</td>\n",
       "      <td>0</td>\n",
       "      <td>0</td>\n",
       "      <td>0</td>\n",
       "      <td>0</td>\n",
       "      <td>0</td>\n",
       "      <td>0</td>\n",
       "      <td>0</td>\n",
       "      <td>0</td>\n",
       "    </tr>\n",
       "    <tr>\n",
       "      <th>23.0</th>\n",
       "      <td>1</td>\n",
       "      <td>0</td>\n",
       "      <td>0</td>\n",
       "      <td>0</td>\n",
       "      <td>0</td>\n",
       "      <td>0</td>\n",
       "      <td>0</td>\n",
       "      <td>0</td>\n",
       "      <td>0</td>\n",
       "      <td>0</td>\n",
       "      <td>0</td>\n",
       "      <td>0</td>\n",
       "      <td>0</td>\n",
       "      <td>0</td>\n",
       "      <td>0</td>\n",
       "      <td>0</td>\n",
       "    </tr>\n",
       "    <tr>\n",
       "      <th>24.0</th>\n",
       "      <td>1</td>\n",
       "      <td>0</td>\n",
       "      <td>0</td>\n",
       "      <td>0</td>\n",
       "      <td>0</td>\n",
       "      <td>0</td>\n",
       "      <td>0</td>\n",
       "      <td>0</td>\n",
       "      <td>0</td>\n",
       "      <td>0</td>\n",
       "      <td>0</td>\n",
       "      <td>0</td>\n",
       "      <td>0</td>\n",
       "      <td>0</td>\n",
       "      <td>0</td>\n",
       "      <td>0</td>\n",
       "    </tr>\n",
       "    <tr>\n",
       "      <th>25.0</th>\n",
       "      <td>1</td>\n",
       "      <td>0</td>\n",
       "      <td>0</td>\n",
       "      <td>0</td>\n",
       "      <td>0</td>\n",
       "      <td>0</td>\n",
       "      <td>0</td>\n",
       "      <td>0</td>\n",
       "      <td>0</td>\n",
       "      <td>0</td>\n",
       "      <td>0</td>\n",
       "      <td>0</td>\n",
       "      <td>0</td>\n",
       "      <td>0</td>\n",
       "      <td>0</td>\n",
       "      <td>0</td>\n",
       "    </tr>\n",
       "    <tr>\n",
       "      <th>31.0</th>\n",
       "      <td>2</td>\n",
       "      <td>0</td>\n",
       "      <td>0</td>\n",
       "      <td>0</td>\n",
       "      <td>0</td>\n",
       "      <td>0</td>\n",
       "      <td>0</td>\n",
       "      <td>0</td>\n",
       "      <td>0</td>\n",
       "      <td>0</td>\n",
       "      <td>0</td>\n",
       "      <td>0</td>\n",
       "      <td>0</td>\n",
       "      <td>0</td>\n",
       "      <td>0</td>\n",
       "      <td>0</td>\n",
       "    </tr>\n",
       "  </tbody>\n",
       "</table>\n",
       "</div>"
      ],
      "text/plain": [
       "購入  0.0   1.0   2.0   3.0   4.0   5.0   6.0   7.0   8.0   9.0   10.0  11.0  \\\n",
       "クリック                                                                            \n",
       "0.0   36668   317   115    43    22    20     6     5     3     0     4     3   \n",
       "1.0    2868    35     8     5     2     2     0     0     2     1     1     0   \n",
       "2.0    1262    14    12     2     3     0     0     0     0     0     0     0   \n",
       "3.0     696    11     2     2     2     0     0     0     0     0     0     0   \n",
       "4.0     403     3     2     1     1     2     0     0     0     0     0     0   \n",
       "5.0     228     1     0     1     0     0     0     0     0     0     0     1   \n",
       "6.0     156     1     1     1     1     0     0     0     0     0     0     0   \n",
       "7.0      91     0     0     0     0     0     0     0     0     0     0     0   \n",
       "8.0      58     1     0     0     0     0     0     0     0     0     0     0   \n",
       "9.0      44     2     0     0     0     0     0     0     0     0     0     0   \n",
       "10.0     34     0     0     0     0     0     0     0     0     0     0     0   \n",
       "11.0     24     0     0     0     0     0     0     0     0     0     0     0   \n",
       "12.0     16     1     1     0     0     0     0     0     0     0     0     0   \n",
       "13.0     11     0     0     0     0     0     0     0     0     0     0     0   \n",
       "14.0      8     0     0     0     0     0     0     0     0     0     0     0   \n",
       "15.0     10     0     0     0     0     0     0     0     0     0     0     0   \n",
       "16.0      7     0     0     0     0     0     0     0     0     0     0     0   \n",
       "17.0      6     0     0     0     0     0     0     0     0     0     0     0   \n",
       "18.0      2     0     0     0     0     0     0     0     0     0     0     0   \n",
       "19.0      3     0     0     0     0     0     0     0     0     0     0     0   \n",
       "20.0      0     1     0     0     0     0     0     0     0     0     0     0   \n",
       "21.0      1     0     0     0     0     0     0     0     0     0     0     0   \n",
       "22.0      1     0     0     0     0     0     0     0     0     0     0     0   \n",
       "23.0      1     0     0     0     0     0     0     0     0     0     0     0   \n",
       "24.0      1     0     0     0     0     0     0     0     0     0     0     0   \n",
       "25.0      1     0     0     0     0     0     0     0     0     0     0     0   \n",
       "31.0      2     0     0     0     0     0     0     0     0     0     0     0   \n",
       "\n",
       "購入 12.0  13.0  14.0  15.0  \n",
       "クリック                          \n",
       "0.0      2     1     1     0  \n",
       "1.0      0     0     0     0  \n",
       "2.0      0     0     0     0  \n",
       "3.0      0     0     0     0  \n",
       "4.0      0     0     0     0  \n",
       "5.0      0     0     0     0  \n",
       "6.0      0     0     0     1  \n",
       "7.0      0     0     0     0  \n",
       "8.0      0     0     0     0  \n",
       "9.0      0     0     0     0  \n",
       "10.0     0     0     0     0  \n",
       "11.0     0     0     0     0  \n",
       "12.0     0     0     0     0  \n",
       "13.0     0     0     0     0  \n",
       "14.0     0     0     0     0  \n",
       "15.0     0     0     0     0  \n",
       "16.0     0     0     0     0  \n",
       "17.0     0     0     0     0  \n",
       "18.0     0     0     0     0  \n",
       "19.0     0     0     0     0  \n",
       "20.0     0     0     0     0  \n",
       "21.0     0     0     0     0  \n",
       "22.0     0     0     0     0  \n",
       "23.0     0     0     0     0  \n",
       "24.0     0     0     0     0  \n",
       "25.0     0     0     0     0  \n",
       "31.0     0     0     0     0  "
      ]
     },
     "execution_count": 11,
     "metadata": {},
     "output_type": "execute_result"
    }
   ],
   "source": [
    "user_e2 = train_C.groupby('user_id')['event_type_2'].sum().sort_index()\n",
    "user_e3 = train_C.groupby('user_id')['event_type_3'].sum().sort_index()\n",
    "merged_count_df = pd.concat([user_e2, user_e3], axis=1)\n",
    "merged_count_df.columns = ['クリック','購入']\n",
    "pd.pivot_table(merged_count_df, index=['クリック'], columns=['購入'], aggfunc=lambda x: len(x), fill_value=0)"
   ]
  },
  {
   "cell_type": "code",
   "execution_count": 12,
   "metadata": {},
   "outputs": [
    {
     "data": {
      "text/html": [
       "<div>\n",
       "<table border=\"1\" class=\"dataframe\">\n",
       "  <thead>\n",
       "    <tr style=\"text-align: right;\">\n",
       "      <th></th>\n",
       "      <th>クリック</th>\n",
       "      <th>購入</th>\n",
       "    </tr>\n",
       "  </thead>\n",
       "  <tbody>\n",
       "    <tr>\n",
       "      <th>クリック</th>\n",
       "      <td>1.000000</td>\n",
       "      <td>0.014201</td>\n",
       "    </tr>\n",
       "    <tr>\n",
       "      <th>購入</th>\n",
       "      <td>0.014201</td>\n",
       "      <td>1.000000</td>\n",
       "    </tr>\n",
       "  </tbody>\n",
       "</table>\n",
       "</div>"
      ],
      "text/plain": [
       "          クリック        購入\n",
       "クリック  1.000000  0.014201\n",
       "購入    0.014201  1.000000"
      ]
     },
     "execution_count": 12,
     "metadata": {},
     "output_type": "execute_result"
    }
   ],
   "source": [
    "merged_count_df.corr()"
   ]
  },
  {
   "cell_type": "markdown",
   "metadata": {},
   "source": [
    "- クリック数と購入数に相関は無い(クリックするからといって購入する訳では無い)"
   ]
  },
  {
   "cell_type": "code",
   "execution_count": 13,
   "metadata": {},
   "outputs": [
    {
     "data": {
      "text/html": [
       "<div>\n",
       "<table border=\"1\" class=\"dataframe\">\n",
       "  <thead>\n",
       "    <tr style=\"text-align: right;\">\n",
       "      <th></th>\n",
       "      <th>クリック</th>\n",
       "      <th>購入</th>\n",
       "      <th>閲覧</th>\n",
       "    </tr>\n",
       "  </thead>\n",
       "  <tbody>\n",
       "    <tr>\n",
       "      <th>クリック</th>\n",
       "      <td>1.000000</td>\n",
       "      <td>0.014201</td>\n",
       "      <td>0.126796</td>\n",
       "    </tr>\n",
       "    <tr>\n",
       "      <th>購入</th>\n",
       "      <td>0.014201</td>\n",
       "      <td>1.000000</td>\n",
       "      <td>0.053949</td>\n",
       "    </tr>\n",
       "    <tr>\n",
       "      <th>閲覧</th>\n",
       "      <td>0.126796</td>\n",
       "      <td>0.053949</td>\n",
       "      <td>1.000000</td>\n",
       "    </tr>\n",
       "  </tbody>\n",
       "</table>\n",
       "</div>"
      ],
      "text/plain": [
       "          クリック        購入        閲覧\n",
       "クリック  1.000000  0.014201  0.126796\n",
       "購入    0.014201  1.000000  0.053949\n",
       "閲覧    0.126796  0.053949  1.000000"
      ]
     },
     "execution_count": 13,
     "metadata": {},
     "output_type": "execute_result"
    }
   ],
   "source": [
    "user_e1 = train_C.groupby('user_id')['event_type_1'].sum().sort_index()\n",
    "merged3_count_df = pd.concat([merged_count_df, user_e1], axis=1)\n",
    "merged3_count_df.columns = ['クリック', '購入', '閲覧']\n",
    "merged3_count_df.corr()"
   ]
  },
  {
   "cell_type": "markdown",
   "metadata": {},
   "source": [
    "- 閲覧もほぼ相関無し"
   ]
  },
  {
   "cell_type": "markdown",
   "metadata": {},
   "source": [
    "##### k-Means、エルボー法で分類"
   ]
  },
  {
   "cell_type": "code",
   "execution_count": 14,
   "metadata": {
    "collapsed": true
   },
   "outputs": [],
   "source": [
    "from sklearn.preprocessing import StandardScaler\n",
    "sc = StandardScaler()\n",
    "sc.fit(merged3_count_df)\n",
    "merged3_count_df_std = sc.transform(merged3_count_df)\n",
    "from sklearn.cluster import KMeans\n",
    "X = merged3_count_df_std\n",
    "dist_list =[]\n",
    "for i in range(1,20):\n",
    "    kmpp = KMeans(n_clusters=i,init=\"random\",n_init=5,max_iter=100,random_state=0) \n",
    "    kmpp.fit(X)\n",
    "    dist_list.append(kmpp.inertia_)"
   ]
  },
  {
   "cell_type": "code",
   "execution_count": 15,
   "metadata": {},
   "outputs": [
    {
     "data": {
      "image/png": "[encoded data removed]",
      "text/plain": [
       "<matplotlib.figure.Figure at 0x1055b5e10>"
      ]
     },
     "metadata": {},
     "output_type": "display_data"
    }
   ],
   "source": [
    "plt.plot(range(1,20),dist_list,marker='+');\n",
    "plt.xlabel(\"Number of clusters\");\n",
    "plt.ylabel(\"Disttortion\");"
   ]
  },
  {
   "cell_type": "markdown",
   "metadata": {},
   "source": [
    "- とりあえずk=4にする"
   ]
  },
  {
   "cell_type": "code",
   "execution_count": 16,
   "metadata": {
    "collapsed": true
   },
   "outputs": [],
   "source": [
    "X = merged3_count_df_std\n",
    "kmpp = KMeans(n_clusters=4,init=\"random\",random_state=0)\n",
    "kmpp.fit(X)\n",
    "label_df = pd.DataFrame(kmpp.labels_, columns=[\"cluster\"])"
   ]
  },
  {
   "cell_type": "code",
   "execution_count": 17,
   "metadata": {},
   "outputs": [
    {
     "data": {
      "text/plain": [
       "cluster\n",
       "0      665\n",
       "1      276\n",
       "2    40528\n",
       "3     1802\n",
       "dtype: int64"
      ]
     },
     "execution_count": 17,
     "metadata": {},
     "output_type": "execute_result"
    }
   ],
   "source": [
    "label_df.groupby(\"cluster\").size()"
   ]
  },
  {
   "cell_type": "markdown",
   "metadata": {},
   "source": [
    "##### クリック数と購入数"
   ]
  },
  {
   "cell_type": "code",
   "execution_count": 18,
   "metadata": {},
   "outputs": [
    {
     "data": {
      "image/png": "[encoded data removed]",
      "text/plain": [
       "<matplotlib.figure.Figure at 0x1096c2c10>"
      ]
     },
     "metadata": {},
     "output_type": "display_data"
    }
   ],
   "source": [
    "target_df = merged3_count_df.reset_index().rename(columns={\"index\":\"user_id\"})[['クリック', '購入','閲覧']]\n",
    "clustered_df = pd.concat([target_df, label_df], axis=1)\n",
    "for i in range(0,4):\n",
    "    df_sampled = clustered_df[clustered_df[\"cluster\"] == i]\n",
    "    plt.subplot(2, 2, i+1)\n",
    "    plt.scatter(df_sampled.as_matrix()[:,0],df_sampled.as_matrix()[:,1])\n",
    "    plt.xlim(0,35)\n",
    "    plt.ylim(0,16)\n",
    "    plt.xlabel(u'クリック')\n",
    "    plt.ylabel(u'購入')\n",
    "    plt.title(\"cluster_\" + str(i))\n",
    "plt.tight_layout()"
   ]
  },
  {
   "cell_type": "markdown",
   "metadata": {},
   "source": [
    "##### 閲覧数の分布"
   ]
  },
  {
   "cell_type": "code",
   "execution_count": 19,
   "metadata": {
    "scrolled": false
   },
   "outputs": [
    {
     "data": {
      "image/png": "[encoded data removed]",
      "text/plain": [
       "<matplotlib.figure.Figure at 0x105591410>"
      ]
     },
     "metadata": {},
     "output_type": "display_data"
    }
   ],
   "source": [
    "for i in range(0,4):\n",
    "    df_sampled = clustered_df[clustered_df[\"cluster\"] == i]\n",
    "    plt.subplot(2, 2, i+1)\n",
    "    p = df_sampled.as_matrix()[:,2]\n",
    "    plt.hist(p,bins=int((p.max()-p.min())/50))\n",
    "    plt.xlim(0,2000)\n",
    "    plt.title(\"cluster_\" + str(i))\n",
    "plt.tight_layout()"
   ]
  },
  {
   "cell_type": "markdown",
   "metadata": {},
   "source": [
    "- 閲覧が多いユーザー、購入が多いユーザー、クリックが多いユーザー、どれも多くないユーザーに分かれた"
   ]
  },
  {
   "cell_type": "markdown",
   "metadata": {},
   "source": [
    "## 商品の分類"
   ]
  },
  {
   "cell_type": "code",
   "execution_count": 19,
   "metadata": {},
   "outputs": [
    {
     "name": "stdout",
     "output_type": "stream",
     "text": [
      "商品数：313609\n"
     ]
    }
   ],
   "source": [
    "products = train_C['product_id'].unique()\n",
    "print('商品数：'+str(len(products)))"
   ]
  },
  {
   "cell_type": "code",
   "execution_count": 20,
   "metadata": {},
   "outputs": [
    {
     "name": "stdout",
     "output_type": "stream",
     "text": [
      "閲覧以外もされた商品数：9171\n",
      "クリックされた商品数：8394\n",
      "購入された商品数：862\n"
     ]
    }
   ],
   "source": [
    "print('閲覧以外もされた商品数：'+str(len(train_C[train_C['event_type'] != 1]['product_id'].unique())))\n",
    "print('クリックされた商品数：'+str(len(train_C[train_C['event_type_2']]['product_id'].unique())))\n",
    "print('購入された商品数：'+str(len(train_C[train_C['event_type_3']]['product_id'].unique())))"
   ]
  },
  {
   "cell_type": "code",
   "execution_count": 21,
   "metadata": {},
   "outputs": [
    {
     "name": "stdout",
     "output_type": "stream",
     "text": [
      "商品ごとの購入回数の分布\n",
      "0.0     312747\n",
      "1.0        640\n",
      "2.0        128\n",
      "3.0         41\n",
      "4.0         15\n",
      "5.0         15\n",
      "6.0          5\n",
      "7.0          3\n",
      "8.0          3\n",
      "9.0          1\n",
      "10.0         6\n",
      "11.0         2\n",
      "12.0         2\n",
      "14.0         1\n",
      "Name: event_type_3, dtype: int64\n"
     ]
    }
   ],
   "source": [
    "print('商品ごとの購入回数の分布')\n",
    "print(train_C.groupby('product_id')['event_type_3'].sum().value_counts().sort_index())"
   ]
  },
  {
   "cell_type": "code",
   "execution_count": 22,
   "metadata": {},
   "outputs": [
    {
     "name": "stdout",
     "output_type": "stream",
     "text": [
      "商品ごとのクリック回数の分布\n",
      "0.0       305215\n",
      "1.0         6372\n",
      "2.0         1372\n",
      "3.0          408\n",
      "4.0          137\n",
      "5.0           49\n",
      "6.0           23\n",
      "7.0           11\n",
      "8.0            3\n",
      "9.0            1\n",
      "10.0           2\n",
      "13.0           2\n",
      "16.0           1\n",
      "47.0           1\n",
      "60.0           1\n",
      "78.0           1\n",
      "88.0           1\n",
      "96.0           1\n",
      "105.0          1\n",
      "118.0          1\n",
      "153.0          1\n",
      "170.0          1\n",
      "214.0          1\n",
      "381.0          1\n",
      "487.0          1\n",
      "1230.0         1\n",
      "Name: event_type_2, dtype: int64\n"
     ]
    }
   ],
   "source": [
    "print('商品ごとのクリック回数の分布')\n",
    "print(train_C.groupby('product_id')['event_type_2'].sum().value_counts().sort_index())"
   ]
  },
  {
   "cell_type": "code",
   "execution_count": 23,
   "metadata": {
    "scrolled": false
   },
   "outputs": [
    {
     "data": {
      "text/html": [
       "<div>\n",
       "<table border=\"1\" class=\"dataframe\">\n",
       "  <thead>\n",
       "    <tr style=\"text-align: right;\">\n",
       "      <th></th>\n",
       "      <th>クリック</th>\n",
       "      <th>購入</th>\n",
       "      <th>閲覧</th>\n",
       "    </tr>\n",
       "  </thead>\n",
       "  <tbody>\n",
       "    <tr>\n",
       "      <th>クリック</th>\n",
       "      <td>1.000000</td>\n",
       "      <td>0.006109</td>\n",
       "      <td>0.556091</td>\n",
       "    </tr>\n",
       "    <tr>\n",
       "      <th>購入</th>\n",
       "      <td>0.006109</td>\n",
       "      <td>1.000000</td>\n",
       "      <td>0.071471</td>\n",
       "    </tr>\n",
       "    <tr>\n",
       "      <th>閲覧</th>\n",
       "      <td>0.556091</td>\n",
       "      <td>0.071471</td>\n",
       "      <td>1.000000</td>\n",
       "    </tr>\n",
       "  </tbody>\n",
       "</table>\n",
       "</div>"
      ],
      "text/plain": [
       "          クリック        購入        閲覧\n",
       "クリック  1.000000  0.006109  0.556091\n",
       "購入    0.006109  1.000000  0.071471\n",
       "閲覧    0.556091  0.071471  1.000000"
      ]
     },
     "execution_count": 23,
     "metadata": {},
     "output_type": "execute_result"
    }
   ],
   "source": [
    "product_e1 = train_C.groupby('product_id')['event_type_1'].sum().sort_index()\n",
    "product_e2 = train_C.groupby('product_id')['event_type_2'].sum().sort_index()\n",
    "product_e3 = train_C.groupby('product_id')['event_type_3'].sum().sort_index()\n",
    "p_merged3_count_df = pd.concat([product_e2, product_e3, product_e1], axis=1)\n",
    "p_merged3_count_df.columns = ['クリック', '購入', '閲覧']\n",
    "p_merged3_count_df.corr()"
   ]
  },
  {
   "cell_type": "markdown",
   "metadata": {},
   "source": [
    "- クリックと閲覧には相関がありそう"
   ]
  },
  {
   "cell_type": "markdown",
   "metadata": {},
   "source": [
    "##### k-Means、エルボー法"
   ]
  },
  {
   "cell_type": "code",
   "execution_count": 24,
   "metadata": {
    "collapsed": true
   },
   "outputs": [],
   "source": [
    "from sklearn.preprocessing import StandardScaler\n",
    "p_sc = StandardScaler()\n",
    "p_sc.fit(p_merged3_count_df)\n",
    "p_merged3_count_df_std = sc.transform(p_merged3_count_df)\n",
    "from sklearn.cluster import KMeans\n",
    "p_X = p_merged3_count_df_std\n",
    "p_dist_list =[]\n",
    "for i in range(1,20):\n",
    "    p_kmpp = KMeans(n_clusters=i,init=\"random\",n_init=5,max_iter=100,random_state=0) \n",
    "    p_kmpp.fit(p_X)\n",
    "    p_dist_list.append(p_kmpp.inertia_)"
   ]
  },
  {
   "cell_type": "code",
   "execution_count": 27,
   "metadata": {
    "scrolled": false
   },
   "outputs": [
    {
     "data": {
      "image/png": "[encoded data removed]",
      "text/plain": [
       "<matplotlib.figure.Figure at 0x11b9dc7d0>"
      ]
     },
     "metadata": {},
     "output_type": "display_data"
    }
   ],
   "source": [
    "plt.plot(range(1,20),p_dist_list,marker='+');\n",
    "plt.xlabel(\"Number of clusters\");\n",
    "plt.ylabel(\"Disttortion\");\n",
    "plt.ylim(0,200000);"
   ]
  },
  {
   "cell_type": "markdown",
   "metadata": {},
   "source": [
    "- これもk=4❌\n",
    "- k=12"
   ]
  },
  {
   "cell_type": "code",
   "execution_count": 32,
   "metadata": {
    "collapsed": true
   },
   "outputs": [],
   "source": [
    "p_X = p_merged3_count_df_std\n",
    "p_kmpp = KMeans(n_clusters=12,init=\"random\",random_state=0)\n",
    "p_kmpp.fit(p_X)\n",
    "p_label_df = pd.DataFrame(p_kmpp.labels_, columns=[\"cluster\"])"
   ]
  },
  {
   "cell_type": "code",
   "execution_count": 33,
   "metadata": {},
   "outputs": [
    {
     "data": {
      "text/plain": [
       "cluster\n",
       "0        856\n",
       "1      91723\n",
       "2          1\n",
       "3      25974\n",
       "4     183241\n",
       "5          1\n",
       "6          1\n",
       "7       3620\n",
       "8          1\n",
       "9          2\n",
       "10         7\n",
       "11      8182\n",
       "dtype: int64"
      ]
     },
     "execution_count": 33,
     "metadata": {},
     "output_type": "execute_result"
    }
   ],
   "source": [
    "p_label_df.groupby(\"cluster\").size()"
   ]
  },
  {
   "cell_type": "markdown",
   "metadata": {},
   "source": [
    "- ほぼクラスター0になった❌\n",
    "- 異常な人と他(約6クラスター)"
   ]
  },
  {
   "cell_type": "markdown",
   "metadata": {},
   "source": [
    "##### クリックと購入"
   ]
  },
  {
   "cell_type": "code",
   "execution_count": 43,
   "metadata": {},
   "outputs": [
    {
     "data": {
      "image/png": "[encoded data removed]",
      "text/plain": [
       "<matplotlib.figure.Figure at 0x1146d4cd0>"
      ]
     },
     "metadata": {},
     "output_type": "display_data"
    }
   ],
   "source": [
    "plt.figure(figsize=(10,10))\n",
    "p_target_df = p_merged3_count_df.reset_index().rename(columns={\"index\":\"user_id\"})[['クリック', '購入','閲覧']]\n",
    "p_clustered_df = pd.concat([p_target_df, p_label_df], axis=1)\n",
    "for i in range(0,12):\n",
    "    p_df_sampled = p_clustered_df[p_clustered_df[\"cluster\"] == i]\n",
    "    plt.subplot(4, 3, i+1)\n",
    "    plt.scatter(p_df_sampled.as_matrix()[:,0],p_df_sampled.as_matrix()[:,1])\n",
    "    #plt.xlim(0,500)\n",
    "    #plt.ylim(0,16)\n",
    "    plt.xlabel(u'クリック')\n",
    "    plt.ylabel(u'購入')\n",
    "    plt.title(\"cluster_\" + str(i))\n",
    "plt.tight_layout()"
   ]
  },
  {
   "cell_type": "markdown",
   "metadata": {},
   "source": [
    "##### 閲覧数"
   ]
  },
  {
   "cell_type": "code",
   "execution_count": 42,
   "metadata": {
    "scrolled": false
   },
   "outputs": [
    {
     "data": {
      "image/png": "[encoded data removed]",
      "text/plain": [
       "<matplotlib.figure.Figure at 0x119b3dbd0>"
      ]
     },
     "metadata": {},
     "output_type": "display_data"
    }
   ],
   "source": [
    "plt.figure(figsize=(10,10))\n",
    "for i in range(0,12):\n",
    "    p_df_sampled = p_clustered_df[p_clustered_df[\"cluster\"] == i]\n",
    "    plt.subplot(4, 3, i+1)\n",
    "    p = p_df_sampled.as_matrix()[:,2]\n",
    "    plt.hist(p,bins=int((p.max()-p.min())/50)+5)\n",
    "    plt.xlim(0,600)\n",
    "    plt.title(\"cluster_\" + str(i))\n",
    "plt.tight_layout()"
   ]
  },
  {
   "cell_type": "markdown",
   "metadata": {},
   "source": [
    "- 極端なもの以外だとクリック数が多いものや購入数が多いものが分かれそう"
   ]
  },
  {
   "cell_type": "markdown",
   "metadata": {},
   "source": [
    "## 時間に関連した分析"
   ]
  },
  {
   "cell_type": "code",
   "execution_count": 91,
   "metadata": {
    "collapsed": true
   },
   "outputs": [],
   "source": [
    "train_C['day'] = train_C['time_stamp'].map(lambda x: pd.to_datetime(x).day)"
   ]
  },
  {
   "cell_type": "code",
   "execution_count": 93,
   "metadata": {
    "collapsed": true
   },
   "outputs": [],
   "source": [
    "usercount = train_C['user_id'].value_counts().count();"
   ]
  },
  {
   "cell_type": "code",
   "execution_count": 279,
   "metadata": {
    "scrolled": false
   },
   "outputs": [
    {
     "name": "stdout",
     "output_type": "stream",
     "text": [
      "平均1.26426320939\n"
     ]
    },
    {
     "data": {
      "image/png": "[encoded data removed]",
      "text/plain": [
       "<matplotlib.figure.Figure at 0x10d6d27d0>"
      ]
     },
     "metadata": {},
     "output_type": "display_data"
    }
   ],
   "source": [
    "p = train_C.groupby('day')[['event_type_1']].sum() / usercount\n",
    "plt.plot(p[0:30])\n",
    "plt.ylim(0, 1.6)\n",
    "plt.title(u'全体の平均閲覧数の推移');\n",
    "plt.xlabel(u'日');\n",
    "plt.ylabel(u'回数');\n",
    "print('平均'+str(p[0:30].mean()[0]))"
   ]
  },
  {
   "cell_type": "code",
   "execution_count": 280,
   "metadata": {},
   "outputs": [
    {
     "name": "stdout",
     "output_type": "stream",
     "text": [
      "平均0.0111891721168\n"
     ]
    },
    {
     "data": {
      "image/png": "[encoded data removed]",
      "text/plain": [
       "<matplotlib.figure.Figure at 0x1105c8310>"
      ]
     },
     "metadata": {},
     "output_type": "display_data"
    }
   ],
   "source": [
    "p = train_C.groupby('day')[['event_type_2']].sum() / usercount\n",
    "plt.plot(p[0:30])\n",
    "plt.ylim(0,0.016)\n",
    "plt.title(u'全体の平均クリック数の推移');\n",
    "plt.xlabel(u'日');\n",
    "plt.ylabel(u'回数');\n",
    "print('平均'+str(p[0:30].mean()[0]))"
   ]
  },
  {
   "cell_type": "code",
   "execution_count": 281,
   "metadata": {
    "scrolled": false
   },
   "outputs": [
    {
     "name": "stdout",
     "output_type": "stream",
     "text": [
      "平均0.00103687612181\n"
     ]
    },
    {
     "data": {
      "image/png": "[encoded data removed]",
      "text/plain": [
       "<matplotlib.figure.Figure at 0x10d475a90>"
      ]
     },
     "metadata": {},
     "output_type": "display_data"
    }
   ],
   "source": [
    "p = train_C.groupby('day')[['event_type_3']].sum() / usercount\n",
    "plt.plot(p[0:30])\n",
    "plt.ylim(0,0.002)\n",
    "plt.title(u'全体の平均購入数の推移');\n",
    "plt.xlabel(u'日');\n",
    "plt.ylabel(u'回数');\n",
    "print('平均'+str(p[0:30].mean()[0]))"
   ]
  },
  {
   "cell_type": "markdown",
   "metadata": {},
   "source": [
    "- ばらつきはあるが誤差の内？\n",
    "- 時期的に4月は減っていく時期?"
   ]
  },
  {
   "cell_type": "code",
   "execution_count": 100,
   "metadata": {},
   "outputs": [
    {
     "name": "stdout",
     "output_type": "stream",
     "text": [
      "43271\n",
      "313609\n",
      "1358\n"
     ]
    }
   ],
   "source": [
    "print(len(train_C['user_id'].unique()))\n",
    "print(len(train_C['product_id'].unique()))\n",
    "print(len(train_C[train_C['event_type_3']]))"
   ]
  },
  {
   "cell_type": "markdown",
   "metadata": {},
   "source": [
    "##### 購入した人はその前の期間に何をしている傾向があるか？\n",
    "- 16日以降に購入した人の前15日間のアクションの平均を調べる"
   ]
  },
  {
   "cell_type": "code",
   "execution_count": 271,
   "metadata": {
    "collapsed": true
   },
   "outputs": [],
   "source": [
    "count = 0\n",
    "a = None\n",
    "for e in train_C[train_C['event_type_3']][['day', 'user_id', 'product_id']].as_matrix():\n",
    "    if e[0] > 15 and e[0] < 31:\n",
    "        add = train_C[np.logical_and(train_C['user_id'] == e[1], train_C['day'] <= e[0])][['day', 'event_type', 'product_id']]\n",
    "        add['day'] = add['day'].map(lambda x: x - e[0]) #何日前か(マイナス)\n",
    "        add['product_id'] = add['product_id'].map(lambda x: x==e[2]) #同じ商品かbool\n",
    "        if count != 0:\n",
    "            a = pd.concat([a, add])\n",
    "        else:\n",
    "            a = add\n",
    "        count = count + 1"
   ]
  },
  {
   "cell_type": "code",
   "execution_count": 283,
   "metadata": {},
   "outputs": [
    {
     "data": {
      "image/png": "[encoded data removed]",
      "text/plain": [
       "<matplotlib.figure.Figure at 0x10f006d10>"
      ]
     },
     "metadata": {},
     "output_type": "display_data"
    }
   ],
   "source": [
    "plt.plot(a[a['event_type'] == 1].groupby('day').count() / count);\n",
    "plt.plot(a[a['event_type'] == 2].groupby('day').count() / count);\n",
    "plt.plot(a[a['event_type'] == 3].groupby('day').count() / count);\n",
    "plt.legend([u'閲覧回数', u'クリック回数', u'購入回数']);\n",
    "plt.xlim(-14,0);\n",
    "plt.xlabel(u'日前');\n",
    "plt.title(u'購入の前の期間のアクション');"
   ]
  },
  {
   "cell_type": "code",
   "execution_count": 273,
   "metadata": {},
   "outputs": [
    {
     "data": {
      "image/png": "[encoded data removed]",
      "text/plain": [
       "<matplotlib.figure.Figure at 0x10c343dd0>"
      ]
     },
     "metadata": {},
     "output_type": "display_data"
    }
   ],
   "source": [
    "plt.plot(a[np.logical_and(a['event_type'] == 1, a['product_id'])].groupby('day').count() / count)\n",
    "plt.plot(a[np.logical_and(a['event_type'] == 1, np.logical_not(a['product_id']))].groupby('day').count() / count)\n",
    "plt.legend([u'同じ商品の閲覧',u'他の商品の閲覧']);\n",
    "plt.xlim(-14,0);"
   ]
  },
  {
   "cell_type": "markdown",
   "metadata": {},
   "source": [
    "- 購入する9日ほど前にはその商品を閲覧している割合が高い→閲覧から購入を予想できるのでは?"
   ]
  },
  {
   "cell_type": "markdown",
   "metadata": {},
   "source": [
    "# 評価値の導出式\n",
    "\n",
    "### 方針\n",
    "\n",
    "- 似たユーザーがアドを見たときに買いそうなほど高い値になるようにする\n",
    "\n",
    "### イメージ\n",
    "\n",
    "- アド経由で買った→高ポイント\n",
    "- アド経由無しで買った→そこそこ高ポイント\n",
    "- 迷ったけどやめた→中ポイント\n",
    "- 見てすぐやめた→低ポイント"
   ]
  },
  {
   "cell_type": "code",
   "execution_count": null,
   "metadata": {
    "collapsed": true
   },
   "outputs": [],
   "source": [
    "#関数\n",
    "def score(eventlist):\n",
    "    if np.logical_and(eventlist['event_type'] == 3, eventlist['ad'] == 1).sum() > 0:\n",
    "        return 10\n",
    "    if np.logical_and(eventlist['event_type'] == 3, eventlist['ad'] == 0).sum() > 0:\n",
    "        return 8\n",
    "    score = 0\n",
    "    for event in events:\n",
    "        if event['event_type'] == 1:\n",
    "            score += 1\n",
    "        else if event['event_type'] == 2:\n",
    "            score += 2\n",
    "    return score"
   ]
  },
  {
   "cell_type": "markdown",
   "metadata": {},
   "source": [
    "(思ったこと)\n",
    "\n",
    "閲覧だけしてる商品は評価値自体は高くなくても、その人が買う確率は高い？\n",
    "\n",
    "- クラスターごとに点数のつけかた変える"
   ]
  }
 ],
 "metadata": {
  "kernelspec": {
   "display_name": "Python 2",
   "language": "python",
   "name": "python2"
  },
  "language_info": {
   "codemirror_mode": {
    "name": "ipython",
    "version": 2
   },
   "file_extension": ".py",
   "mimetype": "text/x-python",
   "name": "python",
   "nbconvert_exporter": "python",
   "pygments_lexer": "ipython2",
   "version": "2.7.11"
  }
 },
 "nbformat": 4,
 "nbformat_minor": 2
}
