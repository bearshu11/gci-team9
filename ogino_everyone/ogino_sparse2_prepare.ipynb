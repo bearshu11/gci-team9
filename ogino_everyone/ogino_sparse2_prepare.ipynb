{
 "cells": [
  {
   "cell_type": "code",
   "execution_count": 18,
   "metadata": {},
   "outputs": [],
   "source": [
    "import numpy as np\n",
    "import scipy as sp\n",
    "import pandas as pd\n",
    "import matplotlib.pyplot as plt\n",
    "%matplotlib inline\n",
    "\n",
    "train = pd.read_table('../data/train/train_C.tsv')\n",
    "\n",
    "user_ids = train['user_id'].unique()\n",
    "user_ids.sort()\n",
    "user_ids_index = pd.Index(user_ids)\n",
    "train['user_id_int'] = train['user_id'].map(lambda x : user_ids_index.get_loc(x))\n",
    "\n",
    "product_ids = train['product_id'].unique()\n",
    "product_ids.sort()\n",
    "product_ids_index = pd.Index(product_ids)\n",
    "train['product_id_int'] = train['product_id'].map(lambda x : product_ids_index.get_loc(x))\n",
    "\n",
    "train['event_type_1'] = train['event_type'] == 1\n",
    "train['event_type_2'] = train['event_type'] == 2\n",
    "train['event_type_3'] = train['event_type'] == 3\n",
    "\n",
    "user_e2 = train.groupby('user_id_int')['event_type_2'].sum().sort_index()\n",
    "user_e3 = train.groupby('user_id_int')['event_type_3'].sum().sort_index()\n",
    "user_merged_count_df = pd.concat([user_e2, user_e3], axis=1)\n",
    "user_e1 = train.groupby('user_id_int')['event_type_1'].sum().sort_index()\n",
    "user_merged3_count_df = pd.concat([user_merged_count_df, user_e1], axis=1)"
   ]
  },
  {
   "cell_type": "code",
   "execution_count": 5,
   "metadata": {},
   "outputs": [
    {
     "data": {
      "image/png": "[encoded data removed]",
      "text/plain": [
       "<matplotlib.figure.Figure at 0x10b7c7ed0>"
      ]
     },
     "metadata": {},
     "output_type": "display_data"
    }
   ],
   "source": [
    "from sklearn.preprocessing import StandardScaler\n",
    "sc = StandardScaler()\n",
    "sc.fit(user_merged3_count_df)\n",
    "user_merged3_count_df_std = sc.transform(user_merged3_count_df)\n",
    "from sklearn.cluster import KMeans\n",
    "X = user_merged3_count_df_std\n",
    "dist_list =[]\n",
    "for i in range(1,20):\n",
    "    kmpp = KMeans(n_clusters=i,init=\"random\",n_init=5,max_iter=100,random_state=0) \n",
    "    kmpp.fit(X)\n",
    "    dist_list.append(kmpp.inertia_)\n",
    "plt.plot(range(1,20),dist_list,marker='+');\n",
    "plt.xlabel(\"Number of clusters\");\n",
    "plt.ylabel(\"Disttortion\");"
   ]
  },
  {
   "cell_type": "code",
   "execution_count": 6,
   "metadata": {
    "collapsed": true
   },
   "outputs": [],
   "source": [
    "X = user_merged3_count_df_std\n",
    "kmpp = KMeans(n_clusters=4,init=\"random\",random_state=0)#n_clustersを適切にえらぶ\n",
    "kmpp.fit(X)\n",
    "user_label_df = pd.DataFrame(kmpp.labels_, columns=[\"user_cluster\"])"
   ]
  },
  {
   "cell_type": "code",
   "execution_count": 9,
   "metadata": {
    "collapsed": true
   },
   "outputs": [],
   "source": [
    "user_label_df.to_csv('user_cluster.csv')"
   ]
  },
  {
   "cell_type": "code",
   "execution_count": 13,
   "metadata": {
    "collapsed": true
   },
   "outputs": [],
   "source": [
    "product_e2 = train.groupby('product_id_int')['event_type_2'].sum().sort_index()\n",
    "product_e3 = train.groupby('product_id_int')['event_type_3'].sum().sort_index()\n",
    "product_merged_count_df = pd.concat([product_e2, product_e3], axis=1)\n",
    "product_e1 = train.groupby('product_id_int')['event_type_1'].sum().sort_index()\n",
    "product_merged3_count_df = pd.concat([product_merged_count_df, product_e1], axis=1)"
   ]
  },
  {
   "cell_type": "code",
   "execution_count": 15,
   "metadata": {
    "collapsed": true
   },
   "outputs": [],
   "source": [
    "from sklearn.preprocessing import StandardScaler\n",
    "sc = StandardScaler()\n",
    "sc.fit(product_merged3_count_df)\n",
    "product_merged3_count_df_std = sc.transform(product_merged3_count_df)"
   ]
  },
  {
   "cell_type": "code",
   "execution_count": 16,
   "metadata": {},
   "outputs": [],
   "source": [
    "X = product_merged3_count_df_std\n",
    "kmpp = KMeans(n_clusters=4,init=\"random\",random_state=0)#n_clustersを適切にえらぶ\n",
    "kmpp.fit(X)\n",
    "product_label_df = pd.DataFrame(kmpp.labels_, columns=[\"product_cluster\"])\n",
    "product_label_df.to_csv('product_cluster.csv')"
   ]
  },
  {
   "cell_type": "code",
   "execution_count": 19,
   "metadata": {},
   "outputs": [
    {
     "data": {
      "text/html": [
       "<div>\n",
       "<table border=\"1\" class=\"dataframe\">\n",
       "  <thead>\n",
       "    <tr style=\"text-align: right;\">\n",
       "      <th></th>\n",
       "      <th>クリック</th>\n",
       "      <th>購入</th>\n",
       "      <th>閲覧</th>\n",
       "    </tr>\n",
       "  </thead>\n",
       "  <tbody>\n",
       "    <tr>\n",
       "      <th>クリック</th>\n",
       "      <td>1.000000</td>\n",
       "      <td>0.014201</td>\n",
       "      <td>0.126796</td>\n",
       "    </tr>\n",
       "    <tr>\n",
       "      <th>購入</th>\n",
       "      <td>0.014201</td>\n",
       "      <td>1.000000</td>\n",
       "      <td>0.053949</td>\n",
       "    </tr>\n",
       "    <tr>\n",
       "      <th>閲覧</th>\n",
       "      <td>0.126796</td>\n",
       "      <td>0.053949</td>\n",
       "      <td>1.000000</td>\n",
       "    </tr>\n",
       "  </tbody>\n",
       "</table>\n",
       "</div>"
      ],
      "text/plain": [
       "          クリック        購入        閲覧\n",
       "クリック  1.000000  0.014201  0.126796\n",
       "購入    0.014201  1.000000  0.053949\n",
       "閲覧    0.126796  0.053949  1.000000"
      ]
     },
     "execution_count": 19,
     "metadata": {},
     "output_type": "execute_result"
    }
   ],
   "source": [
    "user_merged3_count_df.columns = ['クリック', '購入', '閲覧']\n",
    "user_merged3_count_df.corr()"
   ]
  },
  {
   "cell_type": "code",
   "execution_count": null,
   "metadata": {
    "collapsed": true
   },
   "outputs": [],
   "source": []
  }
 ],
 "metadata": {
  "kernelspec": {
   "display_name": "Python 2",
   "language": "python",
   "name": "python2"
  },
  "language_info": {
   "codemirror_mode": {
    "name": "ipython",
    "version": 2
   },
   "file_extension": ".py",
   "mimetype": "text/x-python",
   "name": "python",
   "nbconvert_exporter": "python",
   "pygments_lexer": "ipython2",
   "version": "2.7.11"
  }
 },
 "nbformat": 4,
 "nbformat_minor": 2
}
