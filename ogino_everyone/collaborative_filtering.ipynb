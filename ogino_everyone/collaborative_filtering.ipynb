{
 "cells": [
  {
   "cell_type": "code",
   "execution_count": 3,
   "metadata": {
    "collapsed": true
   },
   "outputs": [],
   "source": [
    "import numpy as np\n",
    "import pandas as pd\n",
    "from sklearn.decomposition import NMF\n",
    "import time"
   ]
  },
  {
   "cell_type": "code",
   "execution_count": 4,
   "metadata": {
    "collapsed": true
   },
   "outputs": [],
   "source": [
    "def make_data_small(data, usercount = 100):\n",
    "    #後ろの1週間を除いて100ユーザー分のデータを取得\n",
    "    former = data[data['time_stamp'] < '2017-04-24 00:00:00.000']\n",
    "    users_small = former['user_id'].unique()[0 : usercount]\n",
    "    data_small = former[np.in1d(former['user_id'], users_small)]\n",
    "    products_small = former['product_id'].unique()\n",
    "    \n",
    "    #後ろの1週間から同じユーザーとプロダクトのものを評価用に取得\n",
    "    latter = data[data['time_stamp'] >= '2017-04-24 00:00:00.000']\n",
    "    latter = latter[np.in1d(latter['user_id'], users_small)]\n",
    "    latter = latter[np.in1d(latter['product_id'], products_small)]\n",
    "    \n",
    "    test_small = pd.DataFrame(latter['user_id'].unique())\n",
    "    test_small.columns = ['user_id']\n",
    "    test_small_ans = latter\n",
    "    \n",
    "    return data_small, test_small, test_small_ans"
   ]
  },
  {
   "cell_type": "code",
   "execution_count": 7,
   "metadata": {
    "collapsed": true
   },
   "outputs": [],
   "source": [
    "#小さいデータセットを作成\n",
    "\n",
    "filename = '../data/train/train_B.tsv'\n",
    "train = pd.read_table(filename)\n",
    "train_small, test_small, test_small_ans = make_data_small(train)"
   ]
  },
  {
   "cell_type": "code",
   "execution_count": 8,
   "metadata": {},
   "outputs": [
    {
     "name": "stdout",
     "output_type": "stream",
     "text": [
      "event: 44670\n",
      "user: 100\n",
      "product: 13606\n"
     ]
    }
   ],
   "source": [
    "#データサイズ確認\n",
    "\n",
    "users_small = train_small['user_id'].unique()\n",
    "users_small.sort()\n",
    "products_small = train_small['product_id'].unique()\n",
    "products_small.sort()\n",
    "print(\"event: \" + str(len(train_small)))\n",
    "print(\"user: \" + str(len(users_small)))\n",
    "print(\"product: \" + str(len(products_small)))"
   ]
  },
  {
   "cell_type": "code",
   "execution_count": 35,
   "metadata": {
    "collapsed": true
   },
   "outputs": [],
   "source": [
    "def make_eventcountmat(data, event_type, users = [], products = []):\n",
    "    if len(users) == 0:\n",
    "        users = data['user_id'].unique()\n",
    "    if len(products) == 0:\n",
    "        products = data['product_id'].unique()\n",
    "    \n",
    "    #ユーザーとプロダクトを行列のインデックスに変換\n",
    "    users_ind = pd.Index(users)\n",
    "    products_ind = pd.Index(products)\n",
    "    data['user_id_int'] = data['user_id'].map(lambda x: users_ind.get_loc(x))\n",
    "    data['product_id_int'] = data['product_id'].map(lambda x: products_ind.get_loc(x))\n",
    "    \n",
    "    mat = np.zeros((len(users), len(products)), dtype='int16')\n",
    "    def count_event(event):\n",
    "        mat[event['user_id_int'], event['product_id_int']] += 1\n",
    "        return 0\n",
    "    data = data[data['event_type'] == event_type]\n",
    "    data.apply(count_event, axis=1)\n",
    "    return mat\n",
    "\n",
    "def make_eventcountmats(data, users = [], products = []):\n",
    "    if len(users) == 0:\n",
    "        users = data['user_id'].unique()\n",
    "    if len(products) == 0:\n",
    "        products = data['product_id'].unique()\n",
    "    #各イベントごとにカウント\n",
    "    mats = np.zeros((4, len(users), len(products)), dtype='int16')\n",
    "    for i in [0, 1, 2, 3]:\n",
    "        mats[i, :, :] = make_eventcountmat(data, i, users, products)    \n",
    "    return mats\n",
    "\n",
    "def make_crossmat(data = None, users = [], products = [], scores = [], mats = []):\n",
    "    #スコアの重みをかけて足す\n",
    "    if len(scores) == 0:\n",
    "        scores = np.array([\n",
    "            3, #0カート\n",
    "            1, #1閲覧\n",
    "            2, #2クリック\n",
    "            4  #3コンバージェンス\n",
    "        ])\n",
    "    if len(mats) == 0:\n",
    "        mats = make_eventcountmats(data, users, products)\n",
    "    crossmat = np.einsum('ijk,i', mats, scores)\n",
    "    return crossmat"
   ]
  },
  {
   "cell_type": "code",
   "execution_count": 36,
   "metadata": {},
   "outputs": [
    {
     "data": {
      "text/plain": [
       "array([[  3.,   4.,   2., ...,   0.,   0.,   0.],\n",
       "       [  2.,   0.,   0., ...,   0.,   0.,   0.],\n",
       "       [ 35.,   3.,   0., ...,   0.,   0.,   0.],\n",
       "       ..., \n",
       "       [  0.,   0.,   0., ...,   0.,   0.,   0.],\n",
       "       [  0.,   0.,   0., ...,   0.,   0.,   0.],\n",
       "       [  0.,   0.,   0., ...,   0.,   0.,   0.]])"
      ]
     },
     "execution_count": 36,
     "metadata": {},
     "output_type": "execute_result"
    }
   ],
   "source": [
    "mats = make_eventcountmats(train_small, users_small, products_small)\n",
    "mat = make_crossmat(mats = mats)\n",
    "mat"
   ]
  },
  {
   "cell_type": "code",
   "execution_count": 14,
   "metadata": {
    "collapsed": true
   },
   "outputs": [],
   "source": [
    "def get_rating_error(r, p, q):\n",
    "    return r - np.dot(p, q)\n",
    "\n",
    "\n",
    "def get_error(R, P, Q, beta):\n",
    "    error = 0.0\n",
    "    for i in xrange(len(R)):\n",
    "        for j in xrange(len(R[i])):\n",
    "            if R[i][j] == 0:\n",
    "                continue\n",
    "            error += pow(get_rating_error(R[i][j], P[:,i], Q[:,j]), 2)\n",
    "    error += beta/2.0 * (np.linalg.norm(P) + np.linalg.norm(Q))\n",
    "    return error\n",
    "\n",
    "\n",
    "def matrix_factorization(R, K, steps=5000, alpha=0.0002, beta=0.02, threshold=0.001):\n",
    "    np.random.seed(1234)\n",
    "    P = np.random.rand(K, len(R))\n",
    "    Q = np.random.rand(K, len(R[0]))\n",
    "    t1 = time.time()\n",
    "    step = 0\n",
    "    while True:\n",
    "        for i in xrange(len(R)):\n",
    "            for j in xrange(len(R[i])):\n",
    "                if R[i][j] == 0:\n",
    "                    continue\n",
    "                err = get_rating_error(R[i][j], P[:, i], Q[:, j])\n",
    "                for k in xrange(K):\n",
    "                    P[k][i] += alpha * (2 * err * Q[k][j])\n",
    "                    Q[k][j] += alpha * (2 * err * P[k][i])\n",
    "        error = get_error(R, P, Q, beta)\n",
    "        if step % 100 == 0:\n",
    "            time_spent = time.time()-t1\n",
    "            print(\"step: \" + str(step) + \" error: \" + str(error) + \" time: \" + str(time_spent) + \"秒\")\n",
    "        step += 1\n",
    "        if error < threshold or step >= steps:\n",
    "            time_spent = time.time()-t1\n",
    "            print(\"step: \" + str(step) + \" error: \" + str(error) + \" time: \" + str(time_spent) + \"秒\")\n",
    "            break\n",
    "    return P, Q"
   ]
  },
  {
   "cell_type": "code",
   "execution_count": 8,
   "metadata": {},
   "outputs": [
    {
     "name": "stdout",
     "output_type": "stream",
     "text": [
      "step: 5000 error: 17.7040307378 time: 3123.33389711秒\r"
     ]
    }
   ],
   "source": [
    "nP, nQ = matrix_factorization(mat, 5, threshold=1.0)"
   ]
  },
  {
   "cell_type": "code",
   "execution_count": 12,
   "metadata": {
    "scrolled": true
   },
   "outputs": [
    {
     "data": {
      "text/plain": [
       "array([[ 0.48960361,  0.24479165,  0.73449984, ...,  0.42149506,\n",
       "         0.25749318,  0.42740348],\n",
       "       [ 0.24474319,  0.19169394,  0.24456702, ...,  0.21380435,\n",
       "         0.22078379,  0.21511228],\n",
       "       [ 0.24474148,  0.11807646,  0.35285627, ...,  0.16172407,\n",
       "         0.13754109,  0.13558938],\n",
       "       ..., \n",
       "       [ 0.24822521,  0.26545699,  0.14285855, ...,  0.26502793,\n",
       "         0.35489819,  0.25984083],\n",
       "       [ 0.22603871,  0.09455061,  0.36258429, ...,  0.16552911,\n",
       "         0.13860357,  0.12880359],\n",
       "       [ 0.23258835,  0.17573105,  0.22217366, ...,  0.21318364,\n",
       "         0.21318285,  0.21318441]])"
      ]
     },
     "execution_count": 12,
     "metadata": {},
     "output_type": "execute_result"
    }
   ],
   "source": [
    "mat_estimate = np.dot(nP.T,nQ)\n",
    "mat_estimate"
   ]
  },
  {
   "cell_type": "code",
   "execution_count": 25,
   "metadata": {
    "collapsed": true,
    "scrolled": false
   },
   "outputs": [],
   "source": [
    "def make_recommend(test, mat, users, products):\n",
    "    users_ind = pd.Index(users)\n",
    "    recommend_df = pd.DataFrame([[],[]]).T\n",
    "    for user_id in test['user_id']:\n",
    "        user_int = users_ind.get_loc(user_id)\n",
    "        scores = mat[user_int,:]\n",
    "        ranking = np.argsort(scores)\n",
    "        recommends = []\n",
    "        for r in ranking:\n",
    "            product_id = products[r]\n",
    "            recommends.append(product_id)\n",
    "            if len(recommends) >= 22:\n",
    "                break\n",
    "        k = len(recommends)\n",
    "        add = pd.DataFrame([[user_id] * k, recommends, range(k)]).T\n",
    "        recommend_df = pd.concat([recommend_df, add], axis = 0)\n",
    "    recommend_df.index = range(recommend_df.shape[0])\n",
    "    return recommend_df"
   ]
  },
  {
   "cell_type": "code",
   "execution_count": 28,
   "metadata": {},
   "outputs": [
    {
     "data": {
      "text/html": [
       "<div>\n",
       "<table border=\"1\" class=\"dataframe\">\n",
       "  <thead>\n",
       "    <tr style=\"text-align: right;\">\n",
       "      <th></th>\n",
       "      <th>0</th>\n",
       "      <th>1</th>\n",
       "      <th>2</th>\n",
       "    </tr>\n",
       "  </thead>\n",
       "  <tbody>\n",
       "    <tr>\n",
       "      <th>0</th>\n",
       "      <td>0000000_B</td>\n",
       "      <td>00001198_b</td>\n",
       "      <td>0</td>\n",
       "    </tr>\n",
       "    <tr>\n",
       "      <th>1</th>\n",
       "      <td>0000000_B</td>\n",
       "      <td>00009295_b</td>\n",
       "      <td>1</td>\n",
       "    </tr>\n",
       "    <tr>\n",
       "      <th>2</th>\n",
       "      <td>0000000_B</td>\n",
       "      <td>00005907_b</td>\n",
       "      <td>2</td>\n",
       "    </tr>\n",
       "    <tr>\n",
       "      <th>3</th>\n",
       "      <td>0000000_B</td>\n",
       "      <td>00011759_b</td>\n",
       "      <td>3</td>\n",
       "    </tr>\n",
       "    <tr>\n",
       "      <th>4</th>\n",
       "      <td>0000000_B</td>\n",
       "      <td>00001353_b</td>\n",
       "      <td>4</td>\n",
       "    </tr>\n",
       "    <tr>\n",
       "      <th>5</th>\n",
       "      <td>0000000_B</td>\n",
       "      <td>00014990_b</td>\n",
       "      <td>5</td>\n",
       "    </tr>\n",
       "    <tr>\n",
       "      <th>6</th>\n",
       "      <td>0000000_B</td>\n",
       "      <td>00012333_b</td>\n",
       "      <td>6</td>\n",
       "    </tr>\n",
       "    <tr>\n",
       "      <th>7</th>\n",
       "      <td>0000000_B</td>\n",
       "      <td>00011292_b</td>\n",
       "      <td>7</td>\n",
       "    </tr>\n",
       "    <tr>\n",
       "      <th>8</th>\n",
       "      <td>0000000_B</td>\n",
       "      <td>00002923_b</td>\n",
       "      <td>8</td>\n",
       "    </tr>\n",
       "    <tr>\n",
       "      <th>9</th>\n",
       "      <td>0000000_B</td>\n",
       "      <td>00007841_b</td>\n",
       "      <td>9</td>\n",
       "    </tr>\n",
       "    <tr>\n",
       "      <th>10</th>\n",
       "      <td>0000000_B</td>\n",
       "      <td>00011300_b</td>\n",
       "      <td>10</td>\n",
       "    </tr>\n",
       "    <tr>\n",
       "      <th>11</th>\n",
       "      <td>0000000_B</td>\n",
       "      <td>00006066_b</td>\n",
       "      <td>11</td>\n",
       "    </tr>\n",
       "    <tr>\n",
       "      <th>12</th>\n",
       "      <td>0000000_B</td>\n",
       "      <td>00015077_b</td>\n",
       "      <td>12</td>\n",
       "    </tr>\n",
       "    <tr>\n",
       "      <th>13</th>\n",
       "      <td>0000000_B</td>\n",
       "      <td>00013949_b</td>\n",
       "      <td>13</td>\n",
       "    </tr>\n",
       "    <tr>\n",
       "      <th>14</th>\n",
       "      <td>0000000_B</td>\n",
       "      <td>00003974_b</td>\n",
       "      <td>14</td>\n",
       "    </tr>\n",
       "    <tr>\n",
       "      <th>15</th>\n",
       "      <td>0000000_B</td>\n",
       "      <td>00009049_b</td>\n",
       "      <td>15</td>\n",
       "    </tr>\n",
       "    <tr>\n",
       "      <th>16</th>\n",
       "      <td>0000000_B</td>\n",
       "      <td>00004295_b</td>\n",
       "      <td>16</td>\n",
       "    </tr>\n",
       "    <tr>\n",
       "      <th>17</th>\n",
       "      <td>0000000_B</td>\n",
       "      <td>00002592_b</td>\n",
       "      <td>17</td>\n",
       "    </tr>\n",
       "    <tr>\n",
       "      <th>18</th>\n",
       "      <td>0000000_B</td>\n",
       "      <td>00000608_b</td>\n",
       "      <td>18</td>\n",
       "    </tr>\n",
       "    <tr>\n",
       "      <th>19</th>\n",
       "      <td>0000000_B</td>\n",
       "      <td>00001165_b</td>\n",
       "      <td>19</td>\n",
       "    </tr>\n",
       "    <tr>\n",
       "      <th>20</th>\n",
       "      <td>0000000_B</td>\n",
       "      <td>00004600_b</td>\n",
       "      <td>20</td>\n",
       "    </tr>\n",
       "    <tr>\n",
       "      <th>21</th>\n",
       "      <td>0000000_B</td>\n",
       "      <td>00001277_b</td>\n",
       "      <td>21</td>\n",
       "    </tr>\n",
       "    <tr>\n",
       "      <th>22</th>\n",
       "      <td>0000196_B</td>\n",
       "      <td>00003171_b</td>\n",
       "      <td>0</td>\n",
       "    </tr>\n",
       "    <tr>\n",
       "      <th>23</th>\n",
       "      <td>0000196_B</td>\n",
       "      <td>00001198_b</td>\n",
       "      <td>1</td>\n",
       "    </tr>\n",
       "    <tr>\n",
       "      <th>24</th>\n",
       "      <td>0000196_B</td>\n",
       "      <td>00009295_b</td>\n",
       "      <td>2</td>\n",
       "    </tr>\n",
       "    <tr>\n",
       "      <th>25</th>\n",
       "      <td>0000196_B</td>\n",
       "      <td>00005907_b</td>\n",
       "      <td>3</td>\n",
       "    </tr>\n",
       "    <tr>\n",
       "      <th>26</th>\n",
       "      <td>0000196_B</td>\n",
       "      <td>00011759_b</td>\n",
       "      <td>4</td>\n",
       "    </tr>\n",
       "    <tr>\n",
       "      <th>27</th>\n",
       "      <td>0000196_B</td>\n",
       "      <td>00001353_b</td>\n",
       "      <td>5</td>\n",
       "    </tr>\n",
       "    <tr>\n",
       "      <th>28</th>\n",
       "      <td>0000196_B</td>\n",
       "      <td>00014990_b</td>\n",
       "      <td>6</td>\n",
       "    </tr>\n",
       "    <tr>\n",
       "      <th>29</th>\n",
       "      <td>0000196_B</td>\n",
       "      <td>00012333_b</td>\n",
       "      <td>7</td>\n",
       "    </tr>\n",
       "    <tr>\n",
       "      <th>...</th>\n",
       "      <td>...</td>\n",
       "      <td>...</td>\n",
       "      <td>...</td>\n",
       "    </tr>\n",
       "    <tr>\n",
       "      <th>1092</th>\n",
       "      <td>0004149_B</td>\n",
       "      <td>00011300_b</td>\n",
       "      <td>14</td>\n",
       "    </tr>\n",
       "    <tr>\n",
       "      <th>1093</th>\n",
       "      <td>0004149_B</td>\n",
       "      <td>00015077_b</td>\n",
       "      <td>15</td>\n",
       "    </tr>\n",
       "    <tr>\n",
       "      <th>1094</th>\n",
       "      <td>0004149_B</td>\n",
       "      <td>00004384_b</td>\n",
       "      <td>16</td>\n",
       "    </tr>\n",
       "    <tr>\n",
       "      <th>1095</th>\n",
       "      <td>0004149_B</td>\n",
       "      <td>00013949_b</td>\n",
       "      <td>17</td>\n",
       "    </tr>\n",
       "    <tr>\n",
       "      <th>1096</th>\n",
       "      <td>0004149_B</td>\n",
       "      <td>00003974_b</td>\n",
       "      <td>18</td>\n",
       "    </tr>\n",
       "    <tr>\n",
       "      <th>1097</th>\n",
       "      <td>0004149_B</td>\n",
       "      <td>00009049_b</td>\n",
       "      <td>19</td>\n",
       "    </tr>\n",
       "    <tr>\n",
       "      <th>1098</th>\n",
       "      <td>0004149_B</td>\n",
       "      <td>00004295_b</td>\n",
       "      <td>20</td>\n",
       "    </tr>\n",
       "    <tr>\n",
       "      <th>1099</th>\n",
       "      <td>0004149_B</td>\n",
       "      <td>00002592_b</td>\n",
       "      <td>21</td>\n",
       "    </tr>\n",
       "    <tr>\n",
       "      <th>1100</th>\n",
       "      <td>0004261_B</td>\n",
       "      <td>00004491_b</td>\n",
       "      <td>0</td>\n",
       "    </tr>\n",
       "    <tr>\n",
       "      <th>1101</th>\n",
       "      <td>0004261_B</td>\n",
       "      <td>00014465_b</td>\n",
       "      <td>1</td>\n",
       "    </tr>\n",
       "    <tr>\n",
       "      <th>1102</th>\n",
       "      <td>0004261_B</td>\n",
       "      <td>00010676_b</td>\n",
       "      <td>2</td>\n",
       "    </tr>\n",
       "    <tr>\n",
       "      <th>1103</th>\n",
       "      <td>0004261_B</td>\n",
       "      <td>00000370_b</td>\n",
       "      <td>3</td>\n",
       "    </tr>\n",
       "    <tr>\n",
       "      <th>1104</th>\n",
       "      <td>0004261_B</td>\n",
       "      <td>00006079_b</td>\n",
       "      <td>4</td>\n",
       "    </tr>\n",
       "    <tr>\n",
       "      <th>1105</th>\n",
       "      <td>0004261_B</td>\n",
       "      <td>00001412_b</td>\n",
       "      <td>5</td>\n",
       "    </tr>\n",
       "    <tr>\n",
       "      <th>1106</th>\n",
       "      <td>0004261_B</td>\n",
       "      <td>00008136_b</td>\n",
       "      <td>6</td>\n",
       "    </tr>\n",
       "    <tr>\n",
       "      <th>1107</th>\n",
       "      <td>0004261_B</td>\n",
       "      <td>00013576_b</td>\n",
       "      <td>7</td>\n",
       "    </tr>\n",
       "    <tr>\n",
       "      <th>1108</th>\n",
       "      <td>0004261_B</td>\n",
       "      <td>00000189_b</td>\n",
       "      <td>8</td>\n",
       "    </tr>\n",
       "    <tr>\n",
       "      <th>1109</th>\n",
       "      <td>0004261_B</td>\n",
       "      <td>00003013_b</td>\n",
       "      <td>9</td>\n",
       "    </tr>\n",
       "    <tr>\n",
       "      <th>1110</th>\n",
       "      <td>0004261_B</td>\n",
       "      <td>00003229_b</td>\n",
       "      <td>10</td>\n",
       "    </tr>\n",
       "    <tr>\n",
       "      <th>1111</th>\n",
       "      <td>0004261_B</td>\n",
       "      <td>00002647_b</td>\n",
       "      <td>11</td>\n",
       "    </tr>\n",
       "    <tr>\n",
       "      <th>1112</th>\n",
       "      <td>0004261_B</td>\n",
       "      <td>00016503_b</td>\n",
       "      <td>12</td>\n",
       "    </tr>\n",
       "    <tr>\n",
       "      <th>1113</th>\n",
       "      <td>0004261_B</td>\n",
       "      <td>00001495_b</td>\n",
       "      <td>13</td>\n",
       "    </tr>\n",
       "    <tr>\n",
       "      <th>1114</th>\n",
       "      <td>0004261_B</td>\n",
       "      <td>00000437_b</td>\n",
       "      <td>14</td>\n",
       "    </tr>\n",
       "    <tr>\n",
       "      <th>1115</th>\n",
       "      <td>0004261_B</td>\n",
       "      <td>00013679_b</td>\n",
       "      <td>15</td>\n",
       "    </tr>\n",
       "    <tr>\n",
       "      <th>1116</th>\n",
       "      <td>0004261_B</td>\n",
       "      <td>00006655_b</td>\n",
       "      <td>16</td>\n",
       "    </tr>\n",
       "    <tr>\n",
       "      <th>1117</th>\n",
       "      <td>0004261_B</td>\n",
       "      <td>00013453_b</td>\n",
       "      <td>17</td>\n",
       "    </tr>\n",
       "    <tr>\n",
       "      <th>1118</th>\n",
       "      <td>0004261_B</td>\n",
       "      <td>00008794_b</td>\n",
       "      <td>18</td>\n",
       "    </tr>\n",
       "    <tr>\n",
       "      <th>1119</th>\n",
       "      <td>0004261_B</td>\n",
       "      <td>00013429_b</td>\n",
       "      <td>19</td>\n",
       "    </tr>\n",
       "    <tr>\n",
       "      <th>1120</th>\n",
       "      <td>0004261_B</td>\n",
       "      <td>00008721_b</td>\n",
       "      <td>20</td>\n",
       "    </tr>\n",
       "    <tr>\n",
       "      <th>1121</th>\n",
       "      <td>0004261_B</td>\n",
       "      <td>00012653_b</td>\n",
       "      <td>21</td>\n",
       "    </tr>\n",
       "  </tbody>\n",
       "</table>\n",
       "<p>1122 rows × 3 columns</p>\n",
       "</div>"
      ],
      "text/plain": [
       "              0           1   2\n",
       "0     0000000_B  00001198_b   0\n",
       "1     0000000_B  00009295_b   1\n",
       "2     0000000_B  00005907_b   2\n",
       "3     0000000_B  00011759_b   3\n",
       "4     0000000_B  00001353_b   4\n",
       "5     0000000_B  00014990_b   5\n",
       "6     0000000_B  00012333_b   6\n",
       "7     0000000_B  00011292_b   7\n",
       "8     0000000_B  00002923_b   8\n",
       "9     0000000_B  00007841_b   9\n",
       "10    0000000_B  00011300_b  10\n",
       "11    0000000_B  00006066_b  11\n",
       "12    0000000_B  00015077_b  12\n",
       "13    0000000_B  00013949_b  13\n",
       "14    0000000_B  00003974_b  14\n",
       "15    0000000_B  00009049_b  15\n",
       "16    0000000_B  00004295_b  16\n",
       "17    0000000_B  00002592_b  17\n",
       "18    0000000_B  00000608_b  18\n",
       "19    0000000_B  00001165_b  19\n",
       "20    0000000_B  00004600_b  20\n",
       "21    0000000_B  00001277_b  21\n",
       "22    0000196_B  00003171_b   0\n",
       "23    0000196_B  00001198_b   1\n",
       "24    0000196_B  00009295_b   2\n",
       "25    0000196_B  00005907_b   3\n",
       "26    0000196_B  00011759_b   4\n",
       "27    0000196_B  00001353_b   5\n",
       "28    0000196_B  00014990_b   6\n",
       "29    0000196_B  00012333_b   7\n",
       "...         ...         ...  ..\n",
       "1092  0004149_B  00011300_b  14\n",
       "1093  0004149_B  00015077_b  15\n",
       "1094  0004149_B  00004384_b  16\n",
       "1095  0004149_B  00013949_b  17\n",
       "1096  0004149_B  00003974_b  18\n",
       "1097  0004149_B  00009049_b  19\n",
       "1098  0004149_B  00004295_b  20\n",
       "1099  0004149_B  00002592_b  21\n",
       "1100  0004261_B  00004491_b   0\n",
       "1101  0004261_B  00014465_b   1\n",
       "1102  0004261_B  00010676_b   2\n",
       "1103  0004261_B  00000370_b   3\n",
       "1104  0004261_B  00006079_b   4\n",
       "1105  0004261_B  00001412_b   5\n",
       "1106  0004261_B  00008136_b   6\n",
       "1107  0004261_B  00013576_b   7\n",
       "1108  0004261_B  00000189_b   8\n",
       "1109  0004261_B  00003013_b   9\n",
       "1110  0004261_B  00003229_b  10\n",
       "1111  0004261_B  00002647_b  11\n",
       "1112  0004261_B  00016503_b  12\n",
       "1113  0004261_B  00001495_b  13\n",
       "1114  0004261_B  00000437_b  14\n",
       "1115  0004261_B  00013679_b  15\n",
       "1116  0004261_B  00006655_b  16\n",
       "1117  0004261_B  00013453_b  17\n",
       "1118  0004261_B  00008794_b  18\n",
       "1119  0004261_B  00013429_b  19\n",
       "1120  0004261_B  00008721_b  20\n",
       "1121  0004261_B  00012653_b  21\n",
       "\n",
       "[1122 rows x 3 columns]"
      ]
     },
     "execution_count": 28,
     "metadata": {},
     "output_type": "execute_result"
    }
   ],
   "source": [
    "#購入済み以外からレコメンド(購入済みはマイナス10点)\n",
    "mat_add = (mats[3] != 0) * (-10)\n",
    "\n",
    "submit_df = make_recommend(test_small, mat + mat_add, users_small, products_small)\n",
    "submit_df"
   ]
  },
  {
   "cell_type": "code",
   "execution_count": 29,
   "metadata": {
    "collapsed": true
   },
   "outputs": [],
   "source": [
    "def evaluate(recommend_df, data_ans):\n",
    "    rels = [0, 1, 3, 7]\n",
    "    data_ans['rel'] = data_ans['event_type'].map(lambda x: rels[x])\n",
    "    i = 0\n",
    "    scores = []\n",
    "    for user_id in recommend_df[0].unique():\n",
    "        a = data_ans[data_ans['user_id'] ==user_id]\n",
    "        r = recommend_df[recommend_df[0] ==user_id]\n",
    "        \n",
    "        a_rel = a.sort_values(by = 'rel', ascending = False)\n",
    "        a_rel.drop_duplicates('product_id')\n",
    "        a_rel = a_rel['rel']\n",
    "        l = min(len(a_rel), 22)\n",
    "        idcg = 0\n",
    "        for j in xrange(l):\n",
    "            idcg += a_rel.values[j] / np.log2(j+2)\n",
    "        #print(\"idcg:\"+str(idcg))\n",
    "        \n",
    "        dcg = 0\n",
    "        for r_e in r.iterrows():\n",
    "            j = r_e[1][2]\n",
    "            a_list = a[a['product_id'] == r_e[1][1]]['rel'].sort_values(ascending = False)\n",
    "            r_e_rel = 0\n",
    "            if a_list.size > 0:\n",
    "                dcg += a_list.values[0] / np.log2(j+2)\n",
    "        #print(\"dcg:\"+str(dcg))\n",
    "        \n",
    "        scores.append(dcg / idcg)\n",
    "        #i += 1\n",
    "        #if i > 5:\n",
    "        #    break\n",
    "    return np.mean(scores)"
   ]
  },
  {
   "cell_type": "code",
   "execution_count": 30,
   "metadata": {},
   "outputs": [
    {
     "data": {
      "text/plain": [
       "0.028010618057561783"
      ]
     },
     "execution_count": 30,
     "metadata": {},
     "output_type": "execute_result"
    }
   ],
   "source": [
    "evaluate(submit_df, test_small_ans)"
   ]
  },
  {
   "cell_type": "code",
   "execution_count": 12,
   "metadata": {
    "collapsed": true
   },
   "outputs": [],
   "source": [
    "def nmf_fill0(R, K, steps=5000, beta=0.02, threshold=0.001, random_state=1234):\n",
    "    isvalue = (R != 0)\n",
    "    eps = np.finfo(float).eps\n",
    "    np.random.seed(random_state)\n",
    "    P = np.random.rand(K, len(R))\n",
    "    Q = np.random.rand(K, len(R[0]))\n",
    "    RT = R.T\n",
    "    t1 = time.time()\n",
    "    step = 0\n",
    "    while True:\n",
    "        PQzero = np.multiply(np.dot(P.T, Q), isvalue)\n",
    "        \n",
    "        Qn = np.dot(P, R)\n",
    "        Qd = np.dot(P, PQzero) + eps\n",
    "        #Q = np.matrix(np.array(Q) * np.array(Qn) / np.array(Qd))\n",
    "        Q = Q * Qn / Qd\n",
    "        \n",
    "        Pn = np.dot(Q, RT)\n",
    "        Pd = np.dot(Q, PQzero.T) + eps\n",
    "        #P = np.matrix(np.array(P) * np.array(Pn) / np.array(Pd))\n",
    "        P = P * Pn / Pd\n",
    "        \n",
    "        error = get_error(R, P, Q, beta)\n",
    "        if step % 100 == 0:\n",
    "            time_spent = time.time()-t1\n",
    "            print(\"step: \" + str(step) + \" error: \" + str(error) + \" time: \" + str(time_spent) + \"秒\")\n",
    "        step += 1\n",
    "        if error < threshold or step >= steps:\n",
    "            time_spent = time.time()-t1\n",
    "            print(\"step: \" + str(step) + \" error: \" + str(error) + \" time: \" + str(time_spent) + \"秒\")\n",
    "            break\n",
    "    return P, Q"
   ]
  },
  {
   "cell_type": "code",
   "execution_count": 14,
   "metadata": {
    "scrolled": false
   },
   "outputs": [
    {
     "name": "stdout",
     "output_type": "stream",
     "text": [
      "step: 0 error: 1169324.06956 time: 0.308763027191秒\n",
      "step: 100 error: 471945.5076 time: 30.5211920738秒\n",
      "step: 200 error: 412217.4166 time: 60.2459409237秒\n",
      "step: 300 error: 387868.564395 time: 89.432352066秒\n",
      "step: 400 error: 373586.313671 time: 118.117511034秒\n",
      "step: 500 error: 363830.64249 time: 146.011734962秒\n",
      "step: 600 error: 356710.757644 time: 173.600703955秒\n",
      "step: 700 error: 351338.596722 time: 201.169296026秒\n",
      "step: 800 error: 347219.320388 time: 228.901756048秒\n",
      "step: 900 error: 344041.435828 time: 260.118957996秒\n",
      "step: 1000 error: 341585.759652 time: 289.894877911秒\n",
      "step: 1100 error: 339674.358416 time: 317.735753059秒\n",
      "step: 1200 error: 338183.749432 time: 346.521696091秒\n",
      "step: 1300 error: 337019.093593 time: 376.492044926秒\n",
      "step: 1400 error: 336107.38968 time: 406.477260113秒\n",
      "step: 1500 error: 335393.451142 time: 437.333063126秒\n",
      "step: 1600 error: 334835.264971 time: 465.301778078秒\n",
      "step: 1700 error: 334399.705112 time: 493.160097122秒\n",
      "step: 1800 error: 334060.265279 time: 521.526790142秒\n",
      "step: 1900 error: 333795.913052 time: 549.833131075秒\n",
      "step: 2000 error: 333590.108773 time: 579.455435038秒\n",
      "step: 2100 error: 333429.90888 time: 607.315253019秒\n",
      "step: 2200 error: 333305.209174 time: 635.117243052秒\n",
      "step: 2300 error: 333208.13147 time: 663.347121954秒\n",
      "step: 2400 error: 333132.537448 time: 690.719429016秒\n",
      "step: 2500 error: 333073.648045 time: 717.948822975秒\n",
      "step: 2600 error: 333027.744832 time: 745.187390089秒\n",
      "step: 2700 error: 332991.935039 time: 772.472593069秒\n",
      "step: 2800 error: 332963.968707 time: 799.946613073秒\n",
      "step: 2900 error: 332942.098368 time: 827.071931124秒\n",
      "step: 3000 error: 332924.970973 time: 855.321049929秒\n",
      "step: 3100 error: 332911.542389 time: 882.816683054秒\n",
      "step: 3200 error: 332901.008091 time: 910.170351982秒\n",
      "step: 3300 error: 332892.747097 time: 937.508063078秒\n",
      "step: 3400 error: 332886.277188 time: 964.790056944秒\n",
      "step: 3500 error: 332881.219849 time: 992.471001148秒\n",
      "step: 3600 error: 332877.275094 time: 1019.77004695秒\n",
      "step: 3700 error: 332874.20536 time: 1047.02183414秒\n",
      "step: 3800 error: 332871.823392 time: 1074.32191205秒\n",
      "step: 3900 error: 332869.981165 time: 1101.84770608秒\n",
      "step: 4000 error: 332868.560955 time: 1129.31489897秒\n",
      "step: 4100 error: 332867.469026 time: 1156.59980512秒\n",
      "step: 4200 error: 332866.631126 time: 1183.9152751秒\n",
      "step: 4300 error: 332865.988943 time: 1211.19057012秒\n",
      "step: 4400 error: 332865.497109 time: 1238.54986691秒\n",
      "step: 4500 error: 332865.120603 time: 1265.95267391秒\n",
      "step: 4600 error: 332864.832541 time: 1293.50426602秒\n",
      "step: 4700 error: 332864.612351 time: 1320.88678908秒\n",
      "step: 4800 error: 332864.44431 time: 1348.3312521秒\n",
      "step: 4900 error: 332864.316399 time: 1375.56433296秒\n",
      "step: 5000 error: 19024.3071347 time: 1402.68142295秒\n"
     ]
    }
   ],
   "source": [
    "#0対応、行列形式NMF\n",
    "nP2, nQ2 = nmf_fill0(mat, 5, threshold=1.0)"
   ]
  },
  {
   "cell_type": "code",
   "execution_count": 12,
   "metadata": {
    "collapsed": true
   },
   "outputs": [],
   "source": [
    "mats, mat = make_crossmat(train_small)"
   ]
  },
  {
   "cell_type": "code",
   "execution_count": 31,
   "metadata": {},
   "outputs": [
    {
     "name": "stdout",
     "output_type": "stream",
     "text": [
      "0.740542173386\n"
     ]
    }
   ],
   "source": [
    "a = time.time()\n",
    "model = NMF(n_components=5, init='random', random_state=1234, solver='mu', max_iter=5000)\n",
    "P = model.fit_transform(mat)\n",
    "print(time.time() - a)\n",
    "Q = model.components_"
   ]
  },
  {
   "cell_type": "code",
   "execution_count": 32,
   "metadata": {
    "scrolled": true
   },
   "outputs": [
    {
     "data": {
      "text/plain": [
       "array([[  7.69162170e-02,   3.17980203e-02,   2.52162046e-03, ...,\n",
       "          1.66823653e-05,   1.98816803e-06,   7.95266129e-06],\n",
       "       [  5.93791182e-03,   4.84559521e-03,   3.02540885e-03, ...,\n",
       "          1.94637001e-05,   1.62656651e-05,   6.50626828e-05],\n",
       "       [  1.46796400e-01,   8.12094937e-02,   8.29235164e-03, ...,\n",
       "          6.73503951e-05,   5.15323487e-06,   2.06132920e-05],\n",
       "       ..., \n",
       "       [  3.25226278e-05,   1.06146010e-03,   3.30362939e-03, ...,\n",
       "          3.21602302e-05,   2.16176508e-05,   8.64705463e-05],\n",
       "       [  8.20051459e-18,   7.44756229e-04,   7.16804000e-03, ...,\n",
       "          8.15745551e-05,   4.64320695e-05,   1.85728123e-04],\n",
       "       [  2.02910390e-06,   3.84158296e-04,   1.16469210e-03, ...,\n",
       "          2.98028200e-05,   7.54284666e-06,   3.01713173e-05]])"
      ]
     },
     "execution_count": 32,
     "metadata": {},
     "output_type": "execute_result"
    }
   ],
   "source": [
    "np.dot(P,Q)"
   ]
  },
  {
   "cell_type": "code",
   "execution_count": 36,
   "metadata": {
    "scrolled": true
   },
   "outputs": [
    {
     "name": "stdout",
     "output_type": "stream",
     "text": [
      "step: 0 error: 2234424.74622 time: 1.02489280701秒\n",
      "step: 100 error: 39729.7506608 time: 96.6069188118秒\n"
     ]
    }
   ],
   "source": [
    "P2, Q2 = nmf_fill0(mat, 5, steps=100, threshold=1.0)"
   ]
  },
  {
   "cell_type": "code",
   "execution_count": 37,
   "metadata": {},
   "outputs": [
    {
     "data": {
      "text/plain": [
       "array([[  1.35709294,   1.46196981,   1.00360502, ...,   2.3443885 ,\n",
       "          1.08086081,   4.10224112],\n",
       "       [  0.69805482,   0.32267611,   0.36045613, ...,   0.84946597,\n",
       "          0.47163464,   1.59722981],\n",
       "       [ 17.03101372,   1.23381061,   1.3469825 , ...,   7.82539811,\n",
       "          1.68638439,   6.88018632],\n",
       "       ..., \n",
       "       [  0.14041454,   1.05066873,   0.74191489, ...,   1.28964253,\n",
       "          0.80119722,   2.77309626],\n",
       "       [  6.06020697,   0.07562143,   0.19234019, ...,   3.28330472,\n",
       "          0.47523522,   2.17484356],\n",
       "       [  0.0907585 ,   0.28772872,   0.18107451, ...,   0.81720424,\n",
       "          0.36414047,   0.6804144 ]])"
      ]
     },
     "execution_count": 37,
     "metadata": {},
     "output_type": "execute_result"
    }
   ],
   "source": [
    "np.dot(P2.T, Q2)"
   ]
  },
  {
   "cell_type": "code",
   "execution_count": 22,
   "metadata": {},
   "outputs": [
    {
     "data": {
      "text/plain": [
       "((100, 13606), (100, 5), (5, 13606))"
      ]
     },
     "execution_count": 22,
     "metadata": {},
     "output_type": "execute_result"
    }
   ],
   "source": [
    "mat.shape, P.shape, Q.shape"
   ]
  },
  {
   "cell_type": "code",
   "execution_count": 23,
   "metadata": {},
   "outputs": [
    {
     "name": "stdout",
     "output_type": "stream",
     "text": [
      "[[  1.   2.   3.]\n",
      " [  4.  nan   6.]\n",
      " [  7.   8.  13.]]\n"
     ]
    },
    {
     "data": {
      "text/plain": [
       "array([[  0.99762607,   1.99029861,   3.00720987],\n",
       "       [  3.99949667,   3.52277878,   6.00041359],\n",
       "       [  7.00062585,   8.00241271,  12.99814098]])"
      ]
     },
     "execution_count": 23,
     "metadata": {},
     "output_type": "execute_result"
    }
   ],
   "source": [
    "from numpy import nan as NA\n",
    "a = np.array([\n",
    "    [1, 2, 3],\n",
    "    [4, NA, 6],\n",
    "    [7, 8, 13]\n",
    "])\n",
    "print(a)\n",
    "m = NMF(n_components=2, init='random', random_state=9, solver='mu', max_iter=5000)\n",
    "P3 = m.fit_transform(a)\n",
    "Q3 = m.components_\n",
    "np.dot(P3, Q3)"
   ]
  },
  {
   "cell_type": "code",
   "execution_count": 16,
   "metadata": {
    "scrolled": false
   },
   "outputs": [
    {
     "name": "stdout",
     "output_type": "stream",
     "text": [
      "step: 0 error: 21102.6911994 time: 0.000825881958008秒\n",
      "step: 100 error: 20568.3585026 time: 0.0197148323059秒\n",
      "step: 200 error: 20569.5152426 time: 0.034276008606秒\n",
      "step: 300 error: 20569.5265585 time: 0.0462620258331秒\n",
      "step: 400 error: 20569.5266593 time: 0.0628819465637秒\n",
      "step: 500 error: 20569.5266602 time: 0.0787599086761秒\n",
      "step: 600 error: 20569.5266602 time: 0.0921049118042秒\n",
      "step: 700 error: 20569.5266602 time: 0.106172800064秒\n",
      "step: 800 error: 20569.5266602 time: 0.117826938629秒\n",
      "step: 900 error: 20569.5266602 time: 0.13153386116秒\n",
      "step: 1000 error: 20569.5266602 time: 0.146034002304秒\n",
      "step: 1100 error: 20569.5266602 time: 0.158246994019秒\n",
      "step: 1200 error: 20569.5266602 time: 0.169157028198秒\n",
      "step: 1300 error: 20569.5266602 time: 0.180432796478秒\n",
      "step: 1400 error: 20569.5266602 time: 0.19390296936秒\n",
      "step: 1500 error: 20569.5266602 time: 0.209198951721秒\n",
      "step: 1600 error: 20569.5266602 time: 0.227027893066秒\n",
      "step: 1700 error: 20569.5266602 time: 0.242842912674秒\n",
      "step: 1800 error: 20569.5266602 time: 0.25527882576秒\n",
      "step: 1900 error: 20569.5266602 time: 0.267366886139秒\n",
      "step: 2000 error: 20569.5266602 time: 0.333690881729秒\n",
      "step: 2100 error: 20569.5266602 time: 0.34635591507秒\n",
      "step: 2200 error: 20569.5266602 time: 0.357755899429秒\n",
      "step: 2300 error: 20569.5266602 time: 0.36970281601秒\n",
      "step: 2400 error: 20569.5266602 time: 0.384078979492秒\n",
      "step: 2500 error: 20569.5266602 time: 0.395730018616秒\n",
      "step: 2600 error: 20569.5266602 time: 0.407025814056秒\n",
      "step: 2700 error: 20569.5266602 time: 0.423781871796秒\n",
      "step: 2800 error: 20569.5266602 time: 0.440342903137秒\n",
      "step: 2900 error: 20569.5266602 time: 0.453289985657秒\n",
      "step: 3000 error: 20569.5266602 time: 0.465768814087秒\n",
      "step: 3100 error: 20569.5266601 time: 0.478611946106秒\n",
      "step: 3200 error: 20569.5266601 time: 0.48951792717秒\n",
      "step: 3300 error: 20569.5266601 time: 0.500715970993秒\n",
      "step: 3400 error: 20569.5266601 time: 0.514376878738秒\n",
      "step: 3500 error: 20569.5266601 time: 0.525554895401秒\n",
      "step: 3600 error: 20569.5266601 time: 0.539005994797秒\n",
      "step: 3700 error: 20569.5266601 time: 0.550370931625秒\n",
      "step: 3800 error: 20569.5266601 time: 0.561805963516秒\n",
      "step: 3900 error: 20569.5266601 time: 0.572707891464秒\n",
      "step: 4000 error: 20569.5266601 time: 0.586447954178秒\n",
      "step: 4100 error: 20569.5266601 time: 0.59841799736秒\n",
      "step: 4200 error: 20569.5266601 time: 0.609373807907秒\n",
      "step: 4300 error: 20569.5266601 time: 0.620539903641秒\n",
      "step: 4400 error: 20569.5266601 time: 0.641230821609秒\n",
      "step: 4500 error: 20569.5266601 time: 0.654775857925秒\n",
      "step: 4600 error: 20569.5266601 time: 0.670446872711秒\n",
      "step: 4700 error: 20569.5266601 time: 0.68431687355秒\n",
      "step: 4800 error: 20569.5266601 time: 0.697577953339秒\n",
      "step: 4900 error: 20569.5266601 time: 0.70991396904秒\n",
      "step: 5000 error: 289.854321464 time: 0.724530935287秒\n"
     ]
    },
    {
     "data": {
      "text/plain": [
       "array([[ 0.17117246,  0.19886395,  0.352052  ],\n",
       "       [ 0.48183688,  0.58783586,  0.711271  ],\n",
       "       [ 0.81509213,  0.96029414,  1.54337148]])"
      ]
     },
     "execution_count": 16,
     "metadata": {},
     "output_type": "execute_result"
    }
   ],
   "source": [
    "P4, Q4 = nmf_fill0(a, 2, steps=5000)\n",
    "np.dot(P4.T, Q4)"
   ]
  },
  {
   "cell_type": "code",
   "execution_count": null,
   "metadata": {
    "collapsed": true
   },
   "outputs": [],
   "source": []
  }
 ],
 "metadata": {
  "kernelspec": {
   "display_name": "Python 2",
   "language": "python",
   "name": "python2"
  },
  "language_info": {
   "codemirror_mode": {
    "name": "ipython",
    "version": 2
   },
   "file_extension": ".py",
   "mimetype": "text/x-python",
   "name": "python",
   "nbconvert_exporter": "python",
   "pygments_lexer": "ipython2",
   "version": "2.7.11"
  }
 },
 "nbformat": 4,
 "nbformat_minor": 2
}
