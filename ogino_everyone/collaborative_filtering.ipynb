{
 "cells": [
  {
   "cell_type": "code",
   "execution_count": 1,
   "metadata": {
    "collapsed": true
   },
   "outputs": [],
   "source": [
    "import numpy as np\n",
    "import pandas as pd\n",
    "import time"
   ]
  },
  {
   "cell_type": "code",
   "execution_count": 2,
   "metadata": {
    "collapsed": true
   },
   "outputs": [],
   "source": [
    "def make_data_small(data, usercount = 100):\n",
    "    #後ろの1週間を除いて100ユーザー分のデータを取得\n",
    "    former = data[data['time_stamp'] < '2017-04-24 00:00:00.000']\n",
    "    users_small = former['user_id'].unique()[0 : usercount]\n",
    "    data_small = former[np.in1d(former['user_id'], users_small)]\n",
    "    products_small = former['product_id'].unique()\n",
    "    \n",
    "    #後ろの1週間から同じユーザーとプロダクトのものを評価用に取得\n",
    "    latter = data[data['time_stamp'] >= '2017-04-24 00:00:00.000']\n",
    "    latter = latter[np.in1d(latter['user_id'], users_small)]\n",
    "    latter = latter[np.in1d(latter['product_id'], products_small)]\n",
    "    \n",
    "    test_small = pd.DataFrame(latter['user_id'].unique())\n",
    "    test_small.columns = ['user_id']\n",
    "    test_small_ans = latter\n",
    "    \n",
    "    return data_small, test_small, test_small_ans"
   ]
  },
  {
   "cell_type": "code",
   "execution_count": 3,
   "metadata": {
    "collapsed": true
   },
   "outputs": [],
   "source": [
    "#小さいデータセットを作成\n",
    "\n",
    "filename = 'data/train/train_B.tsv'\n",
    "train = pd.read_table(filename)\n",
    "train_small, test_small, test_small_ans = make_data_small(train)"
   ]
  },
  {
   "cell_type": "code",
   "execution_count": 4,
   "metadata": {},
   "outputs": [
    {
     "name": "stdout",
     "output_type": "stream",
     "text": [
      "event: 44670\n",
      "user: 100\n",
      "product: 13606\n"
     ]
    }
   ],
   "source": [
    "#データサイズ確認\n",
    "\n",
    "users_small = train_small['user_id'].unique()\n",
    "products_small = train_small['product_id'].unique()\n",
    "print(\"event: \" + str(len(train_small)))\n",
    "print(\"user: \" + str(len(users_small)))\n",
    "print(\"product: \" + str(len(products_small)))"
   ]
  },
  {
   "cell_type": "code",
   "execution_count": 5,
   "metadata": {
    "collapsed": true
   },
   "outputs": [],
   "source": [
    "def make_crossmat(data, users = [], products = []):\n",
    "    if len(users) == 0:\n",
    "        users = data['user_id'].unique()\n",
    "    if len(products) == 0:\n",
    "        products = data['product_id'].unique()\n",
    "    \n",
    "    #ユーザーとプロダクトを行列のインデックスに変換\n",
    "    data['user_id_int'] = data['user_id'].map(lambda x: np.where(users == x)[0][0])\n",
    "    data['product_id_int'] = data['product_id'].map(lambda x: np.where(products == x)[0][0])\n",
    "    \n",
    "    #各イベントごとにカウント\n",
    "    mats = np.zeros((4, len(users), len(products)))\n",
    "    def count_event(event):\n",
    "        mats[event['event_type'], event['user_id_int'], event['product_id_int']] += 1\n",
    "        return 0\n",
    "    data.apply(count_event, axis=1)\n",
    "    \n",
    "    #スコアの重みをかけて足す\n",
    "    scores = np.array([\n",
    "        3, #0カート\n",
    "        1, #1閲覧\n",
    "        2, #2クリック\n",
    "        4  #3コンバージェンス\n",
    "    ])\n",
    "    crossmat = np.einsum('ijk,i', mats, scores)\n",
    "    \n",
    "    return mats, crossmat"
   ]
  },
  {
   "cell_type": "code",
   "execution_count": 6,
   "metadata": {},
   "outputs": [
    {
     "data": {
      "text/plain": [
       "array([[ 2.,  1.,  3., ...,  0.,  0.,  0.],\n",
       "       [ 1.,  0.,  1., ...,  0.,  0.,  0.],\n",
       "       [ 1.,  0.,  0., ...,  0.,  0.,  0.],\n",
       "       ..., \n",
       "       [ 0.,  0.,  0., ...,  0.,  0.,  0.],\n",
       "       [ 0.,  0.,  0., ...,  0.,  0.,  0.],\n",
       "       [ 0.,  0.,  0., ...,  1.,  1.,  1.]])"
      ]
     },
     "execution_count": 6,
     "metadata": {},
     "output_type": "execute_result"
    }
   ],
   "source": [
    "mats, mat = make_crossmat(train_small, users_small, products_small)\n",
    "mat"
   ]
  },
  {
   "cell_type": "code",
   "execution_count": 10,
   "metadata": {
    "collapsed": true
   },
   "outputs": [],
   "source": [
    "def get_rating_error(r, p, q):\n",
    "    return r - np.dot(p, q)\n",
    "\n",
    "\n",
    "def get_error(R, P, Q, beta):\n",
    "    error = 0.0\n",
    "    for i in xrange(len(R)):\n",
    "        for j in xrange(len(R[i])):\n",
    "            if R[i][j] == 0:\n",
    "                continue\n",
    "            error += pow(get_rating_error(R[i][j], P[:,i], Q[:,j]), 2)\n",
    "    error += beta/2.0 * (np.linalg.norm(P) + np.linalg.norm(Q))\n",
    "    return error\n",
    "\n",
    "\n",
    "def matrix_factorization(R, K, steps=5000, alpha=0.0002, beta=0.02, threshold=0.001):\n",
    "    np.random.seed(1234)\n",
    "    P = np.random.rand(K, len(R))\n",
    "    Q = np.random.rand(K, len(R[0]))\n",
    "    t1 = time.time()\n",
    "    step = 0\n",
    "    while True:\n",
    "        for i in xrange(len(R)):\n",
    "            for j in xrange(len(R[i])):\n",
    "                if R[i][j] == 0:\n",
    "                    continue\n",
    "                err = get_rating_error(R[i][j], P[:, i], Q[:, j])\n",
    "                for k in xrange(K):\n",
    "                    P[k][i] += alpha * (2 * err * Q[k][j])\n",
    "                    Q[k][j] += alpha * (2 * err * P[k][i])\n",
    "        error = get_error(R, P, Q, beta)\n",
    "        if step % 100 == 0:\n",
    "            time_spent = time.time()-t1\n",
    "            print(\"step: \" + str(step) + \" error: \" + str(error) + \" time: \" + str(time_spent) + \"秒\")\n",
    "        step += 1\n",
    "        if error < threshold or step >= steps:\n",
    "            time_spent = time.time()-t1\n",
    "            print(\"step: \" + str(step) + \" error: \" + str(error) + \" time: \" + str(time_spent) + \"秒\")\n",
    "            break\n",
    "    return P, Q"
   ]
  },
  {
   "cell_type": "code",
   "execution_count": 8,
   "metadata": {},
   "outputs": [
    {
     "name": "stdout",
     "output_type": "stream",
     "text": [
      "step: 5000 error: 17.7040307378 time: 3123.33389711秒\r"
     ]
    }
   ],
   "source": [
    "nP, nQ = matrix_factorization(mat, 5, threshold=1.0)"
   ]
  },
  {
   "cell_type": "code",
   "execution_count": 12,
   "metadata": {
    "scrolled": true
   },
   "outputs": [
    {
     "data": {
      "text/plain": [
       "array([[ 0.48960361,  0.24479165,  0.73449984, ...,  0.42149506,\n",
       "         0.25749318,  0.42740348],\n",
       "       [ 0.24474319,  0.19169394,  0.24456702, ...,  0.21380435,\n",
       "         0.22078379,  0.21511228],\n",
       "       [ 0.24474148,  0.11807646,  0.35285627, ...,  0.16172407,\n",
       "         0.13754109,  0.13558938],\n",
       "       ..., \n",
       "       [ 0.24822521,  0.26545699,  0.14285855, ...,  0.26502793,\n",
       "         0.35489819,  0.25984083],\n",
       "       [ 0.22603871,  0.09455061,  0.36258429, ...,  0.16552911,\n",
       "         0.13860357,  0.12880359],\n",
       "       [ 0.23258835,  0.17573105,  0.22217366, ...,  0.21318364,\n",
       "         0.21318285,  0.21318441]])"
      ]
     },
     "execution_count": 12,
     "metadata": {},
     "output_type": "execute_result"
    }
   ],
   "source": [
    "mat_estimate = np.dot(nP.T,nQ)\n",
    "mat_estimate"
   ]
  },
  {
   "cell_type": "code",
   "execution_count": 10,
   "metadata": {
    "collapsed": true,
    "scrolled": false
   },
   "outputs": [],
   "source": [
    "def make_recommend(test, mat, exclude_mat, users, products):\n",
    "    recommend_df = pd.DataFrame([[],[]]).T\n",
    "    for user_id in test['user_id']:\n",
    "        user_int = np.where(users == user_id)[0][0]\n",
    "        scores = mat[user_int,:]\n",
    "        ranking = np.argsort(scores)\n",
    "        recommends = []\n",
    "        for r in ranking:\n",
    "            if not exclude_mat[user_int,r]:\n",
    "                product_id = products[r]\n",
    "                recommends.append(product_id)\n",
    "                if len(recommends) >= 22:\n",
    "                    break\n",
    "        k = len(recommends)\n",
    "        add = pd.DataFrame([[user_id] * k, recommends, range(k)]).T\n",
    "        recommend_df = pd.concat([recommend_df, add], axis = 0)\n",
    "    recommend_df.index = range(recommend_df.shape[0])\n",
    "    return recommend_df"
   ]
  },
  {
   "cell_type": "code",
   "execution_count": 11,
   "metadata": {},
   "outputs": [
    {
     "data": {
      "text/html": [
       "<div>\n",
       "<table border=\"1\" class=\"dataframe\">\n",
       "  <thead>\n",
       "    <tr style=\"text-align: right;\">\n",
       "      <th></th>\n",
       "      <th>0</th>\n",
       "      <th>1</th>\n",
       "      <th>2</th>\n",
       "    </tr>\n",
       "  </thead>\n",
       "  <tbody>\n",
       "    <tr>\n",
       "      <th>0</th>\n",
       "      <td>0014532_C</td>\n",
       "      <td>00312053_c</td>\n",
       "      <td>0</td>\n",
       "    </tr>\n",
       "    <tr>\n",
       "      <th>1</th>\n",
       "      <td>0014532_C</td>\n",
       "      <td>00172957_c</td>\n",
       "      <td>1</td>\n",
       "    </tr>\n",
       "    <tr>\n",
       "      <th>2</th>\n",
       "      <td>0014532_C</td>\n",
       "      <td>00094364_c</td>\n",
       "      <td>2</td>\n",
       "    </tr>\n",
       "    <tr>\n",
       "      <th>3</th>\n",
       "      <td>0014532_C</td>\n",
       "      <td>00008654_c</td>\n",
       "      <td>3</td>\n",
       "    </tr>\n",
       "    <tr>\n",
       "      <th>4</th>\n",
       "      <td>0014532_C</td>\n",
       "      <td>00281776_c</td>\n",
       "      <td>4</td>\n",
       "    </tr>\n",
       "    <tr>\n",
       "      <th>5</th>\n",
       "      <td>0014532_C</td>\n",
       "      <td>00216330_c</td>\n",
       "      <td>5</td>\n",
       "    </tr>\n",
       "    <tr>\n",
       "      <th>6</th>\n",
       "      <td>0014532_C</td>\n",
       "      <td>00197283_c</td>\n",
       "      <td>6</td>\n",
       "    </tr>\n",
       "    <tr>\n",
       "      <th>7</th>\n",
       "      <td>0014532_C</td>\n",
       "      <td>00128007_c</td>\n",
       "      <td>7</td>\n",
       "    </tr>\n",
       "    <tr>\n",
       "      <th>8</th>\n",
       "      <td>0014532_C</td>\n",
       "      <td>00233491_c</td>\n",
       "      <td>8</td>\n",
       "    </tr>\n",
       "    <tr>\n",
       "      <th>9</th>\n",
       "      <td>0014532_C</td>\n",
       "      <td>00310719_c</td>\n",
       "      <td>9</td>\n",
       "    </tr>\n",
       "    <tr>\n",
       "      <th>10</th>\n",
       "      <td>0014532_C</td>\n",
       "      <td>00201141_c</td>\n",
       "      <td>10</td>\n",
       "    </tr>\n",
       "    <tr>\n",
       "      <th>11</th>\n",
       "      <td>0014532_C</td>\n",
       "      <td>00263611_c</td>\n",
       "      <td>11</td>\n",
       "    </tr>\n",
       "    <tr>\n",
       "      <th>12</th>\n",
       "      <td>0014532_C</td>\n",
       "      <td>00023660_c</td>\n",
       "      <td>12</td>\n",
       "    </tr>\n",
       "    <tr>\n",
       "      <th>13</th>\n",
       "      <td>0014532_C</td>\n",
       "      <td>00150274_c</td>\n",
       "      <td>13</td>\n",
       "    </tr>\n",
       "    <tr>\n",
       "      <th>14</th>\n",
       "      <td>0014532_C</td>\n",
       "      <td>00213926_c</td>\n",
       "      <td>14</td>\n",
       "    </tr>\n",
       "    <tr>\n",
       "      <th>15</th>\n",
       "      <td>0014532_C</td>\n",
       "      <td>00263864_c</td>\n",
       "      <td>15</td>\n",
       "    </tr>\n",
       "    <tr>\n",
       "      <th>16</th>\n",
       "      <td>0014532_C</td>\n",
       "      <td>00027054_c</td>\n",
       "      <td>16</td>\n",
       "    </tr>\n",
       "    <tr>\n",
       "      <th>17</th>\n",
       "      <td>0014532_C</td>\n",
       "      <td>00140742_c</td>\n",
       "      <td>17</td>\n",
       "    </tr>\n",
       "    <tr>\n",
       "      <th>18</th>\n",
       "      <td>0014532_C</td>\n",
       "      <td>00084879_c</td>\n",
       "      <td>18</td>\n",
       "    </tr>\n",
       "    <tr>\n",
       "      <th>19</th>\n",
       "      <td>0014532_C</td>\n",
       "      <td>00182063_c</td>\n",
       "      <td>19</td>\n",
       "    </tr>\n",
       "    <tr>\n",
       "      <th>20</th>\n",
       "      <td>0014532_C</td>\n",
       "      <td>00142231_c</td>\n",
       "      <td>20</td>\n",
       "    </tr>\n",
       "    <tr>\n",
       "      <th>21</th>\n",
       "      <td>0014532_C</td>\n",
       "      <td>00126584_c</td>\n",
       "      <td>21</td>\n",
       "    </tr>\n",
       "    <tr>\n",
       "      <th>22</th>\n",
       "      <td>0019517_C</td>\n",
       "      <td>00312053_c</td>\n",
       "      <td>0</td>\n",
       "    </tr>\n",
       "    <tr>\n",
       "      <th>23</th>\n",
       "      <td>0019517_C</td>\n",
       "      <td>00172957_c</td>\n",
       "      <td>1</td>\n",
       "    </tr>\n",
       "    <tr>\n",
       "      <th>24</th>\n",
       "      <td>0019517_C</td>\n",
       "      <td>00094364_c</td>\n",
       "      <td>2</td>\n",
       "    </tr>\n",
       "    <tr>\n",
       "      <th>25</th>\n",
       "      <td>0019517_C</td>\n",
       "      <td>00008654_c</td>\n",
       "      <td>3</td>\n",
       "    </tr>\n",
       "    <tr>\n",
       "      <th>26</th>\n",
       "      <td>0019517_C</td>\n",
       "      <td>00281776_c</td>\n",
       "      <td>4</td>\n",
       "    </tr>\n",
       "    <tr>\n",
       "      <th>27</th>\n",
       "      <td>0019517_C</td>\n",
       "      <td>00216330_c</td>\n",
       "      <td>5</td>\n",
       "    </tr>\n",
       "    <tr>\n",
       "      <th>28</th>\n",
       "      <td>0019517_C</td>\n",
       "      <td>00197283_c</td>\n",
       "      <td>6</td>\n",
       "    </tr>\n",
       "    <tr>\n",
       "      <th>29</th>\n",
       "      <td>0019517_C</td>\n",
       "      <td>00128007_c</td>\n",
       "      <td>7</td>\n",
       "    </tr>\n",
       "    <tr>\n",
       "      <th>...</th>\n",
       "      <td>...</td>\n",
       "      <td>...</td>\n",
       "      <td>...</td>\n",
       "    </tr>\n",
       "    <tr>\n",
       "      <th>1202</th>\n",
       "      <td>0028630_C</td>\n",
       "      <td>00275883_c</td>\n",
       "      <td>14</td>\n",
       "    </tr>\n",
       "    <tr>\n",
       "      <th>1203</th>\n",
       "      <td>0028630_C</td>\n",
       "      <td>00196017_c</td>\n",
       "      <td>15</td>\n",
       "    </tr>\n",
       "    <tr>\n",
       "      <th>1204</th>\n",
       "      <td>0028630_C</td>\n",
       "      <td>00144972_c</td>\n",
       "      <td>16</td>\n",
       "    </tr>\n",
       "    <tr>\n",
       "      <th>1205</th>\n",
       "      <td>0028630_C</td>\n",
       "      <td>00094713_c</td>\n",
       "      <td>17</td>\n",
       "    </tr>\n",
       "    <tr>\n",
       "      <th>1206</th>\n",
       "      <td>0028630_C</td>\n",
       "      <td>00162616_c</td>\n",
       "      <td>18</td>\n",
       "    </tr>\n",
       "    <tr>\n",
       "      <th>1207</th>\n",
       "      <td>0028630_C</td>\n",
       "      <td>00201653_c</td>\n",
       "      <td>19</td>\n",
       "    </tr>\n",
       "    <tr>\n",
       "      <th>1208</th>\n",
       "      <td>0028630_C</td>\n",
       "      <td>00142247_c</td>\n",
       "      <td>20</td>\n",
       "    </tr>\n",
       "    <tr>\n",
       "      <th>1209</th>\n",
       "      <td>0028630_C</td>\n",
       "      <td>00024334_c</td>\n",
       "      <td>21</td>\n",
       "    </tr>\n",
       "    <tr>\n",
       "      <th>1210</th>\n",
       "      <td>0004817_C</td>\n",
       "      <td>00209392_c</td>\n",
       "      <td>0</td>\n",
       "    </tr>\n",
       "    <tr>\n",
       "      <th>1211</th>\n",
       "      <td>0004817_C</td>\n",
       "      <td>00227088_c</td>\n",
       "      <td>1</td>\n",
       "    </tr>\n",
       "    <tr>\n",
       "      <th>1212</th>\n",
       "      <td>0004817_C</td>\n",
       "      <td>00204530_c</td>\n",
       "      <td>2</td>\n",
       "    </tr>\n",
       "    <tr>\n",
       "      <th>1213</th>\n",
       "      <td>0004817_C</td>\n",
       "      <td>00106908_c</td>\n",
       "      <td>3</td>\n",
       "    </tr>\n",
       "    <tr>\n",
       "      <th>1214</th>\n",
       "      <td>0004817_C</td>\n",
       "      <td>00022675_c</td>\n",
       "      <td>4</td>\n",
       "    </tr>\n",
       "    <tr>\n",
       "      <th>1215</th>\n",
       "      <td>0004817_C</td>\n",
       "      <td>00063362_c</td>\n",
       "      <td>5</td>\n",
       "    </tr>\n",
       "    <tr>\n",
       "      <th>1216</th>\n",
       "      <td>0004817_C</td>\n",
       "      <td>00068228_c</td>\n",
       "      <td>6</td>\n",
       "    </tr>\n",
       "    <tr>\n",
       "      <th>1217</th>\n",
       "      <td>0004817_C</td>\n",
       "      <td>00130061_c</td>\n",
       "      <td>7</td>\n",
       "    </tr>\n",
       "    <tr>\n",
       "      <th>1218</th>\n",
       "      <td>0004817_C</td>\n",
       "      <td>00198687_c</td>\n",
       "      <td>8</td>\n",
       "    </tr>\n",
       "    <tr>\n",
       "      <th>1219</th>\n",
       "      <td>0004817_C</td>\n",
       "      <td>00037188_c</td>\n",
       "      <td>9</td>\n",
       "    </tr>\n",
       "    <tr>\n",
       "      <th>1220</th>\n",
       "      <td>0004817_C</td>\n",
       "      <td>00254718_c</td>\n",
       "      <td>10</td>\n",
       "    </tr>\n",
       "    <tr>\n",
       "      <th>1221</th>\n",
       "      <td>0004817_C</td>\n",
       "      <td>00008997_c</td>\n",
       "      <td>11</td>\n",
       "    </tr>\n",
       "    <tr>\n",
       "      <th>1222</th>\n",
       "      <td>0004817_C</td>\n",
       "      <td>00168682_c</td>\n",
       "      <td>12</td>\n",
       "    </tr>\n",
       "    <tr>\n",
       "      <th>1223</th>\n",
       "      <td>0004817_C</td>\n",
       "      <td>00199202_c</td>\n",
       "      <td>13</td>\n",
       "    </tr>\n",
       "    <tr>\n",
       "      <th>1224</th>\n",
       "      <td>0004817_C</td>\n",
       "      <td>00140328_c</td>\n",
       "      <td>14</td>\n",
       "    </tr>\n",
       "    <tr>\n",
       "      <th>1225</th>\n",
       "      <td>0004817_C</td>\n",
       "      <td>00078151_c</td>\n",
       "      <td>15</td>\n",
       "    </tr>\n",
       "    <tr>\n",
       "      <th>1226</th>\n",
       "      <td>0004817_C</td>\n",
       "      <td>00187982_c</td>\n",
       "      <td>16</td>\n",
       "    </tr>\n",
       "    <tr>\n",
       "      <th>1227</th>\n",
       "      <td>0004817_C</td>\n",
       "      <td>00236313_c</td>\n",
       "      <td>17</td>\n",
       "    </tr>\n",
       "    <tr>\n",
       "      <th>1228</th>\n",
       "      <td>0004817_C</td>\n",
       "      <td>00260627_c</td>\n",
       "      <td>18</td>\n",
       "    </tr>\n",
       "    <tr>\n",
       "      <th>1229</th>\n",
       "      <td>0004817_C</td>\n",
       "      <td>00312143_c</td>\n",
       "      <td>19</td>\n",
       "    </tr>\n",
       "    <tr>\n",
       "      <th>1230</th>\n",
       "      <td>0004817_C</td>\n",
       "      <td>00143283_c</td>\n",
       "      <td>20</td>\n",
       "    </tr>\n",
       "    <tr>\n",
       "      <th>1231</th>\n",
       "      <td>0004817_C</td>\n",
       "      <td>00148560_c</td>\n",
       "      <td>21</td>\n",
       "    </tr>\n",
       "  </tbody>\n",
       "</table>\n",
       "<p>1232 rows × 3 columns</p>\n",
       "</div>"
      ],
      "text/plain": [
       "              0           1   2\n",
       "0     0014532_C  00312053_c   0\n",
       "1     0014532_C  00172957_c   1\n",
       "2     0014532_C  00094364_c   2\n",
       "3     0014532_C  00008654_c   3\n",
       "4     0014532_C  00281776_c   4\n",
       "5     0014532_C  00216330_c   5\n",
       "6     0014532_C  00197283_c   6\n",
       "7     0014532_C  00128007_c   7\n",
       "8     0014532_C  00233491_c   8\n",
       "9     0014532_C  00310719_c   9\n",
       "10    0014532_C  00201141_c  10\n",
       "11    0014532_C  00263611_c  11\n",
       "12    0014532_C  00023660_c  12\n",
       "13    0014532_C  00150274_c  13\n",
       "14    0014532_C  00213926_c  14\n",
       "15    0014532_C  00263864_c  15\n",
       "16    0014532_C  00027054_c  16\n",
       "17    0014532_C  00140742_c  17\n",
       "18    0014532_C  00084879_c  18\n",
       "19    0014532_C  00182063_c  19\n",
       "20    0014532_C  00142231_c  20\n",
       "21    0014532_C  00126584_c  21\n",
       "22    0019517_C  00312053_c   0\n",
       "23    0019517_C  00172957_c   1\n",
       "24    0019517_C  00094364_c   2\n",
       "25    0019517_C  00008654_c   3\n",
       "26    0019517_C  00281776_c   4\n",
       "27    0019517_C  00216330_c   5\n",
       "28    0019517_C  00197283_c   6\n",
       "29    0019517_C  00128007_c   7\n",
       "...         ...         ...  ..\n",
       "1202  0028630_C  00275883_c  14\n",
       "1203  0028630_C  00196017_c  15\n",
       "1204  0028630_C  00144972_c  16\n",
       "1205  0028630_C  00094713_c  17\n",
       "1206  0028630_C  00162616_c  18\n",
       "1207  0028630_C  00201653_c  19\n",
       "1208  0028630_C  00142247_c  20\n",
       "1209  0028630_C  00024334_c  21\n",
       "1210  0004817_C  00209392_c   0\n",
       "1211  0004817_C  00227088_c   1\n",
       "1212  0004817_C  00204530_c   2\n",
       "1213  0004817_C  00106908_c   3\n",
       "1214  0004817_C  00022675_c   4\n",
       "1215  0004817_C  00063362_c   5\n",
       "1216  0004817_C  00068228_c   6\n",
       "1217  0004817_C  00130061_c   7\n",
       "1218  0004817_C  00198687_c   8\n",
       "1219  0004817_C  00037188_c   9\n",
       "1220  0004817_C  00254718_c  10\n",
       "1221  0004817_C  00008997_c  11\n",
       "1222  0004817_C  00168682_c  12\n",
       "1223  0004817_C  00199202_c  13\n",
       "1224  0004817_C  00140328_c  14\n",
       "1225  0004817_C  00078151_c  15\n",
       "1226  0004817_C  00187982_c  16\n",
       "1227  0004817_C  00236313_c  17\n",
       "1228  0004817_C  00260627_c  18\n",
       "1229  0004817_C  00312143_c  19\n",
       "1230  0004817_C  00143283_c  20\n",
       "1231  0004817_C  00148560_c  21\n",
       "\n",
       "[1232 rows x 3 columns]"
      ]
     },
     "execution_count": 11,
     "metadata": {},
     "output_type": "execute_result"
    }
   ],
   "source": [
    "#購入済み以外からレコメンド\n",
    "exclude_mat = (mats[3] != 0)\n",
    "\n",
    "submit_df = make_recommend(test_small, mat, exclude_mat, users_small, products_small)\n",
    "submit_df"
   ]
  },
  {
   "cell_type": "code",
   "execution_count": 12,
   "metadata": {
    "collapsed": true
   },
   "outputs": [],
   "source": [
    "def evaluate(recommend_df, data_ans):\n",
    "    rels = [0, 1, 3, 7]\n",
    "    data_ans['rel'] = data_ans['event_type'].map(lambda x: rels[x])\n",
    "    i = 0\n",
    "    scores = []\n",
    "    for user_id in recommend_df[0].unique():\n",
    "        a = data_ans[data_ans['user_id'] ==user_id]\n",
    "        r = recommend_df[recommend_df[0] ==user_id]\n",
    "        \n",
    "        a_rel = a.sort_values(by = 'rel', ascending = False)\n",
    "        a_rel.drop_duplicates('product_id')\n",
    "        a_rel = a_rel['rel']\n",
    "        l = min(len(a_rel), 22)\n",
    "        idcg = 0\n",
    "        for j in xrange(l):\n",
    "            idcg += a_rel.values[j] / np.log2(j+2)\n",
    "        #print(\"idcg:\"+str(idcg))\n",
    "        \n",
    "        dcg = 0\n",
    "        for r_e in r.iterrows():\n",
    "            j = r_e[1][2]\n",
    "            a_list = a[a['product_id'] == r_e[1][1]]['rel'].sort_values(ascending = False)\n",
    "            r_e_rel = 0\n",
    "            if a_list.size > 0:\n",
    "                dcg += a_list.values[0] / np.log2(j+2)\n",
    "        #print(\"dcg:\"+str(dcg))\n",
    "        \n",
    "        scores.append(dcg / idcg)\n",
    "        #i += 1\n",
    "        #if i > 5:\n",
    "        #    break\n",
    "    return np.mean(scores)"
   ]
  },
  {
   "cell_type": "code",
   "execution_count": 15,
   "metadata": {},
   "outputs": [
    {
     "data": {
      "text/plain": [
       "0.0024983686112535377"
      ]
     },
     "execution_count": 15,
     "metadata": {},
     "output_type": "execute_result"
    }
   ],
   "source": [
    "evaluate(submit_df, test_small_ans)"
   ]
  },
  {
   "cell_type": "code",
   "execution_count": 62,
   "metadata": {
    "collapsed": true
   },
   "outputs": [],
   "source": [
    "def nmf_fill0(R, K, steps=5000, beta=0.02, threshold=0.001):\n",
    "    isvalue = (R != 0)\n",
    "    np.random.seed(1234)\n",
    "    eps = np.finfo(float).eps\n",
    "    P = np.random.rand(K, len(R))\n",
    "    Q = np.random.rand(K, len(R[0]))\n",
    "    RT = R.T\n",
    "    t1 = time.time()\n",
    "    step = 0\n",
    "    while True:\n",
    "        PQzero = np.multiply(np.dot(P.T, Q), isvalue)\n",
    "        \n",
    "        Qn = np.dot(P, R)\n",
    "        Qd = np.dot(P, PQzero) + eps\n",
    "        #Q = np.matrix(np.array(Q) * np.array(Qn) / np.array(Qd))\n",
    "        Q = Q * Qn / Qd\n",
    "        \n",
    "        Pn = np.dot(Q, RT)\n",
    "        Pd = np.dot(Q, PQzero.T) + eps\n",
    "        #P = np.matrix(np.array(P) * np.array(Pn) / np.array(Pd))\n",
    "        P = P * Pn / Pd\n",
    "        \n",
    "        error = get_error(R, P, Q, beta)\n",
    "        if step % 100 == 0:\n",
    "            time_spent = time.time()-t1\n",
    "            print(\"step: \" + str(step) + \" error: \" + str(error) + \" time: \" + str(time_spent) + \"秒\")\n",
    "        step += 1\n",
    "        if error < threshold or step >= steps:\n",
    "            time_spent = time.time()-t1\n",
    "            print(\"step: \" + str(step) + \" error: \" + str(error) + \" time: \" + str(time_spent) + \"秒\")\n",
    "            break\n",
    "    return P, Q"
   ]
  },
  {
   "cell_type": "code",
   "execution_count": 14,
   "metadata": {
    "scrolled": false
   },
   "outputs": [
    {
     "name": "stdout",
     "output_type": "stream",
     "text": [
      "step: 0 error: 1169324.06956 time: 0.308763027191秒\n",
      "step: 100 error: 471945.5076 time: 30.5211920738秒\n",
      "step: 200 error: 412217.4166 time: 60.2459409237秒\n",
      "step: 300 error: 387868.564395 time: 89.432352066秒\n",
      "step: 400 error: 373586.313671 time: 118.117511034秒\n",
      "step: 500 error: 363830.64249 time: 146.011734962秒\n",
      "step: 600 error: 356710.757644 time: 173.600703955秒\n",
      "step: 700 error: 351338.596722 time: 201.169296026秒\n",
      "step: 800 error: 347219.320388 time: 228.901756048秒\n",
      "step: 900 error: 344041.435828 time: 260.118957996秒\n",
      "step: 1000 error: 341585.759652 time: 289.894877911秒\n",
      "step: 1100 error: 339674.358416 time: 317.735753059秒\n",
      "step: 1200 error: 338183.749432 time: 346.521696091秒\n",
      "step: 1300 error: 337019.093593 time: 376.492044926秒\n",
      "step: 1400 error: 336107.38968 time: 406.477260113秒\n",
      "step: 1500 error: 335393.451142 time: 437.333063126秒\n",
      "step: 1600 error: 334835.264971 time: 465.301778078秒\n",
      "step: 1700 error: 334399.705112 time: 493.160097122秒\n",
      "step: 1800 error: 334060.265279 time: 521.526790142秒\n",
      "step: 1900 error: 333795.913052 time: 549.833131075秒\n",
      "step: 2000 error: 333590.108773 time: 579.455435038秒\n",
      "step: 2100 error: 333429.90888 time: 607.315253019秒\n",
      "step: 2200 error: 333305.209174 time: 635.117243052秒\n",
      "step: 2300 error: 333208.13147 time: 663.347121954秒\n",
      "step: 2400 error: 333132.537448 time: 690.719429016秒\n",
      "step: 2500 error: 333073.648045 time: 717.948822975秒\n",
      "step: 2600 error: 333027.744832 time: 745.187390089秒\n",
      "step: 2700 error: 332991.935039 time: 772.472593069秒\n",
      "step: 2800 error: 332963.968707 time: 799.946613073秒\n",
      "step: 2900 error: 332942.098368 time: 827.071931124秒\n",
      "step: 3000 error: 332924.970973 time: 855.321049929秒\n",
      "step: 3100 error: 332911.542389 time: 882.816683054秒\n",
      "step: 3200 error: 332901.008091 time: 910.170351982秒\n",
      "step: 3300 error: 332892.747097 time: 937.508063078秒\n",
      "step: 3400 error: 332886.277188 time: 964.790056944秒\n",
      "step: 3500 error: 332881.219849 time: 992.471001148秒\n",
      "step: 3600 error: 332877.275094 time: 1019.77004695秒\n",
      "step: 3700 error: 332874.20536 time: 1047.02183414秒\n",
      "step: 3800 error: 332871.823392 time: 1074.32191205秒\n",
      "step: 3900 error: 332869.981165 time: 1101.84770608秒\n",
      "step: 4000 error: 332868.560955 time: 1129.31489897秒\n",
      "step: 4100 error: 332867.469026 time: 1156.59980512秒\n",
      "step: 4200 error: 332866.631126 time: 1183.9152751秒\n",
      "step: 4300 error: 332865.988943 time: 1211.19057012秒\n",
      "step: 4400 error: 332865.497109 time: 1238.54986691秒\n",
      "step: 4500 error: 332865.120603 time: 1265.95267391秒\n",
      "step: 4600 error: 332864.832541 time: 1293.50426602秒\n",
      "step: 4700 error: 332864.612351 time: 1320.88678908秒\n",
      "step: 4800 error: 332864.44431 time: 1348.3312521秒\n",
      "step: 4900 error: 332864.316399 time: 1375.56433296秒\n",
      "step: 5000 error: 19024.3071347 time: 1402.68142295秒\n"
     ]
    }
   ],
   "source": [
    "#0対応、行列形式NMF\n",
    "nP2, nQ2 = nmf_fill0(mat, 5, threshold=1.0)"
   ]
  },
  {
   "cell_type": "code",
   "execution_count": 12,
   "metadata": {
    "collapsed": true
   },
   "outputs": [],
   "source": [
    "mats, mat = make_crossmat(train_small)"
   ]
  },
  {
   "cell_type": "code",
   "execution_count": 31,
   "metadata": {},
   "outputs": [
    {
     "name": "stdout",
     "output_type": "stream",
     "text": [
      "0.740542173386\n"
     ]
    }
   ],
   "source": [
    "from sklearn.decomposition import NMF\n",
    "import time\n",
    "a = time.time()\n",
    "model = NMF(n_components=5, init='random', random_state=1234, solver='mu', max_iter=5000)\n",
    "P = model.fit_transform(mat)\n",
    "print(time.time() - a)\n",
    "Q = model.components_"
   ]
  },
  {
   "cell_type": "code",
   "execution_count": 32,
   "metadata": {
    "scrolled": true
   },
   "outputs": [
    {
     "data": {
      "text/plain": [
       "array([[  7.69162170e-02,   3.17980203e-02,   2.52162046e-03, ...,\n",
       "          1.66823653e-05,   1.98816803e-06,   7.95266129e-06],\n",
       "       [  5.93791182e-03,   4.84559521e-03,   3.02540885e-03, ...,\n",
       "          1.94637001e-05,   1.62656651e-05,   6.50626828e-05],\n",
       "       [  1.46796400e-01,   8.12094937e-02,   8.29235164e-03, ...,\n",
       "          6.73503951e-05,   5.15323487e-06,   2.06132920e-05],\n",
       "       ..., \n",
       "       [  3.25226278e-05,   1.06146010e-03,   3.30362939e-03, ...,\n",
       "          3.21602302e-05,   2.16176508e-05,   8.64705463e-05],\n",
       "       [  8.20051459e-18,   7.44756229e-04,   7.16804000e-03, ...,\n",
       "          8.15745551e-05,   4.64320695e-05,   1.85728123e-04],\n",
       "       [  2.02910390e-06,   3.84158296e-04,   1.16469210e-03, ...,\n",
       "          2.98028200e-05,   7.54284666e-06,   3.01713173e-05]])"
      ]
     },
     "execution_count": 32,
     "metadata": {},
     "output_type": "execute_result"
    }
   ],
   "source": [
    "np.dot(P,Q)"
   ]
  },
  {
   "cell_type": "code",
   "execution_count": 36,
   "metadata": {
    "scrolled": true
   },
   "outputs": [
    {
     "name": "stdout",
     "output_type": "stream",
     "text": [
      "step: 0 error: 2234424.74622 time: 1.02489280701秒\n",
      "step: 100 error: 39729.7506608 time: 96.6069188118秒\n"
     ]
    }
   ],
   "source": [
    "P2, Q2 = nmf_fill0(mat, 5, steps=100, threshold=1.0)"
   ]
  },
  {
   "cell_type": "code",
   "execution_count": 37,
   "metadata": {},
   "outputs": [
    {
     "data": {
      "text/plain": [
       "array([[  1.35709294,   1.46196981,   1.00360502, ...,   2.3443885 ,\n",
       "          1.08086081,   4.10224112],\n",
       "       [  0.69805482,   0.32267611,   0.36045613, ...,   0.84946597,\n",
       "          0.47163464,   1.59722981],\n",
       "       [ 17.03101372,   1.23381061,   1.3469825 , ...,   7.82539811,\n",
       "          1.68638439,   6.88018632],\n",
       "       ..., \n",
       "       [  0.14041454,   1.05066873,   0.74191489, ...,   1.28964253,\n",
       "          0.80119722,   2.77309626],\n",
       "       [  6.06020697,   0.07562143,   0.19234019, ...,   3.28330472,\n",
       "          0.47523522,   2.17484356],\n",
       "       [  0.0907585 ,   0.28772872,   0.18107451, ...,   0.81720424,\n",
       "          0.36414047,   0.6804144 ]])"
      ]
     },
     "execution_count": 37,
     "metadata": {},
     "output_type": "execute_result"
    }
   ],
   "source": [
    "np.dot(P2.T, Q2)"
   ]
  },
  {
   "cell_type": "code",
   "execution_count": 38,
   "metadata": {},
   "outputs": [
    {
     "data": {
      "text/plain": [
       "array([[  3.,   4.,   2., ...,   0.,   0.,   0.],\n",
       "       [  2.,   0.,   0., ...,   0.,   0.,   0.],\n",
       "       [ 35.,   3.,   0., ...,   0.,   0.,   0.],\n",
       "       ..., \n",
       "       [  0.,   0.,   0., ...,   0.,   0.,   0.],\n",
       "       [  0.,   0.,   0., ...,   0.,   0.,   0.],\n",
       "       [  0.,   0.,   0., ...,   0.,   0.,   0.]])"
      ]
     },
     "execution_count": 38,
     "metadata": {},
     "output_type": "execute_result"
    }
   ],
   "source": [
    "mat"
   ]
  },
  {
   "cell_type": "code",
   "execution_count": 22,
   "metadata": {},
   "outputs": [
    {
     "data": {
      "text/plain": [
       "((100, 13606), (100, 5), (5, 13606))"
      ]
     },
     "execution_count": 22,
     "metadata": {},
     "output_type": "execute_result"
    }
   ],
   "source": [
    "mat.shape, P.shape, Q.shape"
   ]
  },
  {
   "cell_type": "code",
   "execution_count": 59,
   "metadata": {},
   "outputs": [
    {
     "data": {
      "text/plain": [
       "array([[ 1.00223542,  1.99726797,  3.0010699 ],\n",
       "       [ 3.99777552,  5.00294609,  5.99902464],\n",
       "       [ 7.00095024,  7.99883951,  9.00029336]])"
      ]
     },
     "execution_count": 59,
     "metadata": {},
     "output_type": "execute_result"
    }
   ],
   "source": [
    "a = np.array([\n",
    "    [1, 2, 3],\n",
    "    [4, 5, 6],\n",
    "    [7, 8, 9]\n",
    "])\n",
    "m = NMF(n_components=3, solver='mu', max_iter=5000)\n",
    "P3 = m.fit_transform(a)\n",
    "Q3 = m.components_\n",
    "np.dot(P3, Q3)"
   ]
  },
  {
   "cell_type": "code",
   "execution_count": 66,
   "metadata": {
    "scrolled": false
   },
   "outputs": [
    {
     "name": "stdout",
     "output_type": "stream",
     "text": [
      "step: 0 error: 101904.250913 time: 0.00105094909668秒\n",
      "step: 100 error: 101883.726371 time: 0.0157079696655秒\n",
      "step: 200 error: 101883.72637 time: 0.0308139324188秒\n",
      "step: 300 error: 101883.72637 time: 0.0448179244995秒\n",
      "step: 400 error: 101883.72637 time: 0.0609059333801秒\n",
      "step: 500 error: 101883.72637 time: 0.0743689537048秒\n",
      "step: 600 error: 101883.72637 time: 0.0862989425659秒\n",
      "step: 700 error: 101883.72637 time: 0.0981948375702秒\n",
      "step: 800 error: 101883.72637 time: 0.112870931625秒\n",
      "step: 900 error: 101883.72637 time: 0.125466823578秒\n",
      "step: 1000 error: 101883.72637 time: 0.136785030365秒\n",
      "step: 1100 error: 101883.72637 time: 0.148538827896秒\n",
      "step: 1200 error: 101883.72637 time: 0.162205934525秒\n",
      "step: 1300 error: 101883.72637 time: 0.174134016037秒\n",
      "step: 1400 error: 101883.72637 time: 0.185349941254秒\n",
      "step: 1500 error: 101883.72637 time: 0.198217868805秒\n",
      "step: 1600 error: 101883.72637 time: 0.214622020721秒\n",
      "step: 1700 error: 101883.72637 time: 0.230722904205秒\n",
      "step: 1800 error: 101883.72637 time: 0.244843959808秒\n",
      "step: 1900 error: 101883.72637 time: 0.259212970734秒\n",
      "step: 2000 error: 101883.72637 time: 0.27321100235秒\n",
      "step: 2100 error: 101883.72637 time: 0.308588981628秒\n",
      "step: 2200 error: 101883.72637 time: 0.321548938751秒\n",
      "step: 2300 error: 101883.72637 time: 0.334016799927秒\n",
      "step: 2400 error: 101883.72637 time: 0.345143795013秒\n",
      "step: 2500 error: 101883.72637 time: 0.358874797821秒\n",
      "step: 2600 error: 101883.72637 time: 0.372161865234秒\n",
      "step: 2700 error: 101883.72637 time: 0.383992910385秒\n",
      "step: 2800 error: 101883.72637 time: 0.396682024002秒\n",
      "step: 2900 error: 101883.72637 time: 0.409691810608秒\n",
      "step: 3000 error: 101883.72637 time: 0.426504850388秒\n",
      "step: 3100 error: 101883.72637 time: 0.440868854523秒\n",
      "step: 3200 error: 101883.72637 time: 0.45410490036秒\n",
      "step: 3300 error: 101883.72637 time: 0.466984987259秒\n",
      "step: 3400 error: 101883.72637 time: 0.479203939438秒\n",
      "step: 3500 error: 101883.72637 time: 0.494766950607秒\n",
      "step: 3600 error: 101883.72637 time: 0.506800889969秒\n",
      "step: 3700 error: 101883.72637 time: 0.518857002258秒\n",
      "step: 3800 error: 101883.72637 time: 0.53302693367秒\n",
      "step: 3900 error: 101883.72637 time: 0.546002864838秒\n",
      "step: 4000 error: 101883.72637 time: 0.559849977493秒\n",
      "step: 4100 error: 101883.72637 time: 0.574592828751秒\n",
      "step: 4200 error: 101883.72637 time: 0.586537837982秒\n",
      "step: 4300 error: 101883.72637 time: 0.598616838455秒\n",
      "step: 4400 error: 101883.72637 time: 0.611768960953秒\n",
      "step: 4500 error: 101883.72637 time: 0.624853849411秒\n",
      "step: 4600 error: 101883.72637 time: 0.645495891571秒\n",
      "step: 4700 error: 101883.72637 time: 0.665541887283秒\n",
      "step: 4800 error: 101883.72637 time: 0.678125858307秒\n",
      "step: 4900 error: 101883.72637 time: 0.691500902176秒\n",
      "step: 5000 error: 101883.72637 time: 0.713944911957秒\n",
      "step: 5100 error: 101883.72637 time: 0.727233886719秒\n",
      "step: 5200 error: 101883.72637 time: 0.740345001221秒\n",
      "step: 5300 error: 101883.72637 time: 0.754724979401秒\n",
      "step: 5400 error: 101883.72637 time: 0.768059968948秒\n",
      "step: 5500 error: 101883.72637 time: 0.781309843063秒\n",
      "step: 5600 error: 101883.72637 time: 0.794672966003秒\n",
      "step: 5700 error: 101883.72637 time: 0.807812929153秒\n",
      "step: 5800 error: 101883.72637 time: 0.820652961731秒\n",
      "step: 5900 error: 101883.72637 time: 0.833289861679秒\n",
      "step: 6000 error: 101883.72637 time: 0.849157810211秒\n",
      "step: 6100 error: 101883.72637 time: 0.86212182045秒\n",
      "step: 6200 error: 101883.72637 time: 0.876181840897秒\n",
      "step: 6300 error: 101883.72637 time: 0.888893842697秒\n",
      "step: 6400 error: 101883.72637 time: 0.900619983673秒\n",
      "step: 6500 error: 101883.72637 time: 0.914932012558秒\n",
      "step: 6600 error: 101883.72637 time: 0.933537006378秒\n",
      "step: 6700 error: 101883.72637 time: 0.946507930756秒\n",
      "step: 6800 error: 101883.72637 time: 0.960165977478秒\n",
      "step: 6900 error: 101883.72637 time: 0.974542856216秒\n",
      "step: 7000 error: 101883.72637 time: 0.994735956192秒\n",
      "step: 7100 error: 101883.72637 time: 1.01977682114秒\n",
      "step: 7200 error: 101883.72637 time: 1.03950095177秒\n",
      "step: 7300 error: 101883.72637 time: 1.06155395508秒\n",
      "step: 7400 error: 101883.72637 time: 1.08139395714秒\n",
      "step: 7500 error: 101883.72637 time: 1.09977388382秒\n",
      "step: 7600 error: 101883.72637 time: 1.11871099472秒\n",
      "step: 7700 error: 101883.72637 time: 1.13855099678秒\n",
      "step: 7800 error: 101883.72637 time: 1.15706586838秒\n",
      "step: 7900 error: 101883.72637 time: 1.17585086823秒\n",
      "step: 8000 error: 101883.72637 time: 1.19480490685秒\n",
      "step: 8100 error: 101883.72637 time: 1.21369290352秒\n",
      "step: 8200 error: 101883.72637 time: 1.23401379585秒\n",
      "step: 8300 error: 101883.72637 time: 1.25187301636秒\n",
      "step: 8400 error: 101883.72637 time: 1.26510095596秒\n",
      "step: 8500 error: 101883.72637 time: 1.28001093864秒\n",
      "step: 8600 error: 101883.72637 time: 1.29365086555秒\n",
      "step: 8700 error: 101883.72637 time: 1.30960392952秒\n",
      "step: 8800 error: 101883.72637 time: 1.32286787033秒\n",
      "step: 8900 error: 101883.72637 time: 1.33538198471秒\n",
      "step: 9000 error: 101883.72637 time: 1.34839582443秒\n",
      "step: 9100 error: 101883.72637 time: 1.36322402954秒\n",
      "step: 9200 error: 101883.72637 time: 1.37614798546秒\n",
      "step: 9300 error: 101883.72637 time: 1.38909888268秒\n",
      "step: 9400 error: 101883.72637 time: 1.40316295624秒\n",
      "step: 9500 error: 101883.72637 time: 1.41597485542秒\n",
      "step: 9600 error: 101883.72637 time: 1.42778587341秒\n",
      "step: 9700 error: 101883.72637 time: 1.44203400612秒\n",
      "step: 9800 error: 101883.72637 time: 1.45594787598秒\n",
      "step: 9900 error: 101883.72637 time: 1.47666501999秒\n",
      "step: 10000 error: 257.268085178 time: 1.50153493881秒\n"
     ]
    },
    {
     "data": {
      "text/plain": [
       "array([[ 0.0870496 ,  0.10387196,  0.12069433],\n",
       "       [ 0.21093607,  0.25169954,  0.29246301],\n",
       "       [ 0.33482255,  0.39952712,  0.46423169]])"
      ]
     },
     "execution_count": 66,
     "metadata": {},
     "output_type": "execute_result"
    }
   ],
   "source": [
    "P4, Q4 = nmf_fill0(a, 1, steps=5000)\n",
    "np.dot(P4.T, Q4)"
   ]
  },
  {
   "cell_type": "code",
   "execution_count": null,
   "metadata": {
    "collapsed": true
   },
   "outputs": [],
   "source": []
  }
 ],
 "metadata": {
  "kernelspec": {
   "display_name": "Python 2",
   "language": "python",
   "name": "python2"
  },
  "language_info": {
   "codemirror_mode": {
    "name": "ipython",
    "version": 2
   },
   "file_extension": ".py",
   "mimetype": "text/x-python",
   "name": "python",
   "nbconvert_exporter": "python",
   "pygments_lexer": "ipython2",
   "version": "2.7.11"
  }
 },
 "nbformat": 4,
 "nbformat_minor": 2
}
