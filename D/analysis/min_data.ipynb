{
 "cells": [
  {
   "cell_type": "code",
   "execution_count": 1,
   "metadata": {
    "collapsed": true
   },
   "outputs": [],
   "source": [
    "import pandas as pd\n",
    "from matplotlib import pyplot as plt\n",
    "from IPython.core.display import display\n",
    "import seaborn as sns\n",
    "%matplotlib inline\n",
    "\n",
    "def _id_str2int(str_id):\n",
    "        \"\"\"\n",
    "        idを文字からint型に変換する。\n",
    "        idをint型で扱った方が、評価値の表にするときにidをindexとすることができ、扱いやすいため。\n",
    "\n",
    "        Example\n",
    "        ------\n",
    "        \"000000_A\" => 0\n",
    "        \"000034_A\" => 34\n",
    "        \"000103_a\" => 103\n",
    "\n",
    "        \"\"\"\n",
    "        return int(str_id.split(\"_\")[0])"
   ]
  },
  {
   "cell_type": "code",
   "execution_count": 2,
   "metadata": {
    "collapsed": true
   },
   "outputs": [],
   "source": [
    "df = pd.read_csv(\"../../data/train/train_D.tsv\", sep=\"\\t\")\n",
    "user_df = pd.read_csv(\"../../data/train/clustered_user_with_cv_D.csv\")\n",
    "product_df = pd.read_csv(\"../../data/train/clustered_product_without_cv_D.csv\")"
   ]
  },
  {
   "cell_type": "code",
   "execution_count": 5,
   "metadata": {
    "collapsed": true
   },
   "outputs": [],
   "source": [
    "# product_df[[\"product_id\", \"cluster\"]].to_csv(\"../../data/train/product_cluster_D.csv\", index=False)"
   ]
  },
  {
   "cell_type": "code",
   "execution_count": 3,
   "metadata": {
    "collapsed": true
   },
   "outputs": [],
   "source": [
    "clustered_df = pd.merge(df, product_df[[\"product_id\",\"cluster\"]], on=\"product_id\")"
   ]
  },
  {
   "cell_type": "code",
   "execution_count": 10,
   "metadata": {
    "collapsed": true
   },
   "outputs": [],
   "source": [
    "# clustered_df[clustered_df[\"cluster\"] != 0].to_csv(\"../../data/train/min_D.csv\", index=False)"
   ]
  },
  {
   "cell_type": "code",
   "execution_count": 4,
   "metadata": {},
   "outputs": [],
   "source": [
    "min_df = clustered_df[clustered_df[\"cluster\"] != 0].reset_index(drop=True)"
   ]
  },
  {
   "cell_type": "code",
   "execution_count": 5,
   "metadata": {},
   "outputs": [],
   "source": [
    "min_df.user_id = min_df.user_id.apply(_id_str2int)\n",
    "min_df.product_id = min_df.product_id.apply(_id_str2int)"
   ]
  },
  {
   "cell_type": "code",
   "execution_count": 7,
   "metadata": {},
   "outputs": [],
   "source": [
    "user_list = min_df.user_id.values.tolist()\n",
    "user_ids = list(set(user_list))\n",
    "user_dict = dict()\n",
    "for i, user in enumerate(user_ids):\n",
    "    user_dict[user] = i\n",
    "\n",
    "product_list = min_df.product_id.values.tolist()\n",
    "product_ids = list(set(product_list))\n",
    "product_dict = dict()\n",
    "for i, product in enumerate(product_ids):\n",
    "    product_dict[product] = i"
   ]
  },
  {
   "cell_type": "code",
   "execution_count": 8,
   "metadata": {
    "collapsed": true
   },
   "outputs": [],
   "source": [
    "def user_ind(id):\n",
    "    return user_dict[id]\n",
    "\n",
    "def product_ind(id):\n",
    "    return product_dict[id]"
   ]
  },
  {
   "cell_type": "code",
   "execution_count": 9,
   "metadata": {},
   "outputs": [],
   "source": [
    "min_df.user_id = min_df.user_id.apply(user_ind)\n",
    "min_df.product_id = min_df.product_id.apply(product_ind)"
   ]
  },
  {
   "cell_type": "code",
   "execution_count": 11,
   "metadata": {},
   "outputs": [],
   "source": [
    "min_df.to_csv(\"../../data/train/min_D2.csv\", index=False)"
   ]
  },
  {
   "cell_type": "code",
   "execution_count": null,
   "metadata": {
    "collapsed": true
   },
   "outputs": [],
   "source": [
    "with open(\"../data/train/user_index_D2.csv\",\"w\") as f:\n",
    "        writer = csv.DictWriter(f, delimiter=',')\n",
    "        for user_id, values in user_ids:\n",
    "            row = [user_id].extend(values)\n",
    "            writer.writerow(row)"
   ]
  }
 ],
 "metadata": {
  "kernelspec": {
   "display_name": "Python 3",
   "language": "python",
   "name": "python3"
  },
  "language_info": {
   "codemirror_mode": {
    "name": "ipython",
    "version": 3
   },
   "file_extension": ".py",
   "mimetype": "text/x-python",
   "name": "python",
   "nbconvert_exporter": "python",
   "pygments_lexer": "ipython3",
   "version": "3.6.1"
  }
 },
 "nbformat": 4,
 "nbformat_minor": 2
}
